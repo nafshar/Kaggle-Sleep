{
 "cells": [
  {
   "cell_type": "markdown",
   "metadata": {},
   "source": [
    "# Feature Engineering and Random Forest Prediction to Detect Sleep States"
   ]
  },
  {
   "cell_type": "code",
   "execution_count": 2,
   "metadata": {
    "_cell_guid": "b1076dfc-b9ad-4769-8c92-a6c4dae69d19",
    "_uuid": "8f2839f25d086af736a60e9eeb907d3b93b6e0e5",
    "execution": {
     "iopub.execute_input": "2023-10-12T19:03:03.851951Z",
     "iopub.status.busy": "2023-10-12T19:03:03.851520Z",
     "iopub.status.idle": "2023-10-12T19:03:05.228449Z",
     "shell.execute_reply": "2023-10-12T19:03:05.227166Z",
     "shell.execute_reply.started": "2023-10-12T19:03:03.851910Z"
    }
   },
   "outputs": [],
   "source": [
    "import numpy as np \n",
    "import pandas as pd\n",
    "import matplotlib.pyplot as plt\n",
    "import polars as pl\n",
    "import datetime \n",
    "from tqdm import tqdm\n",
    "\n",
    "import plotly.express as px\n",
    "from plotly.subplots import make_subplots\n",
    "import plotly.graph_objects as go\n",
    "\n",
    "from metric import score # Import event detection ap score function\n",
    "\n",
    "# These are variables to be used by the score function\n",
    "column_names = {\n",
    "    'series_id_column_name': 'series_id',\n",
    "    'time_column_name': 'step',\n",
    "    'event_column_name': 'event',\n",
    "    'score_column_name': 'score',\n",
    "}\n",
    "\n",
    "tolerances = {\n",
    "    'onset': [12, 36, 60, 90, 120, 150, 180, 240, 300, 360], \n",
    "    'wakeup': [12, 36, 60, 90, 120, 150, 180, 240, 300, 360]\n",
    "}"
   ]
  },
  {
   "cell_type": "markdown",
   "metadata": {},
   "source": [
    "## Importing data"
   ]
  },
  {
   "cell_type": "code",
   "execution_count": 3,
   "metadata": {
    "execution": {
     "iopub.execute_input": "2023-10-12T19:03:05.231462Z",
     "iopub.status.busy": "2023-10-12T19:03:05.230910Z",
     "iopub.status.idle": "2023-10-12T19:03:05.720259Z",
     "shell.execute_reply": "2023-10-12T19:03:05.719175Z",
     "shell.execute_reply.started": "2023-10-12T19:03:05.231430Z"
    }
   },
   "outputs": [],
   "source": [
    "# Importing data \n",
    "#path = '/kaggle/input/child-mind-institute-detect-sleep-states/'\n",
    "path = './Data/'\n",
    "\n",
    "# Column transformations\n",
    "\n",
    "dt_transforms = [\n",
    "    pl.col('timestamp').str.to_datetime(), \n",
    "    (pl.col('timestamp').str.to_datetime().dt.year()-2000).cast(pl.UInt8).alias('year'), \n",
    "    pl.col('timestamp').str.to_datetime().dt.month().cast(pl.UInt8).alias('month'),\n",
    "    pl.col('timestamp').str.to_datetime().dt.day().cast(pl.UInt8).alias('day'), \n",
    "    pl.col('timestamp').str.to_datetime().dt.hour().cast(pl.UInt8).alias('hour')\n",
    "]\n",
    "\n",
    "data_transforms = [\n",
    "    pl.col('anglez').cast(pl.Int16), # Casting anglez to 16 bit integer\n",
    "    (pl.col('enmo')*1000).cast(pl.UInt16), # Convert enmo to 16 bit uint\n",
    "]\n",
    "\n",
    "train_series = pl.scan_parquet(path + 'train_series.parquet').with_columns(\n",
    "    dt_transforms + data_transforms\n",
    "    )\n",
    "\n",
    "train_events = pl.read_csv(path + 'train_events.csv').with_columns(\n",
    "    dt_transforms\n",
    "    )\n",
    "\n",
    "test_series = pl.scan_parquet(path + 'test_series.parquet').with_columns(\n",
    "    dt_transforms + data_transforms\n",
    "    )\n",
    "\n",
    "# Getting series ids as a list for convenience\n",
    "series_ids = train_events['series_id'].unique(maintain_order=True).to_list()\n",
    "\n",
    "# Removing series with mismatched counts: \n",
    "onset_counts = train_events.filter(pl.col('event')=='onset').group_by('series_id').count().sort('series_id')['count']\n",
    "wakeup_counts = train_events.filter(pl.col('event')=='wakeup').group_by('series_id').count().sort('series_id')['count']\n",
    "\n",
    "counts = pl.DataFrame({'series_id':sorted(series_ids), 'onset_counts':onset_counts, 'wakeup_counts':wakeup_counts})\n",
    "count_mismatches = counts.filter(counts['onset_counts'] != counts['wakeup_counts'])\n",
    "\n",
    "train_series = train_series.filter(~pl.col('series_id').is_in(count_mismatches['series_id']))\n",
    "train_events = train_events.filter(~pl.col('series_id').is_in(count_mismatches['series_id']))\n",
    "\n",
    "# Updating list of series ids, not including series with no non-null values.\n",
    "series_ids = train_events.drop_nulls()['series_id'].unique(maintain_order=True).to_list()"
   ]
  },
  {
   "cell_type": "code",
   "execution_count": 4,
   "metadata": {
    "execution": {
     "iopub.execute_input": "2023-10-12T19:03:05.722339Z",
     "iopub.status.busy": "2023-10-12T19:03:05.722031Z",
     "iopub.status.idle": "2023-10-12T19:03:05.726594Z",
     "shell.execute_reply": "2023-10-12T19:03:05.725834Z",
     "shell.execute_reply.started": "2023-10-12T19:03:05.722309Z"
    }
   },
   "outputs": [],
   "source": [
    "# Define a custom function to compute FFT\n",
    "def compute_fft(row):\n",
    "    row = np.nan_to_num(row)  # Replace NaN values with zeros\n",
    "    return pl.Series(np.absolute(np.fft.fft(row).real.astype(np.int64)))"
   ]
  },
  {
   "cell_type": "markdown",
   "metadata": {},
   "source": [
    "## Feature Engineering"
   ]
  },
  {
   "cell_type": "code",
   "execution_count": 5,
   "metadata": {
    "execution": {
     "iopub.execute_input": "2023-10-12T19:03:05.729763Z",
     "iopub.status.busy": "2023-10-12T19:03:05.729427Z",
     "iopub.status.idle": "2023-10-12T19:03:05.745854Z",
     "shell.execute_reply": "2023-10-12T19:03:05.744541Z",
     "shell.execute_reply.started": "2023-10-12T19:03:05.729739Z"
    },
    "jupyter": {
     "source_hidden": true
    }
   },
   "outputs": [],
   "source": [
    "# len(test_series.select('enmo').collect())"
   ]
  },
  {
   "cell_type": "code",
   "execution_count": 6,
   "metadata": {
    "execution": {
     "iopub.execute_input": "2023-10-12T19:03:05.762213Z",
     "iopub.status.busy": "2023-10-12T19:03:05.761536Z",
     "iopub.status.idle": "2023-10-12T19:03:05.777360Z",
     "shell.execute_reply": "2023-10-12T19:03:05.776245Z",
     "shell.execute_reply.started": "2023-10-12T19:03:05.762186Z"
    },
    "jupyter": {
     "source_hidden": true
    }
   },
   "outputs": [],
   "source": [
    "# len(test_series.select('enmo_fft').collect())"
   ]
  },
  {
   "cell_type": "code",
   "execution_count": 7,
   "metadata": {
    "execution": {
     "iopub.execute_input": "2023-10-12T19:03:05.779373Z",
     "iopub.status.busy": "2023-10-12T19:03:05.778480Z",
     "iopub.status.idle": "2023-10-12T19:03:05.793911Z",
     "shell.execute_reply": "2023-10-12T19:03:05.792925Z",
     "shell.execute_reply.started": "2023-10-12T19:03:05.779346Z"
    }
   },
   "outputs": [],
   "source": [
    "features, feature_cols = [pl.col('hour')], ['hour']\n",
    "\n",
    " # Compute the FFT for each row and create a new column\n",
    "enmo_fft_column = (pl.col('enmo').cast(pl.Float32).map_batches(compute_fft) * 1000).alias('enmo_fft').cast(pl.Int64)\n",
    "\n",
    "# Add the new column to the features list\n",
    "features.append(enmo_fft_column)\n",
    "\n",
    "# Add the corresponding feature column name\n",
    "feature_cols.append('enmo_fft')\n",
    "\n",
    "for mins in [5, 30] :\n",
    "    \n",
    "    \n",
    "#     features += [\n",
    "#         pl.col('enmo').rolling_mean(12 * mins, center=True, min_periods=1).abs().cast(pl.UInt16).alias(f'enmo_{mins}m_mean'),\n",
    "#         pl.col('enmo').rolling_max(12 * mins, center=True, min_periods=1).abs().cast(pl.UInt16).alias(f'enmo_{mins}m_max')\n",
    "#     ]\n",
    "\n",
    "#     feature_cols += [ \n",
    "#         f'enmo_{mins}m_mean', f'enmo_{mins}m_max'\n",
    "#     ]\n",
    "\n",
    "    # Getting first variations\n",
    "    # multiplying the data by 10 so they can be represneted as int vs float\n",
    "    for var in ['enmo', 'anglez'] :\n",
    "        features += [\n",
    "            (pl.col(var).diff().abs().rolling_mean(12 * mins, center=True, min_periods=1)*10).abs().cast(pl.UInt32).alias(f'{var}_1v_{mins}m_mean'),\n",
    "            (pl.col(var).diff().abs().rolling_max(12 * mins, center=True, min_periods=1)*10).abs().cast(pl.UInt32).alias(f'{var}_1v_{mins}m_max')\n",
    "        ]\n",
    "\n",
    "        feature_cols += [ \n",
    "            f'{var}_1v_{mins}m_mean', f'{var}_1v_{mins}m_max'\n",
    "       ]\n",
    "\n",
    "id_cols = ['series_id', 'step', 'timestamp']\n",
    "\n",
    "train_series = train_series.with_columns(\n",
    "    features\n",
    ").select(id_cols + feature_cols)\n",
    "\n",
    "test_series = test_series.with_columns(\n",
    "    features\n",
    ").select(id_cols + feature_cols)"
   ]
  },
  {
   "cell_type": "code",
   "execution_count": 8,
   "metadata": {
    "execution": {
     "iopub.execute_input": "2023-10-12T19:03:05.796263Z",
     "iopub.status.busy": "2023-10-12T19:03:05.795015Z",
     "iopub.status.idle": "2023-10-12T19:03:05.811276Z",
     "shell.execute_reply": "2023-10-12T19:03:05.809575Z",
     "shell.execute_reply.started": "2023-10-12T19:03:05.796225Z"
    }
   },
   "outputs": [
    {
     "data": {
      "text/plain": [
       "{'series_id': Utf8,\n",
       " 'step': UInt32,\n",
       " 'timestamp': Datetime(time_unit='us', time_zone=None),\n",
       " 'hour': UInt8,\n",
       " 'enmo_fft': Int64,\n",
       " 'enmo_1v_5m_mean': UInt32,\n",
       " 'enmo_1v_5m_max': UInt32,\n",
       " 'anglez_1v_5m_mean': UInt32,\n",
       " 'anglez_1v_5m_max': UInt32,\n",
       " 'enmo_1v_30m_mean': UInt32,\n",
       " 'enmo_1v_30m_max': UInt32,\n",
       " 'anglez_1v_30m_mean': UInt32,\n",
       " 'anglez_1v_30m_max': UInt32}"
      ]
     },
     "execution_count": 8,
     "metadata": {},
     "output_type": "execute_result"
    }
   ],
   "source": [
    "test_series.schema"
   ]
  },
  {
   "cell_type": "code",
   "execution_count": 9,
   "metadata": {
    "execution": {
     "iopub.execute_input": "2023-10-12T19:03:05.814407Z",
     "iopub.status.busy": "2023-10-12T19:03:05.812967Z",
     "iopub.status.idle": "2023-10-12T19:03:05.856600Z",
     "shell.execute_reply": "2023-10-12T19:03:05.855853Z",
     "shell.execute_reply.started": "2023-10-12T19:03:05.814369Z"
    }
   },
   "outputs": [
    {
     "name": "stdout",
     "output_type": "stream",
     "text": [
      "shape: (1, 1)\n",
      "┌──────────┐\n",
      "│ enmo_fft │\n",
      "│ ---      │\n",
      "│ i64      │\n",
      "╞══════════╡\n",
      "│ 13488000 │\n",
      "└──────────┘\n",
      "shape: (1, 1)\n",
      "┌──────────┐\n",
      "│ enmo_fft │\n",
      "│ ---      │\n",
      "│ i64      │\n",
      "╞══════════╡\n",
      "│ 3000     │\n",
      "└──────────┘\n"
     ]
    }
   ],
   "source": [
    "print(test_series.select(pl.max('enmo_fft')).collect())\n",
    "print(test_series.select(pl.min('enmo_fft')).collect())"
   ]
  },
  {
   "cell_type": "code",
   "execution_count": 10,
   "metadata": {
    "execution": {
     "iopub.execute_input": "2023-10-12T19:03:05.859655Z",
     "iopub.status.busy": "2023-10-12T19:03:05.858429Z",
     "iopub.status.idle": "2023-10-12T19:03:05.882901Z",
     "shell.execute_reply": "2023-10-12T19:03:05.881400Z",
     "shell.execute_reply.started": "2023-10-12T19:03:05.859603Z"
    }
   },
   "outputs": [
    {
     "data": {
      "text/html": [
       "<div><style>\n",
       ".dataframe > thead > tr > th,\n",
       ".dataframe > tbody > tr > td {\n",
       "  text-align: right;\n",
       "  white-space: pre-wrap;\n",
       "}\n",
       "</style>\n",
       "<small>shape: (5, 13)</small><table border=\"1\" class=\"dataframe\"><thead><tr><th>series_id</th><th>step</th><th>timestamp</th><th>hour</th><th>enmo_fft</th><th>enmo_1v_5m_mean</th><th>enmo_1v_5m_max</th><th>anglez_1v_5m_mean</th><th>anglez_1v_5m_max</th><th>enmo_1v_30m_mean</th><th>enmo_1v_30m_max</th><th>anglez_1v_30m_mean</th><th>anglez_1v_30m_max</th></tr><tr><td>str</td><td>u32</td><td>datetime[μs, UTC]</td><td>u8</td><td>i64</td><td>u32</td><td>u32</td><td>u32</td><td>u32</td><td>u32</td><td>u32</td><td>u32</td><td>u32</td></tr></thead><tbody><tr><td>&quot;038441c925bb&quot;</td><td>0</td><td>2018-08-14 19:30:00 UTC</td><td>19</td><td>105000</td><td>0</td><td>0</td><td>0</td><td>0</td><td>0</td><td>0</td><td>0</td><td>0</td></tr><tr><td>&quot;038441c925bb&quot;</td><td>1</td><td>2018-08-14 19:30:05 UTC</td><td>19</td><td>0</td><td>0</td><td>0</td><td>0</td><td>0</td><td>0</td><td>0</td><td>0</td><td>0</td></tr><tr><td>&quot;038441c925bb&quot;</td><td>2</td><td>2018-08-14 19:30:10 UTC</td><td>19</td><td>0</td><td>0</td><td>0</td><td>0</td><td>0</td><td>0</td><td>0</td><td>0</td><td>0</td></tr><tr><td>&quot;038441c925bb&quot;</td><td>3</td><td>2018-08-14 19:30:15 UTC</td><td>19</td><td>0</td><td>0</td><td>0</td><td>0</td><td>0</td><td>0</td><td>0</td><td>0</td><td>0</td></tr><tr><td>&quot;038441c925bb&quot;</td><td>4</td><td>2018-08-14 19:30:20 UTC</td><td>19</td><td>0</td><td>0</td><td>0</td><td>0</td><td>0</td><td>0</td><td>0</td><td>0</td><td>0</td></tr></tbody></table></div>"
      ],
      "text/plain": [
       "shape: (5, 13)\n",
       "┌──────────────┬──────┬─────────────────┬──────┬───┬────────────────┬────────────────┬────────────────┬────────────────┐\n",
       "│ series_id    ┆ step ┆ timestamp       ┆ hour ┆ … ┆ enmo_1v_30m_me ┆ enmo_1v_30m_ma ┆ anglez_1v_30m_ ┆ anglez_1v_30m_ │\n",
       "│ ---          ┆ ---  ┆ ---             ┆ ---  ┆   ┆ an             ┆ x              ┆ mean           ┆ max            │\n",
       "│ str          ┆ u32  ┆ datetime[μs,    ┆ u8   ┆   ┆ ---            ┆ ---            ┆ ---            ┆ ---            │\n",
       "│              ┆      ┆ UTC]            ┆      ┆   ┆ u32            ┆ u32            ┆ u32            ┆ u32            │\n",
       "╞══════════════╪══════╪═════════════════╪══════╪═══╪════════════════╪════════════════╪════════════════╪════════════════╡\n",
       "│ 038441c925bb ┆ 0    ┆ 2018-08-14      ┆ 19   ┆ … ┆ 0              ┆ 0              ┆ 0              ┆ 0              │\n",
       "│              ┆      ┆ 19:30:00 UTC    ┆      ┆   ┆                ┆                ┆                ┆                │\n",
       "│ 038441c925bb ┆ 1    ┆ 2018-08-14      ┆ 19   ┆ … ┆ 0              ┆ 0              ┆ 0              ┆ 0              │\n",
       "│              ┆      ┆ 19:30:05 UTC    ┆      ┆   ┆                ┆                ┆                ┆                │\n",
       "│ 038441c925bb ┆ 2    ┆ 2018-08-14      ┆ 19   ┆ … ┆ 0              ┆ 0              ┆ 0              ┆ 0              │\n",
       "│              ┆      ┆ 19:30:10 UTC    ┆      ┆   ┆                ┆                ┆                ┆                │\n",
       "│ 038441c925bb ┆ 3    ┆ 2018-08-14      ┆ 19   ┆ … ┆ 0              ┆ 0              ┆ 0              ┆ 0              │\n",
       "│              ┆      ┆ 19:30:15 UTC    ┆      ┆   ┆                ┆                ┆                ┆                │\n",
       "│ 038441c925bb ┆ 4    ┆ 2018-08-14      ┆ 19   ┆ … ┆ 0              ┆ 0              ┆ 0              ┆ 0              │\n",
       "│              ┆      ┆ 19:30:20 UTC    ┆      ┆   ┆                ┆                ┆                ┆                │\n",
       "└──────────────┴──────┴─────────────────┴──────┴───┴────────────────┴────────────────┴────────────────┴────────────────┘"
      ]
     },
     "execution_count": 10,
     "metadata": {},
     "output_type": "execute_result"
    }
   ],
   "source": [
    "test_series.fetch(5)"
   ]
  },
  {
   "cell_type": "code",
   "execution_count": 11,
   "metadata": {
    "execution": {
     "iopub.execute_input": "2023-10-12T19:03:05.884922Z",
     "iopub.status.busy": "2023-10-12T19:03:05.884499Z",
     "iopub.status.idle": "2023-10-12T19:03:05.893664Z",
     "shell.execute_reply": "2023-10-12T19:03:05.892212Z",
     "shell.execute_reply.started": "2023-10-12T19:03:05.884888Z"
    }
   },
   "outputs": [],
   "source": [
    "def make_train_dataset(train_data, train_events, drop_nulls=False) :\n",
    "    \n",
    "    series_ids = train_data['series_id'].unique(maintain_order=True).to_list()\n",
    "    X, y = pl.DataFrame(), pl.DataFrame()\n",
    "    for idx in tqdm(series_ids) : \n",
    "        \n",
    "        # Normalizing sample features\n",
    "        sample = train_data.filter(pl.col('series_id')==idx).with_columns(\n",
    "            [(pl.col(col) / pl.col(col).std()).cast(pl.Float32) for col in feature_cols if col != 'hour']\n",
    "        )\n",
    "        \n",
    "        events = train_events.filter(pl.col('series_id')==idx)\n",
    "        \n",
    "        if drop_nulls : \n",
    "            # Removing datapoints on dates where no data was recorded\n",
    "            sample = sample.filter(\n",
    "                pl.col('timestamp').dt.date().is_in(events['timestamp'].dt.date())\n",
    "            )\n",
    "        \n",
    "        X = X.vstack(sample[id_cols + feature_cols])\n",
    "\n",
    "        onsets = events.filter((pl.col('event') == 'onset') & (pl.col('step') != None))['step'].to_list()\n",
    "        wakeups = events.filter((pl.col('event') == 'wakeup') & (pl.col('step') != None))['step'].to_list()\n",
    "\n",
    "        # NOTE: This will break if there are event series without any recorded onsets or wakeups\n",
    "#         y = y.vstack(sample.with_columns(\n",
    "#             sum([(onset <= pl.col('step')) & (pl.col('step') <= wakeup) for onset, wakeup in zip(onsets, wakeups)]).cast(pl.Boolean).alias('asleep')\n",
    "#             ).select('asleep')\n",
    "#             )\n",
    "        \n",
    "        y = y.vstack(sample.with_columns(\n",
    "            sum([(onset <= pl.col('step')) & (pl.col('step') <= wakeup) for onset, wakeup in zip(onsets, wakeups)]).cast(pl.Boolean).alias('asleep')\n",
    "            ).select('asleep')\n",
    "            )\n",
    "        \n",
    "        # cast y array to a binary\n",
    "        #y = y.with_columns(pl.col('asleep')).cast(pl.UInt8)\n",
    "\n",
    "\n",
    "    \n",
    "    y = y.to_numpy().astype(int).ravel()\n",
    "    \n",
    "    return X, y"
   ]
  },
  {
   "cell_type": "code",
   "execution_count": 12,
   "metadata": {
    "execution": {
     "iopub.execute_input": "2023-10-12T19:03:05.895366Z",
     "iopub.status.busy": "2023-10-12T19:03:05.895021Z",
     "iopub.status.idle": "2023-10-12T19:03:05.908600Z",
     "shell.execute_reply": "2023-10-12T19:03:05.907386Z",
     "shell.execute_reply.started": "2023-10-12T19:03:05.895338Z"
    }
   },
   "outputs": [],
   "source": [
    "def get_events(series, classifier) :\n",
    "    '''\n",
    "    Takes a time series and a classifier and returns a formatted submission dataframe.\n",
    "    '''\n",
    "    \n",
    "    series_ids = series['series_id'].unique(maintain_order=True).to_list()\n",
    "    events = pl.DataFrame(schema={'series_id':str, 'step':int, 'event':str, 'score':float})\n",
    "\n",
    "    for idx in tqdm(series_ids) : \n",
    "\n",
    "        # Collecting sample and normalizing features\n",
    "        scale_cols = [col for col in feature_cols if (col != 'hour') & (series[col].std() !=0)]\n",
    "        X = series.filter(pl.col('series_id') == idx).select(id_cols + feature_cols).with_columns(\n",
    "            [(pl.col(col) / series[col].std()).cast(pl.Float32) for col in scale_cols]\n",
    "        )\n",
    "\n",
    "        # Applying classifier to get predictions and scores\n",
    "        preds, probs = classifier.predict(X[feature_cols]), classifier.predict_proba(X[feature_cols])[:, 1]\n",
    "\n",
    "        #NOTE: Considered using rolling max to get sleep periods excluding <30 min interruptions, but ended up decreasing performance\n",
    "        X = X.with_columns(\n",
    "            pl.lit(preds).cast(pl.Int8).alias('prediction'), \n",
    "            pl.lit(probs).alias('probability')\n",
    "                        )\n",
    "        \n",
    "        # Getting predicted onset and wakeup time steps\n",
    "        pred_onsets = X.filter(X['prediction'].diff() > 0)['step'].to_list()\n",
    "        pred_wakeups = X.filter(X['prediction'].diff() < 0)['step'].to_list()\n",
    "        \n",
    "        if len(pred_onsets) > 0 : \n",
    "            \n",
    "            # Ensuring all predicted sleep periods begin and end\n",
    "            if min(pred_wakeups) < min(pred_onsets) : \n",
    "                pred_wakeups = pred_wakeups[1:]\n",
    "\n",
    "            if max(pred_onsets) > max(pred_wakeups) :\n",
    "                pred_onsets = pred_onsets[:-1]\n",
    "\n",
    "            # Keeping sleep periods longer than 30 minutes\n",
    "            sleep_periods = [(onset, wakeup) for onset, wakeup in zip(pred_onsets, pred_wakeups) if wakeup - onset >= 12 * 30]\n",
    "\n",
    "            for onset, wakeup in sleep_periods :\n",
    "                # Scoring using mean probability over period\n",
    "                score = X.filter((pl.col('step') >= onset) & (pl.col('step') <= wakeup))['probability'].mean()\n",
    "\n",
    "                # Adding sleep event to dataframe\n",
    "                events = events.vstack(pl.DataFrame().with_columns(\n",
    "                    pl.Series([idx, idx]).alias('series_id'), \n",
    "                    pl.Series([onset, wakeup]).alias('step'),\n",
    "                    pl.Series(['onset', 'wakeup']).alias('event'),\n",
    "                    pl.Series([score, score]).alias('score')\n",
    "                ))\n",
    "\n",
    "    # Adding row id column\n",
    "    events = events.to_pandas().reset_index().rename(columns={'index':'row_id'})\n",
    "\n",
    "    return events"
   ]
  },
  {
   "cell_type": "code",
   "execution_count": null,
   "metadata": {},
   "outputs": [],
   "source": []
  },
  {
   "cell_type": "markdown",
   "metadata": {},
   "source": [
    "## Training Models"
   ]
  },
  {
   "cell_type": "code",
   "execution_count": 13,
   "metadata": {
    "execution": {
     "iopub.execute_input": "2023-10-12T19:03:05.910313Z",
     "iopub.status.busy": "2023-10-12T19:03:05.909890Z",
     "iopub.status.idle": "2023-10-12T19:03:05.927385Z",
     "shell.execute_reply": "2023-10-12T19:03:05.925907Z",
     "shell.execute_reply.started": "2023-10-12T19:03:05.910282Z"
    }
   },
   "outputs": [],
   "source": [
    "\n",
    "# from sklearn.model_selection import train_test_split\n",
    "\n",
    "# train_ids, val_ids = train_test_split(series_ids, train_size=0.7, random_state=42)\n",
    "\n",
    "# # We will collect datapoints at 10 minute intervals for training for validating\n",
    "# #train_data = train_series.filter(pl.col('series_id').is_in(train_ids)).take_every(12 * 10).collect()\n",
    "\n",
    "# val_data = train_series.filter(pl.col('series_id').is_in(val_ids)).collect()\n",
    "# val_solution = train_events.filter(pl.col('series_id').is_in(val_ids)).select(['series_id', 'event', 'step']).to_pandas()\n",
    "\n"
   ]
  },
  {
   "cell_type": "code",
   "execution_count": null,
   "metadata": {
    "execution": {
     "iopub.execute_input": "2023-10-12T19:03:05.929187Z",
     "iopub.status.busy": "2023-10-12T19:03:05.928838Z"
    }
   },
   "outputs": [],
   "source": [
    "import gc \n",
    "gc.collect()\n",
    "\n",
    "# Collecting datapoints at every 10 minutes\n",
    "train_data = train_series.filter(pl.col('series_id').is_in(series_ids)).take_every(12 * 10).collect()"
   ]
  },
  {
   "cell_type": "code",
   "execution_count": null,
   "metadata": {},
   "outputs": [],
   "source": [
    "# Creating train dataset\n",
    "X_train, y_train = make_train_dataset(train_data, train_events)"
   ]
  },
  {
   "cell_type": "code",
   "execution_count": 16,
   "metadata": {
    "execution": {
     "iopub.execute_input": "2023-10-12T18:36:12.565067Z",
     "iopub.status.busy": "2023-10-12T18:36:12.563654Z",
     "iopub.status.idle": "2023-10-12T18:36:12.571668Z",
     "shell.execute_reply": "2023-10-12T18:36:12.571126Z",
     "shell.execute_reply.started": "2023-10-12T18:36:12.565040Z"
    }
   },
   "outputs": [
    {
     "data": {
      "text/plain": [
       "numpy.int64"
      ]
     },
     "execution_count": 16,
     "metadata": {},
     "output_type": "execute_result"
    }
   ],
   "source": [
    "type(y_train[0])"
   ]
  },
  {
   "cell_type": "code",
   "execution_count": 52,
   "metadata": {
    "execution": {
     "iopub.execute_input": "2023-10-12T15:20:11.599165Z",
     "iopub.status.busy": "2023-10-12T15:20:11.598726Z",
     "iopub.status.idle": "2023-10-12T15:20:11.641259Z",
     "shell.execute_reply": "2023-10-12T15:20:11.639865Z",
     "shell.execute_reply.started": "2023-10-12T15:20:11.599126Z"
    }
   },
   "outputs": [
    {
     "data": {
      "text/plain": [
       "array([0, 1])"
      ]
     },
     "execution_count": 52,
     "metadata": {},
     "output_type": "execute_result"
    }
   ],
   "source": [
    "np.unique(y_train)"
   ]
  },
  {
   "cell_type": "code",
   "execution_count": 54,
   "metadata": {
    "execution": {
     "iopub.execute_input": "2023-10-12T15:21:01.012883Z",
     "iopub.status.busy": "2023-10-12T15:21:01.012471Z",
     "iopub.status.idle": "2023-10-12T15:21:01.020108Z",
     "shell.execute_reply": "2023-10-12T15:21:01.018724Z",
     "shell.execute_reply.started": "2023-10-12T15:21:01.012852Z"
    }
   },
   "outputs": [
    {
     "data": {
      "text/plain": [
       "(1040184,)"
      ]
     },
     "execution_count": 54,
     "metadata": {},
     "output_type": "execute_result"
    }
   ],
   "source": [
    "y_train.shape"
   ]
  },
  {
   "cell_type": "code",
   "execution_count": 23,
   "metadata": {
    "execution": {
     "iopub.execute_input": "2023-10-12T18:45:32.226985Z",
     "iopub.status.busy": "2023-10-12T18:45:32.226567Z",
     "iopub.status.idle": "2023-10-12T18:45:32.234965Z",
     "shell.execute_reply": "2023-10-12T18:45:32.233770Z",
     "shell.execute_reply.started": "2023-10-12T18:45:32.226954Z"
    }
   },
   "outputs": [
    {
     "data": {
      "text/plain": [
       "['series_id',\n",
       " 'step',\n",
       " 'timestamp',\n",
       " 'hour',\n",
       " 'enmo_fft',\n",
       " 'enmo_5m_mean',\n",
       " 'enmo_5m_max',\n",
       " 'enmo_30m_mean',\n",
       " 'enmo_30m_max']"
      ]
     },
     "execution_count": 23,
     "metadata": {},
     "output_type": "execute_result"
    }
   ],
   "source": [
    "X_train.columns"
   ]
  },
  {
   "cell_type": "code",
   "execution_count": 27,
   "metadata": {
    "execution": {
     "iopub.execute_input": "2023-10-12T18:48:41.447222Z",
     "iopub.status.busy": "2023-10-12T18:48:41.446880Z",
     "iopub.status.idle": "2023-10-12T18:48:49.918306Z",
     "shell.execute_reply": "2023-10-12T18:48:49.917579Z",
     "shell.execute_reply.started": "2023-10-12T18:48:41.447197Z"
    }
   },
   "outputs": [
    {
     "data": {
      "image/png": "[encoded data removed]",
      "text/plain": [
       "<Figure size 640x480 with 1 Axes>"
      ]
     },
     "metadata": {},
     "output_type": "display_data"
    }
   ],
   "source": [
    "import seaborn as sns\n",
    "\n",
    "sns.lineplot(train_data, x=X_train['hour'], y=X_train['enmo_30m_mean'])\n",
    "plt.show()"
   ]
  },
  {
   "cell_type": "code",
   "execution_count": 55,
   "metadata": {
    "execution": {
     "iopub.execute_input": "2023-10-12T15:21:10.223359Z",
     "iopub.status.busy": "2023-10-12T15:21:10.222717Z",
     "iopub.status.idle": "2023-10-12T15:21:10.235460Z",
     "shell.execute_reply": "2023-10-12T15:21:10.233724Z",
     "shell.execute_reply.started": "2023-10-12T15:21:10.223273Z"
    }
   },
   "outputs": [
    {
     "data": {
      "text/html": [
       "<div><style>\n",
       ".dataframe > thead > tr > th,\n",
       ".dataframe > tbody > tr > td {\n",
       "  text-align: right;\n",
       "  white-space: pre-wrap;\n",
       "}\n",
       "</style>\n",
       "<small>shape: (1_040_184, 6)</small><table border=\"1\" class=\"dataframe\"><thead><tr><th>hour</th><th>enmo_fft</th><th>enmo_5m_mean</th><th>enmo_5m_max</th><th>enmo_30m_mean</th><th>enmo_30m_max</th></tr><tr><td>u8</td><td>f32</td><td>f32</td><td>f32</td><td>f32</td><td>f32</td></tr></thead><tbody><tr><td>19</td><td>56.945469</td><td>0.486818</td><td>0.248166</td><td>0.407491</td><td>0.13926</td></tr><tr><td>19</td><td>0.562466</td><td>0.292091</td><td>0.046756</td><td>0.407491</td><td>0.13926</td></tr><tr><td>19</td><td>0.243926</td><td>0.365114</td><td>0.20141</td><td>0.378384</td><td>0.113023</td></tr><tr><td>20</td><td>0.008978</td><td>0.316432</td><td>0.071932</td><td>0.436597</td><td>0.157425</td></tr><tr><td>20</td><td>0.097316</td><td>0.389455</td><td>0.280536</td><td>0.523917</td><td>0.248247</td></tr><tr><td>20</td><td>0.039804</td><td>0.5355</td><td>0.442384</td><td>0.98962</td><td>1.110045</td></tr><tr><td>20</td><td>0.041618</td><td>1.192705</td><td>0.992666</td><td>2.241199</td><td>2.389625</td></tr><tr><td>20</td><td>0.017248</td><td>3.042614</td><td>1.999718</td><td>3.696523</td><td>2.468337</td></tr><tr><td>20</td><td>0.130402</td><td>5.914843</td><td>4.39866</td><td>3.871162</td><td>2.468337</td></tr><tr><td>21</td><td>0.184691</td><td>1.898591</td><td>0.633004</td><td>3.376352</td><td>2.468337</td></tr><tr><td>21</td><td>0.018424</td><td>2.65316</td><td>2.452891</td><td>2.794222</td><td>1.632776</td></tr><tr><td>21</td><td>0.110247</td><td>2.823546</td><td>2.474471</td><td>3.347245</td><td>1.632776</td></tr><tr><td>&hellip;</td><td>&hellip;</td><td>&hellip;</td><td>&hellip;</td><td>&hellip;</td><td>&hellip;</td></tr><tr><td>2</td><td>2.930048</td><td>0.34531</td><td>0.288999</td><td>0.64896</td><td>2.499728</td></tr><tr><td>2</td><td>2.261247</td><td>0.142887</td><td>0.224777</td><td>0.347118</td><td>0.967387</td></tr><tr><td>2</td><td>0.377898</td><td>0.738248</td><td>1.41666</td><td>0.482947</td><td>0.967387</td></tr><tr><td>2</td><td>3.788151</td><td>0.369124</td><td>0.589331</td><td>0.513131</td><td>0.967387</td></tr><tr><td>2</td><td>2.674642</td><td>0.178608</td><td>0.20211</td><td>0.482947</td><td>0.423071</td></tr><tr><td>3</td><td>0.353762</td><td>0.202423</td><td>0.562886</td><td>0.241473</td><td>0.384375</td></tr><tr><td>3</td><td>0.853618</td><td>0.011907</td><td>0.022667</td><td>0.166013</td><td>0.384375</td></tr><tr><td>3</td><td>0.816409</td><td>0.0</td><td>0.007556</td><td>0.015092</td><td>0.143173</td></tr><tr><td>3</td><td>1.996023</td><td>0.0</td><td>0.0</td><td>0.0</td><td>0.015478</td></tr><tr><td>3</td><td>0.184145</td><td>0.0</td><td>0.0</td><td>0.0</td><td>0.0</td></tr><tr><td>3</td><td>5.003103</td><td>0.0</td><td>0.0</td><td>0.0</td><td>0.0</td></tr><tr><td>4</td><td>11.536615</td><td>0.0</td><td>0.0</td><td>0.045276</td><td>0.189608</td></tr></tbody></table></div>"
      ],
      "text/plain": [
       "shape: (1_040_184, 6)\n",
       "┌──────┬───────────┬──────────────┬─────────────┬───────────────┬──────────────┐\n",
       "│ hour ┆ enmo_fft  ┆ enmo_5m_mean ┆ enmo_5m_max ┆ enmo_30m_mean ┆ enmo_30m_max │\n",
       "│ ---  ┆ ---       ┆ ---          ┆ ---         ┆ ---           ┆ ---          │\n",
       "│ u8   ┆ f32       ┆ f32          ┆ f32         ┆ f32           ┆ f32          │\n",
       "╞══════╪═══════════╪══════════════╪═════════════╪═══════════════╪══════════════╡\n",
       "│ 19   ┆ 56.945469 ┆ 0.486818     ┆ 0.248166    ┆ 0.407491      ┆ 0.13926      │\n",
       "│ 19   ┆ 0.562466  ┆ 0.292091     ┆ 0.046756    ┆ 0.407491      ┆ 0.13926      │\n",
       "│ 19   ┆ 0.243926  ┆ 0.365114     ┆ 0.20141     ┆ 0.378384      ┆ 0.113023     │\n",
       "│ 20   ┆ 0.008978  ┆ 0.316432     ┆ 0.071932    ┆ 0.436597      ┆ 0.157425     │\n",
       "│ …    ┆ …         ┆ …            ┆ …           ┆ …             ┆ …            │\n",
       "│ 3    ┆ 1.996023  ┆ 0.0          ┆ 0.0         ┆ 0.0           ┆ 0.015478     │\n",
       "│ 3    ┆ 0.184145  ┆ 0.0          ┆ 0.0         ┆ 0.0           ┆ 0.0          │\n",
       "│ 3    ┆ 5.003103  ┆ 0.0          ┆ 0.0         ┆ 0.0           ┆ 0.0          │\n",
       "│ 4    ┆ 11.536615 ┆ 0.0          ┆ 0.0         ┆ 0.045276      ┆ 0.189608     │\n",
       "└──────┴───────────┴──────────────┴─────────────┴───────────────┴──────────────┘"
      ]
     },
     "execution_count": 55,
     "metadata": {},
     "output_type": "execute_result"
    }
   ],
   "source": [
    "X_train[feature_cols]"
   ]
  },
  {
   "cell_type": "raw",
   "metadata": {},
   "source": []
  },
  {
   "cell_type": "markdown",
   "metadata": {},
   "source": [
    "### Training and validating random forest"
   ]
  },
  {
   "cell_type": "code",
   "execution_count": 16,
   "metadata": {
    "execution": {
     "iopub.execute_input": "2023-10-12T16:54:07.913210Z",
     "iopub.status.busy": "2023-10-12T16:54:07.912845Z",
     "iopub.status.idle": "2023-10-12T17:05:16.318052Z",
     "shell.execute_reply": "2023-10-12T17:05:16.316311Z",
     "shell.execute_reply.started": "2023-10-12T16:54:07.913165Z"
    }
   },
   "outputs": [
    {
     "data": {
      "text/html": [
       "<style>#sk-container-id-1 {color: black;background-color: white;}#sk-container-id-1 pre{padding: 0;}#sk-container-id-1 div.sk-toggleable {background-color: white;}#sk-container-id-1 label.sk-toggleable__label {cursor: pointer;display: block;width: 100%;margin-bottom: 0;padding: 0.3em;box-sizing: border-box;text-align: center;}#sk-container-id-1 label.sk-toggleable__label-arrow:before {content: \"▸\";float: left;margin-right: 0.25em;color: #696969;}#sk-container-id-1 label.sk-toggleable__label-arrow:hover:before {color: black;}#sk-container-id-1 div.sk-estimator:hover label.sk-toggleable__label-arrow:before {color: black;}#sk-container-id-1 div.sk-toggleable__content {max-height: 0;max-width: 0;overflow: hidden;text-align: left;background-color: #f0f8ff;}#sk-container-id-1 div.sk-toggleable__content pre {margin: 0.2em;color: black;border-radius: 0.25em;background-color: #f0f8ff;}#sk-container-id-1 input.sk-toggleable__control:checked~div.sk-toggleable__content {max-height: 200px;max-width: 100%;overflow: auto;}#sk-container-id-1 input.sk-toggleable__control:checked~label.sk-toggleable__label-arrow:before {content: \"▾\";}#sk-container-id-1 div.sk-estimator input.sk-toggleable__control:checked~label.sk-toggleable__label {background-color: #d4ebff;}#sk-container-id-1 div.sk-label input.sk-toggleable__control:checked~label.sk-toggleable__label {background-color: #d4ebff;}#sk-container-id-1 input.sk-hidden--visually {border: 0;clip: rect(1px 1px 1px 1px);clip: rect(1px, 1px, 1px, 1px);height: 1px;margin: -1px;overflow: hidden;padding: 0;position: absolute;width: 1px;}#sk-container-id-1 div.sk-estimator {font-family: monospace;background-color: #f0f8ff;border: 1px dotted black;border-radius: 0.25em;box-sizing: border-box;margin-bottom: 0.5em;}#sk-container-id-1 div.sk-estimator:hover {background-color: #d4ebff;}#sk-container-id-1 div.sk-parallel-item::after {content: \"\";width: 100%;border-bottom: 1px solid gray;flex-grow: 1;}#sk-container-id-1 div.sk-label:hover label.sk-toggleable__label {background-color: #d4ebff;}#sk-container-id-1 div.sk-serial::before {content: \"\";position: absolute;border-left: 1px solid gray;box-sizing: border-box;top: 0;bottom: 0;left: 50%;z-index: 0;}#sk-container-id-1 div.sk-serial {display: flex;flex-direction: column;align-items: center;background-color: white;padding-right: 0.2em;padding-left: 0.2em;position: relative;}#sk-container-id-1 div.sk-item {position: relative;z-index: 1;}#sk-container-id-1 div.sk-parallel {display: flex;align-items: stretch;justify-content: center;background-color: white;position: relative;}#sk-container-id-1 div.sk-item::before, #sk-container-id-1 div.sk-parallel-item::before {content: \"\";position: absolute;border-left: 1px solid gray;box-sizing: border-box;top: 0;bottom: 0;left: 50%;z-index: -1;}#sk-container-id-1 div.sk-parallel-item {display: flex;flex-direction: column;z-index: 1;position: relative;background-color: white;}#sk-container-id-1 div.sk-parallel-item:first-child::after {align-self: flex-end;width: 50%;}#sk-container-id-1 div.sk-parallel-item:last-child::after {align-self: flex-start;width: 50%;}#sk-container-id-1 div.sk-parallel-item:only-child::after {width: 0;}#sk-container-id-1 div.sk-dashed-wrapped {border: 1px dashed gray;margin: 0 0.4em 0.5em 0.4em;box-sizing: border-box;padding-bottom: 0.4em;background-color: white;}#sk-container-id-1 div.sk-label label {font-family: monospace;font-weight: bold;display: inline-block;line-height: 1.2em;}#sk-container-id-1 div.sk-label-container {text-align: center;}#sk-container-id-1 div.sk-container {/* jupyter's `normalize.less` sets `[hidden] { display: none; }` but bootstrap.min.css set `[hidden] { display: none !important; }` so we also need the `!important` here to be able to override the default hidden behavior on the sphinx rendered scikit-learn.org. See: https://github.com/scikit-learn/scikit-learn/issues/21755 */display: inline-block !important;position: relative;}#sk-container-id-1 div.sk-text-repr-fallback {display: none;}</style><div id=\"sk-container-id-1\" class=\"sk-top-container\"><div class=\"sk-text-repr-fallback\"><pre>RandomForestClassifier(min_samples_leaf=300, n_estimators=500, n_jobs=-1,\n",
       "                       random_state=42)</pre><b>In a Jupyter environment, please rerun this cell to show the HTML representation or trust the notebook. <br />On GitHub, the HTML representation is unable to render, please try loading this page with nbviewer.org.</b></div><div class=\"sk-container\" hidden><div class=\"sk-item\"><div class=\"sk-estimator sk-toggleable\"><input class=\"sk-toggleable__control sk-hidden--visually\" id=\"sk-estimator-id-1\" type=\"checkbox\" checked><label for=\"sk-estimator-id-1\" class=\"sk-toggleable__label sk-toggleable__label-arrow\">RandomForestClassifier</label><div class=\"sk-toggleable__content\"><pre>RandomForestClassifier(min_samples_leaf=300, n_estimators=500, n_jobs=-1,\n",
       "                       random_state=42)</pre></div></div></div></div></div>"
      ],
      "text/plain": [
       "RandomForestClassifier(min_samples_leaf=300, n_estimators=500, n_jobs=-1,\n",
       "                       random_state=42)"
      ]
     },
     "execution_count": 16,
     "metadata": {},
     "output_type": "execute_result"
    }
   ],
   "source": [
    "from sklearn.ensemble import RandomForestClassifier\n",
    "\n",
    "# Training classifier\n",
    "rf_classifier = RandomForestClassifier(n_estimators=500,\n",
    "                                    min_samples_leaf=300,\n",
    "                                    random_state=42,\n",
    "                                    n_jobs=-1)\n",
    "\n",
    "rf_classifier.fit(X_train[feature_cols], y_train)"
   ]
  },
  {
   "cell_type": "code",
   "execution_count": 17,
   "metadata": {
    "execution": {
     "iopub.execute_input": "2023-10-12T17:13:40.943321Z",
     "iopub.status.busy": "2023-10-12T17:13:40.942273Z",
     "iopub.status.idle": "2023-10-12T17:13:43.108508Z",
     "shell.execute_reply": "2023-10-12T17:13:43.107255Z",
     "shell.execute_reply.started": "2023-10-12T17:13:40.943276Z"
    }
   },
   "outputs": [
    {
     "data": {
      "text/html": [
       "        <script type=\"text/javascript\">\n",
       "        window.PlotlyConfig = {MathJaxConfig: 'local'};\n",
       "        if (window.MathJax && window.MathJax.Hub && window.MathJax.Hub.Config) {window.MathJax.Hub.Config({SVG: {font: \"STIX-Web\"}});}\n",
       "        if (typeof require !== 'undefined') {\n",
       "        require.undef(\"plotly\");\n",
       "        requirejs.config({\n",
       "            paths: {\n",
       "                'plotly': ['https://cdn.plot.ly/plotly-2.24.1.min']\n",
       "            }\n",
       "        });\n",
       "        require(['plotly'], function(Plotly) {\n",
       "            window._Plotly = Plotly;\n",
       "        });\n",
       "        }\n",
       "        </script>\n",
       "        "
      ]
     },
     "metadata": {},
     "output_type": "display_data"
    },
    {
     "data": {
      "text/html": [
       "<div>                            <div id=\"696b0bd7-62d2-499a-8b37-9bb87307157e\" class=\"plotly-graph-div\" style=\"height:525px; width:100%;\"></div>            <script type=\"text/javascript\">                require([\"plotly\"], function(Plotly) {                    window.PLOTLYENV=window.PLOTLYENV || {};                                    if (document.getElementById(\"696b0bd7-62d2-499a-8b37-9bb87307157e\")) {                    Plotly.newPlot(                        \"696b0bd7-62d2-499a-8b37-9bb87307157e\",                        [{\"alignmentgroup\":\"True\",\"hovertemplate\":\"x=%{x}\\u003cbr\\u003ey=%{y}\\u003cextra\\u003e\\u003c\\u002fextra\\u003e\",\"legendgroup\":\"\",\"marker\":{\"color\":\"#636efa\",\"pattern\":{\"shape\":\"\"}},\"name\":\"\",\"offsetgroup\":\"\",\"orientation\":\"v\",\"showlegend\":false,\"textposition\":\"auto\",\"x\":[\"hour\",\"enmo_fft\",\"enmo_5m_mean\",\"enmo_5m_max\",\"enmo_30m_mean\",\"enmo_30m_max\"],\"xaxis\":\"x\",\"y\":[0.14954977405946687,0.00045840422986249876,0.18450270762553736,0.22572812178951598,0.29724010211376184,0.1425208901818554],\"yaxis\":\"y\",\"type\":\"bar\"}],                        {\"template\":{\"data\":{\"histogram2dcontour\":[{\"type\":\"histogram2dcontour\",\"colorbar\":{\"outlinewidth\":0,\"ticks\":\"\"},\"colorscale\":[[0.0,\"#0d0887\"],[0.1111111111111111,\"#46039f\"],[0.2222222222222222,\"#7201a8\"],[0.3333333333333333,\"#9c179e\"],[0.4444444444444444,\"#bd3786\"],[0.5555555555555556,\"#d8576b\"],[0.6666666666666666,\"#ed7953\"],[0.7777777777777778,\"#fb9f3a\"],[0.8888888888888888,\"#fdca26\"],[1.0,\"#f0f921\"]]}],\"choropleth\":[{\"type\":\"choropleth\",\"colorbar\":{\"outlinewidth\":0,\"ticks\":\"\"}}],\"histogram2d\":[{\"type\":\"histogram2d\",\"colorbar\":{\"outlinewidth\":0,\"ticks\":\"\"},\"colorscale\":[[0.0,\"#0d0887\"],[0.1111111111111111,\"#46039f\"],[0.2222222222222222,\"#7201a8\"],[0.3333333333333333,\"#9c179e\"],[0.4444444444444444,\"#bd3786\"],[0.5555555555555556,\"#d8576b\"],[0.6666666666666666,\"#ed7953\"],[0.7777777777777778,\"#fb9f3a\"],[0.8888888888888888,\"#fdca26\"],[1.0,\"#f0f921\"]]}],\"heatmap\":[{\"type\":\"heatmap\",\"colorbar\":{\"outlinewidth\":0,\"ticks\":\"\"},\"colorscale\":[[0.0,\"#0d0887\"],[0.1111111111111111,\"#46039f\"],[0.2222222222222222,\"#7201a8\"],[0.3333333333333333,\"#9c179e\"],[0.4444444444444444,\"#bd3786\"],[0.5555555555555556,\"#d8576b\"],[0.6666666666666666,\"#ed7953\"],[0.7777777777777778,\"#fb9f3a\"],[0.8888888888888888,\"#fdca26\"],[1.0,\"#f0f921\"]]}],\"heatmapgl\":[{\"type\":\"heatmapgl\",\"colorbar\":{\"outlinewidth\":0,\"ticks\":\"\"},\"colorscale\":[[0.0,\"#0d0887\"],[0.1111111111111111,\"#46039f\"],[0.2222222222222222,\"#7201a8\"],[0.3333333333333333,\"#9c179e\"],[0.4444444444444444,\"#bd3786\"],[0.5555555555555556,\"#d8576b\"],[0.6666666666666666,\"#ed7953\"],[0.7777777777777778,\"#fb9f3a\"],[0.8888888888888888,\"#fdca26\"],[1.0,\"#f0f921\"]]}],\"contourcarpet\":[{\"type\":\"contourcarpet\",\"colorbar\":{\"outlinewidth\":0,\"ticks\":\"\"}}],\"contour\":[{\"type\":\"contour\",\"colorbar\":{\"outlinewidth\":0,\"ticks\":\"\"},\"colorscale\":[[0.0,\"#0d0887\"],[0.1111111111111111,\"#46039f\"],[0.2222222222222222,\"#7201a8\"],[0.3333333333333333,\"#9c179e\"],[0.4444444444444444,\"#bd3786\"],[0.5555555555555556,\"#d8576b\"],[0.6666666666666666,\"#ed7953\"],[0.7777777777777778,\"#fb9f3a\"],[0.8888888888888888,\"#fdca26\"],[1.0,\"#f0f921\"]]}],\"surface\":[{\"type\":\"surface\",\"colorbar\":{\"outlinewidth\":0,\"ticks\":\"\"},\"colorscale\":[[0.0,\"#0d0887\"],[0.1111111111111111,\"#46039f\"],[0.2222222222222222,\"#7201a8\"],[0.3333333333333333,\"#9c179e\"],[0.4444444444444444,\"#bd3786\"],[0.5555555555555556,\"#d8576b\"],[0.6666666666666666,\"#ed7953\"],[0.7777777777777778,\"#fb9f3a\"],[0.8888888888888888,\"#fdca26\"],[1.0,\"#f0f921\"]]}],\"mesh3d\":[{\"type\":\"mesh3d\",\"colorbar\":{\"outlinewidth\":0,\"ticks\":\"\"}}],\"scatter\":[{\"fillpattern\":{\"fillmode\":\"overlay\",\"size\":10,\"solidity\":0.2},\"type\":\"scatter\"}],\"parcoords\":[{\"type\":\"parcoords\",\"line\":{\"colorbar\":{\"outlinewidth\":0,\"ticks\":\"\"}}}],\"scatterpolargl\":[{\"type\":\"scatterpolargl\",\"marker\":{\"colorbar\":{\"outlinewidth\":0,\"ticks\":\"\"}}}],\"bar\":[{\"error_x\":{\"color\":\"#2a3f5f\"},\"error_y\":{\"color\":\"#2a3f5f\"},\"marker\":{\"line\":{\"color\":\"#E5ECF6\",\"width\":0.5},\"pattern\":{\"fillmode\":\"overlay\",\"size\":10,\"solidity\":0.2}},\"type\":\"bar\"}],\"scattergeo\":[{\"type\":\"scattergeo\",\"marker\":{\"colorbar\":{\"outlinewidth\":0,\"ticks\":\"\"}}}],\"scatterpolar\":[{\"type\":\"scatterpolar\",\"marker\":{\"colorbar\":{\"outlinewidth\":0,\"ticks\":\"\"}}}],\"histogram\":[{\"marker\":{\"pattern\":{\"fillmode\":\"overlay\",\"size\":10,\"solidity\":0.2}},\"type\":\"histogram\"}],\"scattergl\":[{\"type\":\"scattergl\",\"marker\":{\"colorbar\":{\"outlinewidth\":0,\"ticks\":\"\"}}}],\"scatter3d\":[{\"type\":\"scatter3d\",\"line\":{\"colorbar\":{\"outlinewidth\":0,\"ticks\":\"\"}},\"marker\":{\"colorbar\":{\"outlinewidth\":0,\"ticks\":\"\"}}}],\"scattermapbox\":[{\"type\":\"scattermapbox\",\"marker\":{\"colorbar\":{\"outlinewidth\":0,\"ticks\":\"\"}}}],\"scatterternary\":[{\"type\":\"scatterternary\",\"marker\":{\"colorbar\":{\"outlinewidth\":0,\"ticks\":\"\"}}}],\"scattercarpet\":[{\"type\":\"scattercarpet\",\"marker\":{\"colorbar\":{\"outlinewidth\":0,\"ticks\":\"\"}}}],\"carpet\":[{\"aaxis\":{\"endlinecolor\":\"#2a3f5f\",\"gridcolor\":\"white\",\"linecolor\":\"white\",\"minorgridcolor\":\"white\",\"startlinecolor\":\"#2a3f5f\"},\"baxis\":{\"endlinecolor\":\"#2a3f5f\",\"gridcolor\":\"white\",\"linecolor\":\"white\",\"minorgridcolor\":\"white\",\"startlinecolor\":\"#2a3f5f\"},\"type\":\"carpet\"}],\"table\":[{\"cells\":{\"fill\":{\"color\":\"#EBF0F8\"},\"line\":{\"color\":\"white\"}},\"header\":{\"fill\":{\"color\":\"#C8D4E3\"},\"line\":{\"color\":\"white\"}},\"type\":\"table\"}],\"barpolar\":[{\"marker\":{\"line\":{\"color\":\"#E5ECF6\",\"width\":0.5},\"pattern\":{\"fillmode\":\"overlay\",\"size\":10,\"solidity\":0.2}},\"type\":\"barpolar\"}],\"pie\":[{\"automargin\":true,\"type\":\"pie\"}]},\"layout\":{\"autotypenumbers\":\"strict\",\"colorway\":[\"#636efa\",\"#EF553B\",\"#00cc96\",\"#ab63fa\",\"#FFA15A\",\"#19d3f3\",\"#FF6692\",\"#B6E880\",\"#FF97FF\",\"#FECB52\"],\"font\":{\"color\":\"#2a3f5f\"},\"hovermode\":\"closest\",\"hoverlabel\":{\"align\":\"left\"},\"paper_bgcolor\":\"white\",\"plot_bgcolor\":\"#E5ECF6\",\"polar\":{\"bgcolor\":\"#E5ECF6\",\"angularaxis\":{\"gridcolor\":\"white\",\"linecolor\":\"white\",\"ticks\":\"\"},\"radialaxis\":{\"gridcolor\":\"white\",\"linecolor\":\"white\",\"ticks\":\"\"}},\"ternary\":{\"bgcolor\":\"#E5ECF6\",\"aaxis\":{\"gridcolor\":\"white\",\"linecolor\":\"white\",\"ticks\":\"\"},\"baxis\":{\"gridcolor\":\"white\",\"linecolor\":\"white\",\"ticks\":\"\"},\"caxis\":{\"gridcolor\":\"white\",\"linecolor\":\"white\",\"ticks\":\"\"}},\"coloraxis\":{\"colorbar\":{\"outlinewidth\":0,\"ticks\":\"\"}},\"colorscale\":{\"sequential\":[[0.0,\"#0d0887\"],[0.1111111111111111,\"#46039f\"],[0.2222222222222222,\"#7201a8\"],[0.3333333333333333,\"#9c179e\"],[0.4444444444444444,\"#bd3786\"],[0.5555555555555556,\"#d8576b\"],[0.6666666666666666,\"#ed7953\"],[0.7777777777777778,\"#fb9f3a\"],[0.8888888888888888,\"#fdca26\"],[1.0,\"#f0f921\"]],\"sequentialminus\":[[0.0,\"#0d0887\"],[0.1111111111111111,\"#46039f\"],[0.2222222222222222,\"#7201a8\"],[0.3333333333333333,\"#9c179e\"],[0.4444444444444444,\"#bd3786\"],[0.5555555555555556,\"#d8576b\"],[0.6666666666666666,\"#ed7953\"],[0.7777777777777778,\"#fb9f3a\"],[0.8888888888888888,\"#fdca26\"],[1.0,\"#f0f921\"]],\"diverging\":[[0,\"#8e0152\"],[0.1,\"#c51b7d\"],[0.2,\"#de77ae\"],[0.3,\"#f1b6da\"],[0.4,\"#fde0ef\"],[0.5,\"#f7f7f7\"],[0.6,\"#e6f5d0\"],[0.7,\"#b8e186\"],[0.8,\"#7fbc41\"],[0.9,\"#4d9221\"],[1,\"#276419\"]]},\"xaxis\":{\"gridcolor\":\"white\",\"linecolor\":\"white\",\"ticks\":\"\",\"title\":{\"standoff\":15},\"zerolinecolor\":\"white\",\"automargin\":true,\"zerolinewidth\":2},\"yaxis\":{\"gridcolor\":\"white\",\"linecolor\":\"white\",\"ticks\":\"\",\"title\":{\"standoff\":15},\"zerolinecolor\":\"white\",\"automargin\":true,\"zerolinewidth\":2},\"scene\":{\"xaxis\":{\"backgroundcolor\":\"#E5ECF6\",\"gridcolor\":\"white\",\"linecolor\":\"white\",\"showbackground\":true,\"ticks\":\"\",\"zerolinecolor\":\"white\",\"gridwidth\":2},\"yaxis\":{\"backgroundcolor\":\"#E5ECF6\",\"gridcolor\":\"white\",\"linecolor\":\"white\",\"showbackground\":true,\"ticks\":\"\",\"zerolinecolor\":\"white\",\"gridwidth\":2},\"zaxis\":{\"backgroundcolor\":\"#E5ECF6\",\"gridcolor\":\"white\",\"linecolor\":\"white\",\"showbackground\":true,\"ticks\":\"\",\"zerolinecolor\":\"white\",\"gridwidth\":2}},\"shapedefaults\":{\"line\":{\"color\":\"#2a3f5f\"}},\"annotationdefaults\":{\"arrowcolor\":\"#2a3f5f\",\"arrowhead\":0,\"arrowwidth\":1},\"geo\":{\"bgcolor\":\"white\",\"landcolor\":\"#E5ECF6\",\"subunitcolor\":\"white\",\"showland\":true,\"showlakes\":true,\"lakecolor\":\"white\"},\"title\":{\"x\":0.05},\"mapbox\":{\"style\":\"light\"}}},\"xaxis\":{\"anchor\":\"y\",\"domain\":[0.0,1.0],\"title\":{\"text\":\"x\"}},\"yaxis\":{\"anchor\":\"x\",\"domain\":[0.0,1.0],\"title\":{\"text\":\"y\"}},\"legend\":{\"tracegroupgap\":0},\"title\":{\"text\":\"Random forest feature importances\"},\"barmode\":\"relative\"},                        {\"responsive\": true}                    ).then(function(){\n",
       "                            \n",
       "var gd = document.getElementById('696b0bd7-62d2-499a-8b37-9bb87307157e');\n",
       "var x = new MutationObserver(function (mutations, observer) {{\n",
       "        var display = window.getComputedStyle(gd).display;\n",
       "        if (!display || display === 'none') {{\n",
       "            console.log([gd, 'removed!']);\n",
       "            Plotly.purge(gd);\n",
       "            observer.disconnect();\n",
       "        }}\n",
       "}});\n",
       "\n",
       "// Listen for the removal of the full notebook cells\n",
       "var notebookContainer = gd.closest('#notebook-container');\n",
       "if (notebookContainer) {{\n",
       "    x.observe(notebookContainer, {childList: true});\n",
       "}}\n",
       "\n",
       "// Listen for the clearing of the current output cell\n",
       "var outputEl = gd.closest('.output');\n",
       "if (outputEl) {{\n",
       "    x.observe(outputEl, {childList: true});\n",
       "}}\n",
       "\n",
       "                        })                };                });            </script>        </div>"
      ]
     },
     "metadata": {},
     "output_type": "display_data"
    }
   ],
   "source": [
    "# Plotting feature importances\n",
    "px.bar(x=feature_cols, \n",
    "       y=rf_classifier.feature_importances_,\n",
    "       title='Random forest feature importances'\n",
    "      )"
   ]
  },
  {
   "cell_type": "code",
   "execution_count": null,
   "metadata": {
    "execution": {
     "iopub.execute_input": "2023-09-23T21:53:48.489308Z",
     "iopub.status.busy": "2023-09-23T21:53:48.487951Z"
    }
   },
   "outputs": [],
   "source": [
    "# Checking performance on validation set\n",
    "# rf_submission = get_events(val_data, rf_classifier)\n",
    "\n",
    "# print(f\"Random forest score: {score(val_solution, rf_submission, tolerances, **column_names)}\")"
   ]
  },
  {
   "cell_type": "code",
   "execution_count": 18,
   "metadata": {
    "execution": {
     "iopub.execute_input": "2023-10-12T17:13:52.167674Z",
     "iopub.status.busy": "2023-10-12T17:13:52.167107Z",
     "iopub.status.idle": "2023-10-12T17:13:52.616814Z",
     "shell.execute_reply": "2023-10-12T17:13:52.615645Z",
     "shell.execute_reply.started": "2023-10-12T17:13:52.167646Z"
    }
   },
   "outputs": [],
   "source": [
    "# Saving classifier \n",
    "import pickle\n",
    "with open('rf_classifier_5m_8h.pkl', 'wb') as f:\n",
    "    pickle.dump(rf_classifier, f)\n",
    "\n",
    "#with open('rf_classifier.pkl', 'rb') as f:\n",
    "#    rf_classifier = pickle.load(f)"
   ]
  },
  {
   "cell_type": "markdown",
   "metadata": {},
   "source": [
    "### Training and validating gradient boost"
   ]
  },
  {
   "cell_type": "code",
   "execution_count": null,
   "metadata": {
    "execution": {
     "iopub.execute_input": "2023-09-20T00:32:29.343447Z",
     "iopub.status.busy": "2023-09-20T00:32:29.342993Z",
     "iopub.status.idle": "2023-09-20T00:51:55.176259Z",
     "shell.execute_reply": "2023-09-20T00:51:55.174488Z",
     "shell.execute_reply.started": "2023-09-20T00:32:29.343416Z"
    }
   },
   "outputs": [],
   "source": [
    "'''# With SKL\n",
    "from sklearn.ensemble import GradientBoostingClassifier\n",
    "\n",
    "gb_classifier = GradientBoostingClassifier(n_estimators=100, learning_rate=0.05, max_depth=10, random_state=42)\n",
    "gb_classifier.fit(X_train[feature_cols], y_train)'''"
   ]
  },
  {
   "cell_type": "code",
   "execution_count": null,
   "metadata": {
    "execution": {
     "iopub.execute_input": "2023-09-20T00:51:55.180376Z",
     "iopub.status.busy": "2023-09-20T00:51:55.179395Z",
     "iopub.status.idle": "2023-09-20T00:51:57.466029Z",
     "shell.execute_reply": "2023-09-20T00:51:57.464688Z",
     "shell.execute_reply.started": "2023-09-20T00:51:55.180342Z"
    }
   },
   "outputs": [],
   "source": [
    "'''# Plotting feature importances\n",
    "px.bar(x=feature_cols, \n",
    "       y=gb_classifier.feature_importances_,\n",
    "       title='Gradient boosting feature importances'\n",
    "      )'''"
   ]
  },
  {
   "cell_type": "code",
   "execution_count": null,
   "metadata": {
    "execution": {
     "iopub.execute_input": "2023-09-20T00:51:57.468116Z",
     "iopub.status.busy": "2023-09-20T00:51:57.467479Z",
     "iopub.status.idle": "2023-09-20T00:56:51.902928Z",
     "shell.execute_reply": "2023-09-20T00:56:51.901915Z",
     "shell.execute_reply.started": "2023-09-20T00:51:57.468082Z"
    }
   },
   "outputs": [],
   "source": [
    "'''\n",
    "# Checking performance on validation set\n",
    "gb_submission = get_events(val_data, gb_classifier)\n",
    "\n",
    "print(f\"Gradient boosting score: {score(val_solution, gb_submission, tolerances, **column_names)}\")\n",
    "'''"
   ]
  },
  {
   "cell_type": "markdown",
   "metadata": {},
   "source": [
    "## Applying to test data"
   ]
  },
  {
   "cell_type": "code",
   "execution_count": 19,
   "metadata": {
    "execution": {
     "iopub.execute_input": "2023-10-12T17:13:58.011399Z",
     "iopub.status.busy": "2023-10-12T17:13:58.011021Z",
     "iopub.status.idle": "2023-10-12T17:13:58.019747Z",
     "shell.execute_reply": "2023-10-12T17:13:58.018964Z",
     "shell.execute_reply.started": "2023-10-12T17:13:58.011372Z"
    }
   },
   "outputs": [],
   "source": [
    "# Recovering memory\n",
    "del train_data "
   ]
  },
  {
   "cell_type": "code",
   "execution_count": 20,
   "metadata": {
    "execution": {
     "iopub.execute_input": "2023-10-12T17:14:01.790116Z",
     "iopub.status.busy": "2023-10-12T17:14:01.789760Z",
     "iopub.status.idle": "2023-10-12T17:14:02.560362Z",
     "shell.execute_reply": "2023-10-12T17:14:02.559149Z",
     "shell.execute_reply.started": "2023-10-12T17:14:01.790090Z"
    }
   },
   "outputs": [
    {
     "name": "stderr",
     "output_type": "stream",
     "text": [
      "100%|██████████| 3/3 [00:00<00:00,  4.23it/s]\n"
     ]
    }
   ],
   "source": [
    "# Getting event predictions for test set and saving submission\n",
    "submission = get_events(test_series.collect(), rf_classifier)\n",
    "submission.to_csv('submission.csv', index=False)"
   ]
  },
  {
   "cell_type": "code",
   "execution_count": 21,
   "metadata": {
    "execution": {
     "iopub.execute_input": "2023-10-12T17:14:08.256535Z",
     "iopub.status.busy": "2023-10-12T17:14:08.256204Z",
     "iopub.status.idle": "2023-10-12T17:14:08.269161Z",
     "shell.execute_reply": "2023-10-12T17:14:08.268361Z",
     "shell.execute_reply.started": "2023-10-12T17:14:08.256511Z"
    }
   },
   "outputs": [
    {
     "data": {
      "text/html": [
       "<div><style>\n",
       ".dataframe > thead > tr > th,\n",
       ".dataframe > tbody > tr > td {\n",
       "  text-align: right;\n",
       "  white-space: pre-wrap;\n",
       "}\n",
       "</style>\n",
       "<small>shape: (10, 9)</small><table border=\"1\" class=\"dataframe\"><thead><tr><th>series_id</th><th>step</th><th>timestamp</th><th>hour</th><th>enmo_fft</th><th>enmo_5m_mean</th><th>enmo_5m_max</th><th>enmo_30m_mean</th><th>enmo_30m_max</th></tr><tr><td>str</td><td>u32</td><td>datetime[μs, UTC]</td><td>u8</td><td>i64</td><td>u16</td><td>u16</td><td>u16</td><td>u16</td></tr></thead><tbody><tr><td>&quot;038441c925bb&quot;</td><td>0</td><td>2018-08-14 19:30:00 UTC</td><td>19</td><td>211</td><td>21</td><td>22</td><td>21</td><td>22</td></tr><tr><td>&quot;038441c925bb&quot;</td><td>1</td><td>2018-08-14 19:30:05 UTC</td><td>19</td><td>0</td><td>21</td><td>22</td><td>21</td><td>22</td></tr><tr><td>&quot;038441c925bb&quot;</td><td>2</td><td>2018-08-14 19:30:10 UTC</td><td>19</td><td>0</td><td>21</td><td>22</td><td>21</td><td>22</td></tr><tr><td>&quot;038441c925bb&quot;</td><td>3</td><td>2018-08-14 19:30:15 UTC</td><td>19</td><td>0</td><td>21</td><td>22</td><td>21</td><td>22</td></tr><tr><td>&quot;038441c925bb&quot;</td><td>4</td><td>2018-08-14 19:30:20 UTC</td><td>19</td><td>0</td><td>21</td><td>22</td><td>21</td><td>22</td></tr><tr><td>&quot;038441c925bb&quot;</td><td>5</td><td>2018-08-14 19:30:25 UTC</td><td>19</td><td>0</td><td>21</td><td>22</td><td>21</td><td>22</td></tr><tr><td>&quot;038441c925bb&quot;</td><td>6</td><td>2018-08-14 19:30:30 UTC</td><td>19</td><td>0</td><td>21</td><td>22</td><td>21</td><td>22</td></tr><tr><td>&quot;038441c925bb&quot;</td><td>7</td><td>2018-08-14 19:30:35 UTC</td><td>19</td><td>0</td><td>21</td><td>22</td><td>21</td><td>22</td></tr><tr><td>&quot;038441c925bb&quot;</td><td>8</td><td>2018-08-14 19:30:40 UTC</td><td>19</td><td>0</td><td>21</td><td>22</td><td>21</td><td>22</td></tr><tr><td>&quot;038441c925bb&quot;</td><td>9</td><td>2018-08-14 19:30:45 UTC</td><td>19</td><td>0</td><td>21</td><td>22</td><td>21</td><td>22</td></tr></tbody></table></div>"
      ],
      "text/plain": [
       "shape: (10, 9)\n",
       "┌─────────────┬──────┬─────────────┬──────┬───┬─────────────┬────────────┬────────────┬────────────┐\n",
       "│ series_id   ┆ step ┆ timestamp   ┆ hour ┆ … ┆ enmo_5m_mea ┆ enmo_5m_ma ┆ enmo_30m_m ┆ enmo_30m_m │\n",
       "│ ---         ┆ ---  ┆ ---         ┆ ---  ┆   ┆ n           ┆ x          ┆ ean        ┆ ax         │\n",
       "│ str         ┆ u32  ┆ datetime[μs ┆ u8   ┆   ┆ ---         ┆ ---        ┆ ---        ┆ ---        │\n",
       "│             ┆      ┆ , UTC]      ┆      ┆   ┆ u16         ┆ u16        ┆ u16        ┆ u16        │\n",
       "╞═════════════╪══════╪═════════════╪══════╪═══╪═════════════╪════════════╪════════════╪════════════╡\n",
       "│ 038441c925b ┆ 0    ┆ 2018-08-14  ┆ 19   ┆ … ┆ 21          ┆ 22         ┆ 21         ┆ 22         │\n",
       "│ b           ┆      ┆ 19:30:00    ┆      ┆   ┆             ┆            ┆            ┆            │\n",
       "│             ┆      ┆ UTC         ┆      ┆   ┆             ┆            ┆            ┆            │\n",
       "│ 038441c925b ┆ 1    ┆ 2018-08-14  ┆ 19   ┆ … ┆ 21          ┆ 22         ┆ 21         ┆ 22         │\n",
       "│ b           ┆      ┆ 19:30:05    ┆      ┆   ┆             ┆            ┆            ┆            │\n",
       "│             ┆      ┆ UTC         ┆      ┆   ┆             ┆            ┆            ┆            │\n",
       "│ 038441c925b ┆ 2    ┆ 2018-08-14  ┆ 19   ┆ … ┆ 21          ┆ 22         ┆ 21         ┆ 22         │\n",
       "│ b           ┆      ┆ 19:30:10    ┆      ┆   ┆             ┆            ┆            ┆            │\n",
       "│             ┆      ┆ UTC         ┆      ┆   ┆             ┆            ┆            ┆            │\n",
       "│ 038441c925b ┆ 3    ┆ 2018-08-14  ┆ 19   ┆ … ┆ 21          ┆ 22         ┆ 21         ┆ 22         │\n",
       "│ b           ┆      ┆ 19:30:15    ┆      ┆   ┆             ┆            ┆            ┆            │\n",
       "│             ┆      ┆ UTC         ┆      ┆   ┆             ┆            ┆            ┆            │\n",
       "│ …           ┆ …    ┆ …           ┆ …    ┆ … ┆ …           ┆ …          ┆ …          ┆ …          │\n",
       "│ 038441c925b ┆ 6    ┆ 2018-08-14  ┆ 19   ┆ … ┆ 21          ┆ 22         ┆ 21         ┆ 22         │\n",
       "│ b           ┆      ┆ 19:30:30    ┆      ┆   ┆             ┆            ┆            ┆            │\n",
       "│             ┆      ┆ UTC         ┆      ┆   ┆             ┆            ┆            ┆            │\n",
       "│ 038441c925b ┆ 7    ┆ 2018-08-14  ┆ 19   ┆ … ┆ 21          ┆ 22         ┆ 21         ┆ 22         │\n",
       "│ b           ┆      ┆ 19:30:35    ┆      ┆   ┆             ┆            ┆            ┆            │\n",
       "│             ┆      ┆ UTC         ┆      ┆   ┆             ┆            ┆            ┆            │\n",
       "│ 038441c925b ┆ 8    ┆ 2018-08-14  ┆ 19   ┆ … ┆ 21          ┆ 22         ┆ 21         ┆ 22         │\n",
       "│ b           ┆      ┆ 19:30:40    ┆      ┆   ┆             ┆            ┆            ┆            │\n",
       "│             ┆      ┆ UTC         ┆      ┆   ┆             ┆            ┆            ┆            │\n",
       "│ 038441c925b ┆ 9    ┆ 2018-08-14  ┆ 19   ┆ … ┆ 21          ┆ 22         ┆ 21         ┆ 22         │\n",
       "│ b           ┆      ┆ 19:30:45    ┆      ┆   ┆             ┆            ┆            ┆            │\n",
       "│             ┆      ┆ UTC         ┆      ┆   ┆             ┆            ┆            ┆            │\n",
       "└─────────────┴──────┴─────────────┴──────┴───┴─────────────┴────────────┴────────────┴────────────┘"
      ]
     },
     "execution_count": 21,
     "metadata": {},
     "output_type": "execute_result"
    }
   ],
   "source": [
    "test_series.fetch(10)"
   ]
  }
 ],
 "metadata": {
  "kernelspec": {
   "display_name": "Python 3 (ipykernel)",
   "language": "python",
   "name": "python3"
  },
  "language_info": {
   "codemirror_mode": {
    "name": "ipython",
    "version": 3
   },
   "file_extension": ".py",
   "mimetype": "text/x-python",
   "name": "python",
   "nbconvert_exporter": "python",
   "pygments_lexer": "ipython3",
   "version": "3.11.4"
  }
 },
 "nbformat": 4,
 "nbformat_minor": 4
}
