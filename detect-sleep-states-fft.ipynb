{
 "cells": [
  {
   "cell_type": "markdown",
   "id": "4d3c78d3",
   "metadata": {
    "papermill": {
     "duration": 0.015325,
     "end_time": "2023-10-05T14:29:57.047518",
     "exception": false,
     "start_time": "2023-10-05T14:29:57.032193",
     "status": "completed"
    },
    "tags": []
   },
   "source": [
    "### INTRO\n",
    "---\n",
    "\n",
    "This notebook consists of several parts:\n",
    "\n",
    "- competition data checks and clean up\n",
    "- interactive data inspector widgets with Ipython (**YOU NEED TO RUN THE NOTEBOOK TO SEE THE WIDGETS AND THEIR OUTPUT**)\n",
    "- preparation of data and build up of neural network for prediction of asleep state\n",
    "- test data prediction and preparation for submission (**STILL UNABLE TO MAKE A SUBMISSION DUE TO A NOTEBOOK EXCEPTION ERROR!!!**)\n",
    "\n",
    "---\n",
    "\n",
    "**WARNING: Be aware that training the neural network with a large number of series_id and EPOCH may take several hours**  \n",
    "\n",
    "---"
   ]
  },
  {
   "cell_type": "markdown",
   "id": "0e585ecc",
   "metadata": {
    "papermill": {
     "duration": 0.011795,
     "end_time": "2023-10-05T14:29:57.072898",
     "exception": false,
     "start_time": "2023-10-05T14:29:57.061103",
     "status": "completed"
    },
    "tags": []
   },
   "source": [
    "### Library imports and data loading\n",
    "---"
   ]
  },
  {
   "cell_type": "code",
   "execution_count": 1,
   "id": "26b4db56",
   "metadata": {
    "papermill": {
     "duration": 12.892001,
     "end_time": "2023-10-05T14:30:09.976954",
     "exception": false,
     "start_time": "2023-10-05T14:29:57.084953",
     "status": "completed"
    },
    "tags": []
   },
   "outputs": [
    {
     "name": "stdout",
     "output_type": "stream",
     "text": [
      "./Data/child-mind-institute-detect-sleep-states.zip\n",
      "./Data/sample_submission.csv\n",
      "./Data/test_series.parquet\n",
      "./Data/train_events.csv\n",
      "./Data/train_series.parquet\n"
     ]
    }
   ],
   "source": [
    "import os\n",
    "import numpy as np\n",
    "import pandas as pd\n",
    "import random\n",
    "from datetime import datetime\n",
    "#import seaborn as sns\n",
    "import matplotlib.pyplot as plt\n",
    "#import ipywidgets as widgets\n",
    "from IPython.display import display\n",
    "import warnings\n",
    "from sklearn.preprocessing import MinMaxScaler, StandardScaler\n",
    "from keras.models import Sequential, Functional, Model\n",
    "from keras.layers import Input, Conv1D, Dense, LSTM, Dropout, Bidirectional\n",
    "\n",
    "# By Nader\n",
    "import tensorflow\n",
    "\n",
    "from keras.optimizers import Adam, Adamax\n",
    "from keras.losses import BinaryCrossentropy\n",
    "from keras.callbacks import EarlyStopping\n",
    "from keras.utils import plot_model\n",
    "\n",
    "# Set precision to two decimals\n",
    "pd.set_option(\"display.precision\", 2)\n",
    "\n",
    "# Charts inline\n",
    "%matplotlib inline\n",
    "\n",
    "# Ignore warning\n",
    "warnings.filterwarnings(\"ignore\")\n",
    "\n",
    "# List files \n",
    "for dirname, _, filenames in os.walk('./Data/'):\n",
    "    for filename in filenames:\n",
    "        print(os.path.join(dirname, filename))"
   ]
  },
  {
   "cell_type": "code",
   "execution_count": 2,
   "id": "0f1701cb-64ed-4bd9-ae4e-be9372b0603d",
   "metadata": {},
   "outputs": [],
   "source": [
    "from metric import score\n",
    "# These are variables to be used by the score function\n",
    "column_names = {\n",
    "    'series_id_column_name': 'series_id',\n",
    "    'time_column_name': 'step',\n",
    "    'event_column_name': 'event',\n",
    "    'score_column_name': 'score',\n",
    "}\n",
    "\n",
    "tolerances = {\n",
    "    'onset': [12, 36, 60, 90, 120, 150, 180, 240, 300, 360], \n",
    "    'wakeup': [12, 36, 60, 90, 120, 150, 180, 240, 300, 360]\n",
    "}"
   ]
  },
  {
   "cell_type": "code",
   "execution_count": 3,
   "id": "9772f723",
   "metadata": {
    "papermill": {
     "duration": 78.027479,
     "end_time": "2023-10-05T14:31:28.017680",
     "exception": false,
     "start_time": "2023-10-05T14:30:09.990201",
     "status": "completed"
    },
    "tags": []
   },
   "outputs": [
    {
     "name": "stdout",
     "output_type": "stream",
     "text": [
      "Reading files.....\n",
      "..... done!\n"
     ]
    }
   ],
   "source": [
    "print('Reading files.....')\n",
    "path = './Data/'\n",
    "train_events = pd.read_csv(path + 'train_events.csv')\n",
    "train_series = pd.read_parquet(path + 'train_series.parquet')\n",
    "test_series = pd.read_parquet(path + 'test_series.parquet')\n",
    "sample_submission = pd.read_csv(path + 'sample_submission.csv')\n",
    "print('..... done!')"
   ]
  },
  {
   "cell_type": "markdown",
   "id": "1bccf7f8",
   "metadata": {
    "papermill": {
     "duration": 0.012186,
     "end_time": "2023-10-05T14:31:28.043541",
     "exception": false,
     "start_time": "2023-10-05T14:31:28.031355",
     "status": "completed"
    },
    "tags": []
   },
   "source": [
    "### Training data inspection and clean up\n",
    "---\n",
    "\n",
    "Any event records without time information is of no use, so I´ll start removing those.\n",
    "\n",
    "Also, each night can have only two events, one onset and one wakeup, so any nights breaking the rule will be discarded too."
   ]
  },
  {
   "cell_type": "code",
   "execution_count": 3,
   "id": "bab853ba",
   "metadata": {
    "execution": {
     "iopub.execute_input": "2023-10-05T14:31:28.071457Z",
     "iopub.status.busy": "2023-10-05T14:31:28.070875Z",
     "iopub.status.idle": "2023-10-05T14:31:28.100642Z",
     "shell.execute_reply": "2023-10-05T14:31:28.098874Z"
    },
    "papermill": {
     "duration": 0.048272,
     "end_time": "2023-10-05T14:31:28.103962",
     "exception": false,
     "start_time": "2023-10-05T14:31:28.055690",
     "status": "completed"
    },
    "tags": []
   },
   "outputs": [
    {
     "name": "stdout",
     "output_type": "stream",
     "text": [
      "<class 'pandas.core.frame.DataFrame'>\n",
      "RangeIndex: 14508 entries, 0 to 14507\n",
      "Data columns (total 5 columns):\n",
      " #   Column     Non-Null Count  Dtype  \n",
      "---  ------     --------------  -----  \n",
      " 0   series_id  14508 non-null  object \n",
      " 1   night      14508 non-null  int64  \n",
      " 2   event      14508 non-null  object \n",
      " 3   step       9585 non-null   float64\n",
      " 4   timestamp  9585 non-null   object \n",
      "dtypes: float64(1), int64(1), object(3)\n",
      "memory usage: 566.8+ KB\n"
     ]
    }
   ],
   "source": [
    "train_events.info()"
   ]
  },
  {
   "cell_type": "markdown",
   "id": "5340ccaf",
   "metadata": {
    "papermill": {
     "duration": 0.012456,
     "end_time": "2023-10-05T14:31:28.137572",
     "exception": false,
     "start_time": "2023-10-05T14:31:28.125116",
     "status": "completed"
    },
    "tags": []
   },
   "source": [
    "Let´s start removing any event records without time information."
   ]
  },
  {
   "cell_type": "code",
   "execution_count": 4,
   "id": "7aebb116",
   "metadata": {
    "execution": {
     "iopub.execute_input": "2023-10-05T14:31:28.164747Z",
     "iopub.status.busy": "2023-10-05T14:31:28.164206Z",
     "iopub.status.idle": "2023-10-05T14:31:28.200403Z",
     "shell.execute_reply": "2023-10-05T14:31:28.198613Z"
    },
    "papermill": {
     "duration": 0.052578,
     "end_time": "2023-10-05T14:31:28.202638",
     "exception": false,
     "start_time": "2023-10-05T14:31:28.150060",
     "status": "completed"
    },
    "tags": []
   },
   "outputs": [
    {
     "name": "stdout",
     "output_type": "stream",
     "text": [
      "<class 'pandas.core.frame.DataFrame'>\n",
      "RangeIndex: 9585 entries, 0 to 9584\n",
      "Data columns (total 5 columns):\n",
      " #   Column     Non-Null Count  Dtype  \n",
      "---  ------     --------------  -----  \n",
      " 0   series_id  9585 non-null   object \n",
      " 1   night      9585 non-null   int64  \n",
      " 2   event      9585 non-null   object \n",
      " 3   step       9585 non-null   float64\n",
      " 4   timestamp  9585 non-null   object \n",
      "dtypes: float64(1), int64(1), object(3)\n",
      "memory usage: 374.5+ KB\n"
     ]
    }
   ],
   "source": [
    "train_events = train_events.dropna(axis=0, ignore_index=True)\n",
    "train_events.info()"
   ]
  },
  {
   "cell_type": "markdown",
   "id": "f12f7650",
   "metadata": {
    "papermill": {
     "duration": 0.012204,
     "end_time": "2023-10-05T14:31:28.227545",
     "exception": false,
     "start_time": "2023-10-05T14:31:28.215341",
     "status": "completed"
    },
    "tags": []
   },
   "source": [
    "Now let´s look for any instances of \"bad nights\" meaning any nights with anything different to a single onset / wakeup pair."
   ]
  },
  {
   "cell_type": "code",
   "execution_count": 5,
   "id": "20f52999",
   "metadata": {
    "execution": {
     "iopub.execute_input": "2023-10-05T14:31:28.255851Z",
     "iopub.status.busy": "2023-10-05T14:31:28.255296Z",
     "iopub.status.idle": "2023-10-05T14:31:28.286749Z",
     "shell.execute_reply": "2023-10-05T14:31:28.285277Z"
    },
    "papermill": {
     "duration": 0.049116,
     "end_time": "2023-10-05T14:31:28.289188",
     "exception": false,
     "start_time": "2023-10-05T14:31:28.240072",
     "status": "completed"
    },
    "tags": []
   },
   "outputs": [
    {
     "data": {
      "text/html": [
       "<div>\n",
       "<style scoped>\n",
       "    .dataframe tbody tr th:only-of-type {\n",
       "        vertical-align: middle;\n",
       "    }\n",
       "\n",
       "    .dataframe tbody tr th {\n",
       "        vertical-align: top;\n",
       "    }\n",
       "\n",
       "    .dataframe thead th {\n",
       "        text-align: right;\n",
       "    }\n",
       "</style>\n",
       "<table border=\"1\" class=\"dataframe\">\n",
       "  <thead>\n",
       "    <tr style=\"text-align: right;\">\n",
       "      <th></th>\n",
       "      <th></th>\n",
       "      <th>event</th>\n",
       "    </tr>\n",
       "    <tr>\n",
       "      <th>series_id</th>\n",
       "      <th>night</th>\n",
       "      <th></th>\n",
       "    </tr>\n",
       "  </thead>\n",
       "  <tbody>\n",
       "    <tr>\n",
       "      <th rowspan=\"5\" valign=\"top\">038441c925bb</th>\n",
       "      <th>1</th>\n",
       "      <td>2</td>\n",
       "    </tr>\n",
       "    <tr>\n",
       "      <th>2</th>\n",
       "      <td>2</td>\n",
       "    </tr>\n",
       "    <tr>\n",
       "      <th>3</th>\n",
       "      <td>2</td>\n",
       "    </tr>\n",
       "    <tr>\n",
       "      <th>4</th>\n",
       "      <td>2</td>\n",
       "    </tr>\n",
       "    <tr>\n",
       "      <th>6</th>\n",
       "      <td>2</td>\n",
       "    </tr>\n",
       "  </tbody>\n",
       "</table>\n",
       "</div>"
      ],
      "text/plain": [
       "                    event\n",
       "series_id    night       \n",
       "038441c925bb 1          2\n",
       "             2          2\n",
       "             3          2\n",
       "             4          2\n",
       "             6          2"
      ]
     },
     "execution_count": 5,
     "metadata": {},
     "output_type": "execute_result"
    }
   ],
   "source": [
    "bad_nights = train_events[['series_id', 'night', 'event']].groupby(by=['series_id', 'night']).count()\n",
    "bad_nights.head()"
   ]
  },
  {
   "cell_type": "code",
   "execution_count": 6,
   "id": "b1524d83",
   "metadata": {
    "execution": {
     "iopub.execute_input": "2023-10-05T14:31:28.408085Z",
     "iopub.status.busy": "2023-10-05T14:31:28.407697Z",
     "iopub.status.idle": "2023-10-05T14:31:28.419001Z",
     "shell.execute_reply": "2023-10-05T14:31:28.417881Z"
    },
    "papermill": {
     "duration": 0.029318,
     "end_time": "2023-10-05T14:31:28.421100",
     "exception": false,
     "start_time": "2023-10-05T14:31:28.391782",
     "status": "completed"
    },
    "tags": []
   },
   "outputs": [
    {
     "data": {
      "text/html": [
       "<div>\n",
       "<style scoped>\n",
       "    .dataframe tbody tr th:only-of-type {\n",
       "        vertical-align: middle;\n",
       "    }\n",
       "\n",
       "    .dataframe tbody tr th {\n",
       "        vertical-align: top;\n",
       "    }\n",
       "\n",
       "    .dataframe thead th {\n",
       "        text-align: right;\n",
       "    }\n",
       "</style>\n",
       "<table border=\"1\" class=\"dataframe\">\n",
       "  <thead>\n",
       "    <tr style=\"text-align: right;\">\n",
       "      <th></th>\n",
       "      <th></th>\n",
       "      <th>event</th>\n",
       "    </tr>\n",
       "    <tr>\n",
       "      <th>series_id</th>\n",
       "      <th>night</th>\n",
       "      <th></th>\n",
       "    </tr>\n",
       "  </thead>\n",
       "  <tbody>\n",
       "    <tr>\n",
       "      <th>0ce74d6d2106</th>\n",
       "      <th>20</th>\n",
       "      <td>1</td>\n",
       "    </tr>\n",
       "    <tr>\n",
       "      <th>154fe824ed87</th>\n",
       "      <th>30</th>\n",
       "      <td>1</td>\n",
       "    </tr>\n",
       "    <tr>\n",
       "      <th>44a41bba1ee7</th>\n",
       "      <th>10</th>\n",
       "      <td>1</td>\n",
       "    </tr>\n",
       "    <tr>\n",
       "      <th>efbfc4526d58</th>\n",
       "      <th>7</th>\n",
       "      <td>1</td>\n",
       "    </tr>\n",
       "    <tr>\n",
       "      <th>f8a8da8bdd00</th>\n",
       "      <th>17</th>\n",
       "      <td>1</td>\n",
       "    </tr>\n",
       "  </tbody>\n",
       "</table>\n",
       "</div>"
      ],
      "text/plain": [
       "                    event\n",
       "series_id    night       \n",
       "0ce74d6d2106 20         1\n",
       "154fe824ed87 30         1\n",
       "44a41bba1ee7 10         1\n",
       "efbfc4526d58 7          1\n",
       "f8a8da8bdd00 17         1"
      ]
     },
     "execution_count": 6,
     "metadata": {},
     "output_type": "execute_result"
    }
   ],
   "source": [
    "bad_nights[bad_nights['event']!=2]"
   ]
  },
  {
   "cell_type": "markdown",
   "id": "f9f13187",
   "metadata": {
    "papermill": {
     "duration": 0.018506,
     "end_time": "2023-10-05T14:31:28.453692",
     "exception": false,
     "start_time": "2023-10-05T14:31:28.435186",
     "status": "completed"
    },
    "tags": []
   },
   "source": [
    "So here we have a few of such cases, with just one event."
   ]
  },
  {
   "cell_type": "code",
   "execution_count": 7,
   "id": "4d702e82",
   "metadata": {
    "execution": {
     "iopub.execute_input": "2023-10-05T14:31:28.483456Z",
     "iopub.status.busy": "2023-10-05T14:31:28.483089Z",
     "iopub.status.idle": "2023-10-05T14:31:28.506383Z",
     "shell.execute_reply": "2023-10-05T14:31:28.505123Z"
    },
    "papermill": {
     "duration": 0.040098,
     "end_time": "2023-10-05T14:31:28.508688",
     "exception": false,
     "start_time": "2023-10-05T14:31:28.468590",
     "status": "completed"
    },
    "tags": []
   },
   "outputs": [
    {
     "data": {
      "text/html": [
       "<div>\n",
       "<style scoped>\n",
       "    .dataframe tbody tr th:only-of-type {\n",
       "        vertical-align: middle;\n",
       "    }\n",
       "\n",
       "    .dataframe tbody tr th {\n",
       "        vertical-align: top;\n",
       "    }\n",
       "\n",
       "    .dataframe thead th {\n",
       "        text-align: right;\n",
       "    }\n",
       "</style>\n",
       "<table border=\"1\" class=\"dataframe\">\n",
       "  <thead>\n",
       "    <tr style=\"text-align: right;\">\n",
       "      <th></th>\n",
       "      <th>series_id</th>\n",
       "      <th>night</th>\n",
       "      <th>event</th>\n",
       "      <th>step</th>\n",
       "      <th>timestamp</th>\n",
       "    </tr>\n",
       "  </thead>\n",
       "  <tbody>\n",
       "    <tr>\n",
       "      <th>310</th>\n",
       "      <td>0ce74d6d2106</td>\n",
       "      <td>20</td>\n",
       "      <td>onset</td>\n",
       "      <td>332376.0</td>\n",
       "      <td>2017-09-09T22:08:00-0400</td>\n",
       "    </tr>\n",
       "    <tr>\n",
       "      <th>957</th>\n",
       "      <td>154fe824ed87</td>\n",
       "      <td>30</td>\n",
       "      <td>wakeup</td>\n",
       "      <td>514980.0</td>\n",
       "      <td>2019-02-25T09:45:00-0500</td>\n",
       "    </tr>\n",
       "    <tr>\n",
       "      <th>2668</th>\n",
       "      <td>44a41bba1ee7</td>\n",
       "      <td>10</td>\n",
       "      <td>wakeup</td>\n",
       "      <td>165684.0</td>\n",
       "      <td>2018-03-04T08:07:00-0500</td>\n",
       "    </tr>\n",
       "    <tr>\n",
       "      <th>9099</th>\n",
       "      <td>efbfc4526d58</td>\n",
       "      <td>7</td>\n",
       "      <td>wakeup</td>\n",
       "      <td>114864.0</td>\n",
       "      <td>2018-12-21T07:47:00-0500</td>\n",
       "    </tr>\n",
       "    <tr>\n",
       "      <th>9352</th>\n",
       "      <td>f8a8da8bdd00</td>\n",
       "      <td>17</td>\n",
       "      <td>wakeup</td>\n",
       "      <td>291384.0</td>\n",
       "      <td>2017-12-10T12:57:00-0500</td>\n",
       "    </tr>\n",
       "  </tbody>\n",
       "</table>\n",
       "</div>"
      ],
      "text/plain": [
       "         series_id  night   event      step                 timestamp\n",
       "310   0ce74d6d2106     20   onset  332376.0  2017-09-09T22:08:00-0400\n",
       "957   154fe824ed87     30  wakeup  514980.0  2019-02-25T09:45:00-0500\n",
       "2668  44a41bba1ee7     10  wakeup  165684.0  2018-03-04T08:07:00-0500\n",
       "9099  efbfc4526d58      7  wakeup  114864.0  2018-12-21T07:47:00-0500\n",
       "9352  f8a8da8bdd00     17  wakeup  291384.0  2017-12-10T12:57:00-0500"
      ]
     },
     "execution_count": 7,
     "metadata": {},
     "output_type": "execute_result"
    }
   ],
   "source": [
    " train_events[(((train_events['series_id']=='0ce74d6d2106') & (train_events['night']==20)) |\n",
    "               ((train_events['series_id']=='154fe824ed87') & (train_events['night']==30)) |\n",
    "               ((train_events['series_id']=='44a41bba1ee7') & (train_events['night']==10)) |                \n",
    "               ((train_events['series_id']=='efbfc4526d58') & (train_events['night']==7)) |\n",
    "               ((train_events['series_id']=='f8a8da8bdd00') & (train_events['night']==17)))]"
   ]
  },
  {
   "cell_type": "markdown",
   "id": "7f70dedd",
   "metadata": {
    "papermill": {
     "duration": 0.012963,
     "end_time": "2023-10-05T14:31:28.535870",
     "exception": false,
     "start_time": "2023-10-05T14:31:28.522907",
     "status": "completed"
    },
    "tags": []
   },
   "source": [
    "This data is problematic, so I'll remove these records."
   ]
  },
  {
   "cell_type": "code",
   "execution_count": 8,
   "id": "cb6b1981",
   "metadata": {
    "execution": {
     "iopub.execute_input": "2023-10-05T14:31:28.572867Z",
     "iopub.status.busy": "2023-10-05T14:31:28.572368Z",
     "iopub.status.idle": "2023-10-05T14:31:28.604782Z",
     "shell.execute_reply": "2023-10-05T14:31:28.603561Z"
    },
    "papermill": {
     "duration": 0.058627,
     "end_time": "2023-10-05T14:31:28.607576",
     "exception": false,
     "start_time": "2023-10-05T14:31:28.548949",
     "status": "completed"
    },
    "tags": []
   },
   "outputs": [
    {
     "name": "stdout",
     "output_type": "stream",
     "text": [
      "<class 'pandas.core.frame.DataFrame'>\n",
      "RangeIndex: 9580 entries, 0 to 9579\n",
      "Data columns (total 5 columns):\n",
      " #   Column     Non-Null Count  Dtype  \n",
      "---  ------     --------------  -----  \n",
      " 0   series_id  9580 non-null   object \n",
      " 1   night      9580 non-null   int64  \n",
      " 2   event      9580 non-null   object \n",
      " 3   step       9580 non-null   float64\n",
      " 4   timestamp  9580 non-null   object \n",
      "dtypes: float64(1), int64(1), object(3)\n",
      "memory usage: 374.3+ KB\n"
     ]
    }
   ],
   "source": [
    "train_events = train_events[~(((train_events['series_id']=='0ce74d6d2106') & (train_events['night']==20)) |\n",
    "                              ((train_events['series_id']=='154fe824ed87') & (train_events['night']==30)) |\n",
    "                              ((train_events['series_id']=='44a41bba1ee7') & (train_events['night']==10)) |                \n",
    "                              ((train_events['series_id']=='efbfc4526d58') & (train_events['night']==7)) |\n",
    "                              ((train_events['series_id']=='f8a8da8bdd00') & (train_events['night']==17)))].reset_index(drop=True)\n",
    "\n",
    "train_events.info()"
   ]
  },
  {
   "cell_type": "code",
   "execution_count": 9,
   "id": "475d2096",
   "metadata": {
    "execution": {
     "iopub.execute_input": "2023-10-05T14:31:28.660720Z",
     "iopub.status.busy": "2023-10-05T14:31:28.660217Z",
     "iopub.status.idle": "2023-10-05T14:31:28.670731Z",
     "shell.execute_reply": "2023-10-05T14:31:28.669531Z"
    },
    "papermill": {
     "duration": 0.049852,
     "end_time": "2023-10-05T14:31:28.673767",
     "exception": false,
     "start_time": "2023-10-05T14:31:28.623915",
     "status": "completed"
    },
    "tags": []
   },
   "outputs": [
    {
     "name": "stdout",
     "output_type": "stream",
     "text": [
      "Total number of valid series in training dataset: 269\n"
     ]
    }
   ],
   "source": [
    "series_list = list(train_events['series_id'].unique())\n",
    "print('Total number of valid series in training dataset: '+ str(len(series_list)))"
   ]
  },
  {
   "cell_type": "code",
   "execution_count": 10,
   "id": "636b9d9b",
   "metadata": {
    "execution": {
     "iopub.execute_input": "2023-10-05T14:31:28.744351Z",
     "iopub.status.busy": "2023-10-05T14:31:28.743797Z",
     "iopub.status.idle": "2023-10-05T14:32:19.242884Z",
     "shell.execute_reply": "2023-10-05T14:32:19.241880Z"
    },
    "papermill": {
     "duration": 50.550948,
     "end_time": "2023-10-05T14:32:19.259028",
     "exception": false,
     "start_time": "2023-10-05T14:31:28.708080",
     "status": "completed"
    },
    "tags": []
   },
   "outputs": [
    {
     "data": {
      "text/plain": [
       "series_id    False\n",
       "step         False\n",
       "timestamp    False\n",
       "anglez       False\n",
       "enmo         False\n",
       "dtype: bool"
      ]
     },
     "execution_count": 10,
     "metadata": {},
     "output_type": "execute_result"
    }
   ],
   "source": [
    "# Update train_series dataset with final set of series\n",
    "train_series = train_series[train_series['series_id'].isin(series_list)].reset_index(drop=True)\n",
    "# Check for nulls\n",
    "train_series.isnull().any()"
   ]
  },
  {
   "cell_type": "markdown",
   "id": "a9235fe7",
   "metadata": {
    "papermill": {
     "duration": 0.013559,
     "end_time": "2023-10-05T14:32:19.285968",
     "exception": false,
     "start_time": "2023-10-05T14:32:19.272409",
     "status": "completed"
    },
    "tags": []
   },
   "source": [
    "### A look at the test series and submission sample\n",
    "---\n",
    "\n",
    "The test series data gives us a very important requirement: we have to try and detect events (onset, wakeup) in sequences of 150 steps (x 5 sec/step = 750 seconds = 12.5 minutes)."
   ]
  },
  {
   "cell_type": "code",
   "execution_count": 11,
   "id": "3ffda669",
   "metadata": {
    "execution": {
     "iopub.execute_input": "2023-10-05T14:32:19.314196Z",
     "iopub.status.busy": "2023-10-05T14:32:19.313765Z",
     "iopub.status.idle": "2023-10-05T14:32:19.321053Z",
     "shell.execute_reply": "2023-10-05T14:32:19.319934Z"
    },
    "papermill": {
     "duration": 0.024147,
     "end_time": "2023-10-05T14:32:19.323321",
     "exception": false,
     "start_time": "2023-10-05T14:32:19.299174",
     "status": "completed"
    },
    "tags": []
   },
   "outputs": [
    {
     "data": {
      "text/plain": [
       "['038441c925bb', '03d92c9f6f8a', '0402a003dae9']"
      ]
     },
     "execution_count": 11,
     "metadata": {},
     "output_type": "execute_result"
    }
   ],
   "source": [
    "list(test_series['series_id'].unique())"
   ]
  },
  {
   "cell_type": "code",
   "execution_count": 12,
   "id": "ac7c8eb2",
   "metadata": {
    "execution": {
     "iopub.execute_input": "2023-10-05T14:32:19.351890Z",
     "iopub.status.busy": "2023-10-05T14:32:19.351455Z",
     "iopub.status.idle": "2023-10-05T14:32:20.431999Z",
     "shell.execute_reply": "2023-10-05T14:32:20.430918Z"
    },
    "papermill": {
     "duration": 1.097682,
     "end_time": "2023-10-05T14:32:20.434493",
     "exception": false,
     "start_time": "2023-10-05T14:32:19.336811",
     "status": "completed"
    },
    "tags": []
   },
   "outputs": [
    {
     "data": {
      "image/png": "[encoded data removed]",
      "text/plain": [
       "<Figure size 1000x800 with 6 Axes>"
      ]
     },
     "metadata": {},
     "output_type": "display_data"
    }
   ],
   "source": [
    "def plot_test_series():\n",
    "    fig, ax = plt.subplots(3,1, figsize=(10,8), sharex=True)\n",
    "    ax2 = {}\n",
    "    i = 0\n",
    "    test_series_list = list(test_series['series_id'].unique())\n",
    "    for id in test_series_list:\n",
    "        ax[i].set_title('series_id: ' + id, loc='left', fontsize=10)\n",
    "        x = test_series[test_series['series_id']==id]['step']\n",
    "        y_enmo = test_series[test_series['series_id']==id]['enmo']\n",
    "        y_anglez = test_series[test_series['series_id']==id]['anglez']\n",
    "        ax[i].plot(x, y_enmo, label='enmo', color='magenta', lw=1, alpha=0.9)\n",
    "        ax[i].set_ylabel('enmo', fontsize=9)\n",
    "        ax[i].tick_params(labelsize=9)\n",
    "        ax2[i] = ax[i].twinx()\n",
    "        ax2[i].plot(x, y_anglez, label='anglez', color='lime', lw=1, alpha=0.9)\n",
    "        ax2[i].set_ylabel('anglez', fontsize=9)\n",
    "        i = i + 1\n",
    "    h1, l1 = ax[2].get_legend_handles_labels()\n",
    "    h2, l2 = ax2[2].get_legend_handles_labels()\n",
    "    plt.figlegend(h1+h2, l1+l2, loc='upper left', bbox_to_anchor=(0.12, 0.97, 0.0, 0.0), ncols=2)\n",
    "    ax[2].set_xlabel('step')\n",
    "    plt.show()\n",
    "\n",
    "# Plot it\n",
    "plot_test_series()"
   ]
  },
  {
   "cell_type": "code",
   "execution_count": 13,
   "id": "909de872",
   "metadata": {
    "execution": {
     "iopub.execute_input": "2023-10-05T14:32:20.468959Z",
     "iopub.status.busy": "2023-10-05T14:32:20.468110Z",
     "iopub.status.idle": "2023-10-05T14:32:20.476881Z",
     "shell.execute_reply": "2023-10-05T14:32:20.476100Z"
    },
    "papermill": {
     "duration": 0.028897,
     "end_time": "2023-10-05T14:32:20.479278",
     "exception": false,
     "start_time": "2023-10-05T14:32:20.450381",
     "status": "completed"
    },
    "tags": []
   },
   "outputs": [
    {
     "data": {
      "text/plain": [
       "series_id    False\n",
       "step         False\n",
       "timestamp    False\n",
       "anglez       False\n",
       "enmo         False\n",
       "dtype: bool"
      ]
     },
     "execution_count": 13,
     "metadata": {},
     "output_type": "execute_result"
    }
   ],
   "source": [
    "test_series.isnull().any()"
   ]
  },
  {
   "cell_type": "code",
   "execution_count": 14,
   "id": "16f3e639",
   "metadata": {
    "execution": {
     "iopub.execute_input": "2023-10-05T14:32:20.514025Z",
     "iopub.status.busy": "2023-10-05T14:32:20.513067Z",
     "iopub.status.idle": "2023-10-05T14:32:20.526295Z",
     "shell.execute_reply": "2023-10-05T14:32:20.525106Z"
    },
    "papermill": {
     "duration": 0.033358,
     "end_time": "2023-10-05T14:32:20.528695",
     "exception": false,
     "start_time": "2023-10-05T14:32:20.495337",
     "status": "completed"
    },
    "tags": []
   },
   "outputs": [
    {
     "data": {
      "text/html": [
       "<div>\n",
       "<style scoped>\n",
       "    .dataframe tbody tr th:only-of-type {\n",
       "        vertical-align: middle;\n",
       "    }\n",
       "\n",
       "    .dataframe tbody tr th {\n",
       "        vertical-align: top;\n",
       "    }\n",
       "\n",
       "    .dataframe thead th {\n",
       "        text-align: right;\n",
       "    }\n",
       "</style>\n",
       "<table border=\"1\" class=\"dataframe\">\n",
       "  <thead>\n",
       "    <tr style=\"text-align: right;\">\n",
       "      <th></th>\n",
       "      <th>row_id</th>\n",
       "      <th>series_id</th>\n",
       "      <th>step</th>\n",
       "      <th>event</th>\n",
       "      <th>score</th>\n",
       "    </tr>\n",
       "  </thead>\n",
       "  <tbody>\n",
       "    <tr>\n",
       "      <th>0</th>\n",
       "      <td>0</td>\n",
       "      <td>038441c925bb</td>\n",
       "      <td>100</td>\n",
       "      <td>onset</td>\n",
       "      <td>0.0</td>\n",
       "    </tr>\n",
       "    <tr>\n",
       "      <th>1</th>\n",
       "      <td>1</td>\n",
       "      <td>038441c925bb</td>\n",
       "      <td>105</td>\n",
       "      <td>wakeup</td>\n",
       "      <td>0.0</td>\n",
       "    </tr>\n",
       "    <tr>\n",
       "      <th>2</th>\n",
       "      <td>2</td>\n",
       "      <td>03d92c9f6f8a</td>\n",
       "      <td>80</td>\n",
       "      <td>onset</td>\n",
       "      <td>0.5</td>\n",
       "    </tr>\n",
       "    <tr>\n",
       "      <th>3</th>\n",
       "      <td>3</td>\n",
       "      <td>03d92c9f6f8a</td>\n",
       "      <td>110</td>\n",
       "      <td>wakeup</td>\n",
       "      <td>0.5</td>\n",
       "    </tr>\n",
       "    <tr>\n",
       "      <th>4</th>\n",
       "      <td>4</td>\n",
       "      <td>0402a003dae9</td>\n",
       "      <td>90</td>\n",
       "      <td>onset</td>\n",
       "      <td>1.0</td>\n",
       "    </tr>\n",
       "    <tr>\n",
       "      <th>5</th>\n",
       "      <td>5</td>\n",
       "      <td>0402a003dae9</td>\n",
       "      <td>120</td>\n",
       "      <td>wakeup</td>\n",
       "      <td>1.0</td>\n",
       "    </tr>\n",
       "  </tbody>\n",
       "</table>\n",
       "</div>"
      ],
      "text/plain": [
       "   row_id     series_id  step   event  score\n",
       "0       0  038441c925bb   100   onset    0.0\n",
       "1       1  038441c925bb   105  wakeup    0.0\n",
       "2       2  03d92c9f6f8a    80   onset    0.5\n",
       "3       3  03d92c9f6f8a   110  wakeup    0.5\n",
       "4       4  0402a003dae9    90   onset    1.0\n",
       "5       5  0402a003dae9   120  wakeup    1.0"
      ]
     },
     "execution_count": 14,
     "metadata": {},
     "output_type": "execute_result"
    }
   ],
   "source": [
    "sample_submission"
   ]
  },
  {
   "cell_type": "markdown",
   "id": "12468af9",
   "metadata": {
    "papermill": {
     "duration": 0.015369,
     "end_time": "2023-10-05T14:32:20.559745",
     "exception": false,
     "start_time": "2023-10-05T14:32:20.544376",
     "status": "completed"
    },
    "tags": []
   },
   "source": [
    "### Subsampling (ONLY FOR DEVELOPMENT) and merge of train series and events datasets\n",
    "---\n",
    "\n",
    "The training_series data file is too hefty so I just sampled it down whilst developing the solution.\n",
    "\n",
    "The actual number of series is set in the first line of the following code cell."
   ]
  },
  {
   "cell_type": "code",
   "execution_count": 15,
   "id": "9baaaa2a",
   "metadata": {
    "execution": {
     "iopub.execute_input": "2023-10-05T14:32:20.594065Z",
     "iopub.status.busy": "2023-10-05T14:32:20.593302Z",
     "iopub.status.idle": "2023-10-05T14:33:41.280570Z",
     "shell.execute_reply": "2023-10-05T14:33:41.279179Z"
    },
    "papermill": {
     "duration": 80.722135,
     "end_time": "2023-10-05T14:33:41.298269",
     "exception": false,
     "start_time": "2023-10-05T14:32:20.576134",
     "status": "completed"
    },
    "tags": []
   },
   "outputs": [
    {
     "name": "stdout",
     "output_type": "stream",
     "text": [
      "Nbr. of selected training series: 80\n",
      "Nbr. of data points (timesteps): 38220120\n",
      "\n",
      "CPU times: user 1min 8s, sys: 12.6 s, total: 1min 21s\n",
      "Wall time: 1min 20s\n"
     ]
    }
   ],
   "source": [
    "%%time\n",
    "NBR_TRAINING_SERIES = 80\n",
    "full_series = series_list\n",
    "selected_series = random.sample(full_series, NBR_TRAINING_SERIES)\n",
    "\n",
    "# Subsample data\n",
    "train_series = train_series[train_series['series_id'].isin(selected_series)]\n",
    "train_events = train_events[train_events['series_id'].isin(selected_series)]\n",
    "\n",
    "# Merge train_series and train_events into a single fat dataframe\n",
    "train_merged = pd.merge(train_series, train_events, on=['series_id', 'step', 'timestamp'], how='outer').reset_index(drop=True)\n",
    "\n",
    "print('Nbr. of selected training series: ' + str(NBR_TRAINING_SERIES))\n",
    "print('Nbr. of data points (timesteps): ' + str(len(train_merged)))\n",
    "print()"
   ]
  },
  {
   "cell_type": "markdown",
   "id": "b8f0371e",
   "metadata": {
    "papermill": {
     "duration": 0.015488,
     "end_time": "2023-10-05T14:33:41.330244",
     "exception": false,
     "start_time": "2023-10-05T14:33:41.314756",
     "status": "completed"
    },
    "tags": []
   },
   "source": [
    "### Full series inspector widget (commented out)\n",
    "---\n",
    "\n",
    "This widget allows you to browse through the selected series of accelerometer readings. In each case, all the nights and events registered for that series are displayed."
   ]
  },
  {
   "cell_type": "code",
   "execution_count": 16,
   "id": "fd33fd81",
   "metadata": {
    "execution": {
     "iopub.execute_input": "2023-10-05T14:33:41.365976Z",
     "iopub.status.busy": "2023-10-05T14:33:41.365580Z",
     "iopub.status.idle": "2023-10-05T14:33:41.373412Z",
     "shell.execute_reply": "2023-10-05T14:33:41.371918Z"
    },
    "jupyter": {
     "source_hidden": true
    },
    "papermill": {
     "duration": 0.027536,
     "end_time": "2023-10-05T14:33:41.375887",
     "exception": false,
     "start_time": "2023-10-05T14:33:41.348351",
     "status": "completed"
    },
    "tags": []
   },
   "outputs": [],
   "source": [
    "# def plot_series_and_events(series_id, train_merged):\n",
    "#     # Make local copy of datasets\n",
    "#     data = train_merged.copy()\n",
    "#     # Filter the DataFrame based on the series_id\n",
    "#     sample_series = data[data['series_id'] == series_id].copy()\n",
    "#     # Convert timestamp to Pandas datetime object\n",
    "#     sample_series['Date'] = sample_series['timestamp'].str.split('T', expand=True)[0]\n",
    "#     sample_series['Time'] = sample_series['timestamp'].str.split('T', expand=True)[1].str.split('-', expand=True)[0]\n",
    "#     sample_series['timestamp'] = pd.to_datetime(sample_series['Date'] + ' ' + sample_series['Time'])\n",
    "#     # Filter event data based on the series_id\n",
    "#     sample_events = data[data['series_id'] == series_id].copy()\n",
    "#     sample_events['Date'] = sample_events['timestamp'].str.split('T', expand=True)[0]\n",
    "#     sample_events['Time'] = sample_events['timestamp'].str.split('T', expand=True)[1].str.split('-', expand=True)[0]\n",
    "#     sample_events['timestamp'] = pd.to_datetime(sample_events['Date'] + ' ' + sample_events['Time'])\n",
    "#     # Separate events\n",
    "#     sample_onset = sample_events[sample_events['event'] == 'onset'] #.dropna()\n",
    "#     sample_wakeup = sample_events[sample_events['event'] == 'wakeup'] #.dropna()\n",
    "#     ####################################\n",
    "#     # Plot anglez and enmo along with onset and wakeup events\n",
    "#     fig, ax = plt.subplots(2, 1, figsize=(16, 4), sharex=True)\n",
    "#     fig.suptitle('Accelerometer readings (enmo, anglez) and annotated events for series_id = ' + series_id,\n",
    "#                  fontsize=13, y=0.95)\n",
    "#     ####################################    \n",
    "#     for onset in sample_onset['timestamp']:\n",
    "#         ax[0].axvline(x=onset, color='Navy', linestyle='--', label='onset', alpha=0.8)\n",
    "#     for wakeup in sample_wakeup['timestamp']:\n",
    "#         ax[0].axvline(x=wakeup, color='Red', linestyle='--', label='wakeup', alpha=0.8)    \n",
    "#     ax[0].plot(sample_series['timestamp'], sample_series['enmo'], label='enmo',\n",
    "#                linewidth=1, color='magenta', alpha=0.4)    \n",
    "#     ax[0].set_ylabel('enmo', fontsize=11)    \n",
    "#     handles, labels = ax[0].get_legend_handles_labels()\n",
    "#     new_labels, new_handles = [], []\n",
    "#     for handle, label in zip(handles, labels):\n",
    "#         if label not in new_labels:\n",
    "#             new_handles.append(handle)\n",
    "#             new_labels.append(label)\n",
    "#     ax[0].legend(new_handles, new_labels, loc='best', fontsize=10)            \n",
    "#     ####################################    \n",
    "#     for onset in sample_onset['timestamp']:\n",
    "#         ax[1].axvline(x=onset, color='Navy', ls='--', label='onset', alpha=0.8)        \n",
    "#     for wakeup in sample_wakeup['timestamp']:\n",
    "#         ax[1].axvline(x=wakeup, color='Red', ls='--', label='wakeup', alpha=0.8)        \n",
    "#     ax[1].plot(sample_series['timestamp'], sample_series['anglez'], label='anglez',\n",
    "#                linewidth=1, color='lime', alpha=0.4)    \n",
    "#     ax[1].set_ylabel('anglez',fontsize=11)    \n",
    "#     handles, labels = ax[1].get_legend_handles_labels()\n",
    "#     new_labels, new_handles = [], []\n",
    "#     for handle, label in zip(handles, labels):\n",
    "#         if label not in new_labels:\n",
    "#             new_handles.append(handle)\n",
    "#             new_labels.append(label)\n",
    "#     ax[1].legend(new_handles, new_labels, loc='best', fontsize=10)        \n",
    "#     ####################################    \n",
    "#     plt.xlabel('timestamp')\n",
    "#     plt.show()\n",
    "\n",
    "# # Selector box handlenr function \n",
    "# def series_selector_eventhandler(change):\n",
    "#     selection = series_selector.value\n",
    "#     output.clear_output(wait=True)\n",
    "#     with output:\n",
    "#         plot_series_and_events(selection, train_merged)   \n",
    "\n",
    "# #################################\n",
    "# # Build and display widget\n",
    "# series_selector = widgets.Select(description='Series_id', options=selected_series, value=selected_series[0], rows=8)\n",
    "# series_selector.observe(series_selector_eventhandler, names='value')\n",
    "# output = widgets.Output()\n",
    "# display(series_selector, output)\n",
    "# #################################\n",
    "\n",
    "# with output:\n",
    "#     plot_series_and_events(series_selector.value, train_merged)"
   ]
  },
  {
   "cell_type": "markdown",
   "id": "7e66e4f4",
   "metadata": {
    "papermill": {
     "duration": 0.01599,
     "end_time": "2023-10-05T14:33:41.407885",
     "exception": false,
     "start_time": "2023-10-05T14:33:41.391895",
     "status": "completed"
    },
    "tags": []
   },
   "source": [
    "### Single events inspector widget (commented out)\n",
    "---\n",
    "\n",
    "This widget allows you to browse through individual nights, showing enmo and anglez readings, along with the onset and wakeup events, in a window including the sleep period plus / minus six hours.\n",
    "\n",
    "Sometimes, an error may occur if one specific series does not have a pair onset / wakeup registered for one night. Just click on another night to continue."
   ]
  },
  {
   "cell_type": "code",
   "execution_count": 17,
   "id": "485e87d8",
   "metadata": {
    "execution": {
     "iopub.execute_input": "2023-10-05T14:33:41.441807Z",
     "iopub.status.busy": "2023-10-05T14:33:41.441402Z",
     "iopub.status.idle": "2023-10-05T14:33:41.449138Z",
     "shell.execute_reply": "2023-10-05T14:33:41.448193Z"
    },
    "jupyter": {
     "source_hidden": true
    },
    "papermill": {
     "duration": 0.027092,
     "end_time": "2023-10-05T14:33:41.451046",
     "exception": false,
     "start_time": "2023-10-05T14:33:41.423954",
     "status": "completed"
    },
    "tags": []
   },
   "outputs": [],
   "source": [
    "# window = 4320 # full sleep period plus six hours before and after\n",
    "# # Function to plot one pair onset - wakeup of events\n",
    "# def plot_event_pair(series_id, night, train_merged, w=window):\n",
    "#     # Extract onset and wakeup events on the night\n",
    "#     onset_id = train_merged[(train_merged['series_id']==series_id) &\n",
    "#                             (train_merged['night']==night) &\n",
    "#                             (train_merged['event']=='onset')].index[0]\n",
    "#     wakeup_id = train_merged[(train_merged['series_id']==series_id) &\n",
    "#                              (train_merged['night']==night) &\n",
    "#                              (train_merged['event']=='wakeup')].index[0]\n",
    "#     sample_pair = train_merged.iloc[onset_id - w : wakeup_id + w]\n",
    "    \n",
    "#     # Plot charts of enmo and anglez, with onset and wakeup events for one night\n",
    "#     fig, ax = plt.subplots(2,1, figsize=(20,4), sharex=True)\n",
    "#     fig.suptitle('Full sleep period plus / minus six hours for series_id = ' + str(series_id) + ', night = ' + str(night),\n",
    "#                  fontsize=13, y=0.95)\n",
    "#     #############\n",
    "#     ax[0].plot(sample_pair['step'], sample_pair['enmo'], label='enmo',\n",
    "#                color='magenta', lw=1, alpha=0.6)\n",
    "#     ax[0].axvline(train_merged.iloc[onset_id]['step'], label='onset', ls='--', color='Navy', alpha=0.9)\n",
    "#     ax[0].axvline(train_merged.iloc[wakeup_id]['step'], label='wakeup', ls='--', color='Red', alpha=0.9)\n",
    "#     ax[0].axvspan(train_merged.iloc[onset_id]['step'], train_merged.iloc[wakeup_id]['step'], ymin=0, ymax=1,\n",
    "#                   color='coral', linewidth=0.1, alpha=0.1, label='asleep')\n",
    "#     ax[0].legend(loc='best', fontsize=10)\n",
    "#     ##########################\n",
    "#     ax[1].plot(sample_pair['step'], sample_pair['anglez'], label='anglez',\n",
    "#                    color='lime', lw=1, alpha=0.6)\n",
    "#     ax[1].axvline(train_merged.iloc[onset_id]['step'], label='onset', ls='--', color='Navy', alpha=0.9)\n",
    "#     ax[1].axvline(train_merged.iloc[wakeup_id]['step'], label='wakeup', ls='--', color='Red', alpha=0.9)\n",
    "#     ax[1].axvspan(train_merged.iloc[onset_id]['step'], train_merged.iloc[wakeup_id]['step'], ymin=0, ymax=1,\n",
    "#                   color='coral', linewidth=0.1, alpha=0.1, label='asleep')\n",
    "#     ax[1].legend(loc='best', fontsize=10)\n",
    "#     ##########################\n",
    "#     plt.xlabel('step')\n",
    "#     plt.show()\n",
    "    \n",
    "#     ##########################\n",
    "#     # Plot charts of single events (150 timestep windows)\n",
    "#     fig, ax = plt.subplots(1,2, figsize=(20,4), sharex=False)\n",
    "#     fig.suptitle('Single onset and wakeup events and emno / anglez readings in 150 timesteps window (12.5 minutes) for series_id = ' + str(series_id) + ', night = ' + str(night), \n",
    "#                  fontsize=13, y=0.95)\n",
    "#     ##########################\n",
    "#     single_onset = train_merged.iloc[onset_id - 75 : onset_id + 75]\n",
    "#     ax[0].plot(single_onset['step'], single_onset['enmo'], color='magenta', lw=1, alpha=0.75) \n",
    "#     ax[0].axvline(train_merged.iloc[onset_id]['step'], ls='--', color='Navy', alpha=0.9, label='onset')\n",
    "#     ax[0].axvspan(train_merged.iloc[onset_id]['step'], train_merged.iloc[onset_id + 75]['step'], ymin=0, ymax=1,\n",
    "#                   color='coral', linewidth=0.1, alpha=0.1, label='asleep')\n",
    "#     ax[0].legend(loc='upper right', fontsize=10)\n",
    "#     ax[0].set_xlabel('step')\n",
    "#     ax[0].set_ylabel('enmo')\n",
    "#     ax0b = ax[0].twinx()\n",
    "#     ax0b.plot(single_onset['step'], single_onset['anglez'], color='lime', lw=1, alpha=0.75) \n",
    "#     ax0b.set_ylabel('anglez')\n",
    "#     ax0b.legend(loc='best', fontsize=10)\n",
    "#     ##########################\n",
    "#     single_wakeup = train_merged.iloc[wakeup_id - 75 : wakeup_id + 75]\n",
    "#     ax[1].plot(single_wakeup['step'], single_wakeup['enmo'], color='magenta', lw=1, alpha=0.75)\n",
    "#     ax[1].axvline(train_merged.iloc[wakeup_id]['step'], ls='--', color='Red', alpha=0.9, label='wakeup')\n",
    "#     ax[1].axvspan(train_merged.iloc[wakeup_id - 75]['step'], train_merged.iloc[wakeup_id]['step'], ymin=0, ymax=1,\n",
    "#                   color='coral', linewidth=0.1, alpha=0.1, label='asleep')\n",
    "#     ax[1].legend(loc='upper left', fontsize=10)\n",
    "#     ax[1].set_xlabel('step')\n",
    "#     ax[1].set_ylabel('enmo')\n",
    "#     ax1b = ax[1].twinx()\n",
    "#     ax1b.plot(single_wakeup['step'], single_wakeup['anglez'], color='lime', lw=1, alpha=0.75) \n",
    "#     ax1b.set_ylabel('anglez')\n",
    "#     ax1b.legend(loc='best', fontsize=10)\n",
    "#     ##########################\n",
    "#     plt.show()\n",
    "    \n",
    "# # Selector box handlenr function \n",
    "# def series_selector_2_eventhandler(change):\n",
    "#     series_id = series_selector_2.value\n",
    "#     night = night_selector.value\n",
    "#     output_2.clear_output(wait=True)\n",
    "#     with output_2:\n",
    "#         plot_event_pair(series_id, night, train_merged)   \n",
    "        \n",
    "# def night_selector_eventhandler(change):\n",
    "#     series_id = series_selector_2.value\n",
    "#     night = night_selector.value\n",
    "#     output_2.clear_output(wait=True)\n",
    "#     with output_2:\n",
    "#         plot_event_pair(series_id, night, train_merged)  \n",
    "\n",
    "# ####################################################\n",
    "# # Build and display widget\n",
    "# series_selector_2 = widgets.Select(description='Series_id', value=selected_series[0], options=selected_series, rows=8)\n",
    "# series_selector_2.observe(series_selector_2_eventhandler, names='value')\n",
    "\n",
    "# nights = 25\n",
    "\n",
    "# night_selector = widgets.Dropdown(description='Night', value=1, options=range(1, nights+1))\n",
    "# night_selector.observe(night_selector_eventhandler, names='value')\n",
    "\n",
    "# output_2 = widgets.Output()\n",
    "\n",
    "# display(series_selector_2, night_selector, output_2)\n",
    "# ####################################################\n",
    "\n",
    "# with output_2:\n",
    "#     plot_event_pair(selected_series[0], 1, train_merged)"
   ]
  },
  {
   "cell_type": "markdown",
   "id": "e531a247",
   "metadata": {
    "papermill": {
     "duration": 0.014834,
     "end_time": "2023-10-05T14:33:41.481192",
     "exception": false,
     "start_time": "2023-10-05T14:33:41.466358",
     "status": "completed"
    },
    "tags": []
   },
   "source": [
    "### Creation of target column 'asleep' and visualization against accelerometer readings (predictors) and annotated events\n",
    "---\n",
    "\n",
    "The charts show two training sequences, one for an onset event and one for a wakeup, selected randomly from the full sample.\n",
    "\n",
    "Each sequence (or event sample) consists of 150 timesteps centered around the annotated event."
   ]
  },
  {
   "cell_type": "code",
   "execution_count": 18,
   "id": "bda6b0ac",
   "metadata": {
    "execution": {
     "iopub.execute_input": "2023-10-05T14:33:41.514318Z",
     "iopub.status.busy": "2023-10-05T14:33:41.513834Z",
     "iopub.status.idle": "2023-10-05T14:33:44.302807Z",
     "shell.execute_reply": "2023-10-05T14:33:44.301395Z"
    },
    "papermill": {
     "duration": 2.807944,
     "end_time": "2023-10-05T14:33:44.305028",
     "exception": false,
     "start_time": "2023-10-05T14:33:41.497084",
     "status": "completed"
    },
    "tags": []
   },
   "outputs": [
    {
     "name": "stdout",
     "output_type": "stream",
     "text": [
      "Nbr. onset samples for training: 1402\n"
     ]
    }
   ],
   "source": [
    "onset_records = list(train_merged[train_merged['event']=='onset'].index)\n",
    "onset_samples = {}\n",
    "\n",
    "for id in onset_records:\n",
    "    onset_samples[id] = train_merged.iloc[id - 75 : id + 75].copy()\n",
    "    onset_samples[id]['asleep'] = 0\n",
    "    onset_samples[id]['asleep'] = onset_samples[id]['event'].replace({\"onset\":1})\n",
    "    onset_samples[id]['asleep'] = onset_samples[id]['asleep'].ffill(axis ='rows')\n",
    "    onset_samples[id]['asleep'].fillna(value=0, inplace=True)\n",
    "    \n",
    "nbr_onset_samples = len(onset_samples.keys())\n",
    "# print(onset_records)\n",
    "print(\"Nbr. onset samples for training: \" + str(nbr_onset_samples))"
   ]
  },
  {
   "cell_type": "code",
   "execution_count": 19,
   "id": "7a59c686",
   "metadata": {
    "execution": {
     "iopub.execute_input": "2023-10-05T14:33:44.337977Z",
     "iopub.status.busy": "2023-10-05T14:33:44.337575Z",
     "iopub.status.idle": "2023-10-05T14:33:45.177267Z",
     "shell.execute_reply": "2023-10-05T14:33:45.176056Z"
    },
    "papermill": {
     "duration": 0.8587,
     "end_time": "2023-10-05T14:33:45.179317",
     "exception": false,
     "start_time": "2023-10-05T14:33:44.320617",
     "status": "completed"
    },
    "tags": []
   },
   "outputs": [
    {
     "data": {
      "image/png": "[encoded data removed]",
      "text/plain": [
       "<Figure size 1600x500 with 3 Axes>"
      ]
     },
     "metadata": {},
     "output_type": "display_data"
    }
   ],
   "source": [
    "# Pick one onset_id randomly\n",
    "onset_id = random.choice(onset_records)\n",
    "# Plot enmo, anglez, event and asleep\n",
    "fig, ax = plt.subplots(2,1, figsize=(16, 5), sharex=True)\n",
    "fig.suptitle('Single onset', fontsize=13, y=0.95)\n",
    "ax[0].plot(onset_samples[onset_id].step, onset_samples[onset_id].enmo, label='enmo', color='magenta', alpha=0.9)\n",
    "ax[0].set_ylabel('enmo')\n",
    "#####################\n",
    "ax0b = ax[0].twinx()\n",
    "ax0b.plot(onset_samples[onset_id].step, onset_samples[onset_id].anglez, label='anglez', color='lime', alpha=0.9)\n",
    "ax0b.set_ylabel('anglez')\n",
    "#####################\n",
    "ax[0].axvline(train_merged.iloc[onset_id]['step'], label='onset', ls='--', lw=2, color='Navy', alpha=0.9) \n",
    "#####################\n",
    "ax[1].bar(onset_samples[onset_id].step, onset_samples[onset_id].asleep, label='asleep', alpha=0.75)\n",
    "ax[1].set_ylabel('asleep = 1')\n",
    "ax[1].set_xlabel('step')\n",
    "#####################\n",
    "fig.legend(loc='center left', fontsize=11)\n",
    "plt.show()"
   ]
  },
  {
   "cell_type": "code",
   "execution_count": 20,
   "id": "efa89c77",
   "metadata": {
    "execution": {
     "iopub.execute_input": "2023-10-05T14:33:45.214334Z",
     "iopub.status.busy": "2023-10-05T14:33:45.213929Z",
     "iopub.status.idle": "2023-10-05T14:33:47.635858Z",
     "shell.execute_reply": "2023-10-05T14:33:47.634791Z"
    },
    "papermill": {
     "duration": 2.44191,
     "end_time": "2023-10-05T14:33:47.638280",
     "exception": false,
     "start_time": "2023-10-05T14:33:45.196370",
     "status": "completed"
    },
    "tags": []
   },
   "outputs": [
    {
     "name": "stdout",
     "output_type": "stream",
     "text": [
      "Nbr. wakeup samples for training: 1402\n"
     ]
    }
   ],
   "source": [
    "wakeup_records = list(train_merged[train_merged['event']=='wakeup'].index)\n",
    "wakeup_samples = {}\n",
    "\n",
    "for id in wakeup_records:\n",
    "    wakeup_samples[id] = train_merged.iloc[id - 75 : id + 75].copy()\n",
    "    wakeup_samples[id]['asleep'] = 0\n",
    "    wakeup_samples[id]['asleep'] = wakeup_samples[id]['event'].replace({\"wakeup\":1})\n",
    "    wakeup_samples[id]['asleep'] = wakeup_samples[id]['asleep'].bfill(axis ='rows')\n",
    "    wakeup_samples[id]['asleep'].fillna(value=0, inplace=True)\n",
    "\n",
    "nbr_wakeup_samples = len(wakeup_samples.keys())\n",
    "# print(wakeup_samples)\n",
    "print(\"Nbr. wakeup samples for training: \" + str(nbr_wakeup_samples))"
   ]
  },
  {
   "cell_type": "code",
   "execution_count": 21,
   "id": "33384d12",
   "metadata": {
    "execution": {
     "iopub.execute_input": "2023-10-05T14:33:47.674769Z",
     "iopub.status.busy": "2023-10-05T14:33:47.674405Z",
     "iopub.status.idle": "2023-10-05T14:33:48.774315Z",
     "shell.execute_reply": "2023-10-05T14:33:48.773198Z"
    },
    "papermill": {
     "duration": 1.120628,
     "end_time": "2023-10-05T14:33:48.776630",
     "exception": false,
     "start_time": "2023-10-05T14:33:47.656002",
     "status": "completed"
    },
    "tags": []
   },
   "outputs": [
    {
     "data": {
      "image/png": "[encoded data removed]",
      "text/plain": [
       "<Figure size 1600x500 with 3 Axes>"
      ]
     },
     "metadata": {},
     "output_type": "display_data"
    }
   ],
   "source": [
    "# Pick one wakeup_id randomly\n",
    "wakeup_id = random.choice(wakeup_records)\n",
    "# Plot enmo, anglez, event and asleep\n",
    "fig, ax = plt.subplots(2,1, figsize=(16, 5), sharex=True)\n",
    "fig.suptitle('Single wakeup', fontsize=13, y=0.95)\n",
    "ax[0].plot(wakeup_samples[wakeup_id].step, wakeup_samples[wakeup_id].enmo, label='enmo', color='magenta', alpha=0.9)\n",
    "ax[0].set_ylabel('enmo')\n",
    "#####################\n",
    "ax0b = ax[0].twinx()\n",
    "ax0b.plot(wakeup_samples[wakeup_id].step, wakeup_samples[wakeup_id].anglez, label='anglez', color='lime', alpha=0.9)\n",
    "ax0b.set_ylabel('anglez')\n",
    "#####################\n",
    "ax[0].axvline(train_merged.iloc[wakeup_id]['step'], label='wakeup', ls='--',  lw=2, color='Red', alpha=0.9) \n",
    "#####################\n",
    "ax[1].bar(wakeup_samples[wakeup_id].step, wakeup_samples[wakeup_id].asleep, label='asleep', alpha=0.75)\n",
    "ax[1].set_ylabel('asleep = 1')\n",
    "ax[1].set_xlabel('step')\n",
    "#####################\n",
    "fig.legend(loc='center left', fontsize=11)\n",
    "plt.show()"
   ]
  },
  {
   "cell_type": "code",
   "execution_count": 22,
   "id": "3025e3c1",
   "metadata": {
    "execution": {
     "iopub.execute_input": "2023-10-05T14:33:48.814725Z",
     "iopub.status.busy": "2023-10-05T14:33:48.814104Z",
     "iopub.status.idle": "2023-10-05T14:33:49.500495Z",
     "shell.execute_reply": "2023-10-05T14:33:49.499180Z"
    },
    "papermill": {
     "duration": 0.710227,
     "end_time": "2023-10-05T14:33:49.504436",
     "exception": false,
     "start_time": "2023-10-05T14:33:48.794209",
     "status": "completed"
    },
    "tags": []
   },
   "outputs": [],
   "source": [
    "# build dataframes of onsets and wakeups from samples dictionaries\n",
    "onset_samples_df = pd.concat(onset_samples, axis=0)\n",
    "wakeup_samples_df = pd.concat(wakeup_samples, axis=0)"
   ]
  },
  {
   "cell_type": "markdown",
   "id": "66a5f914",
   "metadata": {
    "papermill": {
     "duration": 0.017711,
     "end_time": "2023-10-05T14:33:49.541388",
     "exception": false,
     "start_time": "2023-10-05T14:33:49.523677",
     "status": "completed"
    },
    "tags": []
   },
   "source": [
    "We have two dataframes (one for onsets and another for wakeups) with a number of sequences of 150 steps centered around the specific event annotation. These will be the sequences fitted to the neural network for training."
   ]
  },
  {
   "cell_type": "markdown",
   "id": "fa643aec",
   "metadata": {
    "papermill": {
     "duration": 0.018551,
     "end_time": "2023-10-05T14:33:49.577856",
     "exception": false,
     "start_time": "2023-10-05T14:33:49.559305",
     "status": "completed"
    },
    "tags": []
   },
   "source": [
    "### Creation of derived features and preparation of data for RNN training\n",
    "---\n",
    "\n",
    "Here I will create new features with the rolling averages (1 minute window) of enmo and anglez, and with their first derivative.\n",
    "\n",
    "Then I will extract X and y and convert them into tensor flow format.\n",
    "\n",
    "Note that given the huge size of the training dataset and the relative independence of the the different samples (surely different), I am using the full dataset for training and evaluation (in-sample testing) instead of adding additional complexity with held-out data."
   ]
  },
  {
   "cell_type": "code",
   "execution_count": 23,
   "id": "4d33c2ff",
   "metadata": {
    "execution": {
     "iopub.execute_input": "2023-10-05T14:33:49.618221Z",
     "iopub.status.busy": "2023-10-05T14:33:49.617775Z",
     "iopub.status.idle": "2023-10-05T14:33:49.923592Z",
     "shell.execute_reply": "2023-10-05T14:33:49.921633Z"
    },
    "papermill": {
     "duration": 0.33176,
     "end_time": "2023-10-05T14:33:49.927363",
     "exception": false,
     "start_time": "2023-10-05T14:33:49.595603",
     "status": "completed"
    },
    "tags": []
   },
   "outputs": [
    {
     "name": "stdout",
     "output_type": "stream",
     "text": [
      "Nbr. samples for training: 2804\n"
     ]
    }
   ],
   "source": [
    "df1 = onset_samples_df[['series_id', 'asleep', 'anglez', 'enmo']]\n",
    "df2 = wakeup_samples_df[['series_id', 'asleep', 'anglez', 'enmo']]\n",
    "\n",
    "df1['enmo_diff'] = onset_samples_df['enmo'].diff(1)\n",
    "df1['anglez_diff'] = onset_samples_df['anglez'].diff(1)\n",
    "\n",
    "df1['enmo_ma'] = onset_samples_df['enmo'].rolling(12).mean() # 12 steps = 1 minute\n",
    "df1['anglez_ma'] = onset_samples_df['anglez'].rolling(12).mean()\n",
    "\n",
    "df2['enmo_diff'] = wakeup_samples_df['enmo'].diff(1)\n",
    "df2['anglez_diff'] = wakeup_samples_df['anglez'].diff(1)\n",
    "\n",
    "df2['enmo_ma'] = wakeup_samples_df['enmo'].rolling(12).mean()\n",
    "df2['anglez_ma'] = wakeup_samples_df['anglez'].rolling(12).mean()\n",
    "\n",
    "df = pd.concat([df1, df2], axis=0)\n",
    "\n",
    "df = df.fillna(method='bfill')\n",
    " \n",
    "# Each sample iss a 150 steps sequence with a single onset or wakeup event\n",
    "NBR_TRAIN_SAMPLES = nbr_onset_samples + nbr_wakeup_samples\n",
    "print(\"Nbr. samples for training: \" + str(NBR_TRAIN_SAMPLES))"
   ]
  },
  {
   "cell_type": "code",
   "execution_count": 24,
   "id": "6fb32dff",
   "metadata": {
    "execution": {
     "iopub.execute_input": "2023-10-05T14:33:49.964506Z",
     "iopub.status.busy": "2023-10-05T14:33:49.964133Z",
     "iopub.status.idle": "2023-10-05T14:33:49.983471Z",
     "shell.execute_reply": "2023-10-05T14:33:49.982114Z"
    },
    "papermill": {
     "duration": 0.04057,
     "end_time": "2023-10-05T14:33:49.985660",
     "exception": false,
     "start_time": "2023-10-05T14:33:49.945090",
     "status": "completed"
    },
    "tags": []
   },
   "outputs": [
    {
     "data": {
      "text/html": [
       "<div>\n",
       "<style scoped>\n",
       "    .dataframe tbody tr th:only-of-type {\n",
       "        vertical-align: middle;\n",
       "    }\n",
       "\n",
       "    .dataframe tbody tr th {\n",
       "        vertical-align: top;\n",
       "    }\n",
       "\n",
       "    .dataframe thead th {\n",
       "        text-align: right;\n",
       "    }\n",
       "</style>\n",
       "<table border=\"1\" class=\"dataframe\">\n",
       "  <thead>\n",
       "    <tr style=\"text-align: right;\">\n",
       "      <th></th>\n",
       "      <th></th>\n",
       "      <th>series_id</th>\n",
       "      <th>asleep</th>\n",
       "      <th>anglez</th>\n",
       "      <th>enmo</th>\n",
       "      <th>enmo_diff</th>\n",
       "      <th>anglez_diff</th>\n",
       "      <th>enmo_ma</th>\n",
       "      <th>anglez_ma</th>\n",
       "    </tr>\n",
       "  </thead>\n",
       "  <tbody>\n",
       "    <tr>\n",
       "      <th rowspan=\"5\" valign=\"top\">23484</th>\n",
       "      <th>23409</th>\n",
       "      <td>04f547b8017d</td>\n",
       "      <td>0.0</td>\n",
       "      <td>9.12</td>\n",
       "      <td>0.0</td>\n",
       "      <td>NaN</td>\n",
       "      <td>NaN</td>\n",
       "      <td>NaN</td>\n",
       "      <td>NaN</td>\n",
       "    </tr>\n",
       "    <tr>\n",
       "      <th>23410</th>\n",
       "      <td>04f547b8017d</td>\n",
       "      <td>0.0</td>\n",
       "      <td>9.03</td>\n",
       "      <td>0.0</td>\n",
       "      <td>0.0</td>\n",
       "      <td>-0.08</td>\n",
       "      <td>NaN</td>\n",
       "      <td>NaN</td>\n",
       "    </tr>\n",
       "    <tr>\n",
       "      <th>23411</th>\n",
       "      <td>04f547b8017d</td>\n",
       "      <td>0.0</td>\n",
       "      <td>9.03</td>\n",
       "      <td>0.0</td>\n",
       "      <td>0.0</td>\n",
       "      <td>0.00</td>\n",
       "      <td>NaN</td>\n",
       "      <td>NaN</td>\n",
       "    </tr>\n",
       "    <tr>\n",
       "      <th>23412</th>\n",
       "      <td>04f547b8017d</td>\n",
       "      <td>0.0</td>\n",
       "      <td>9.03</td>\n",
       "      <td>0.0</td>\n",
       "      <td>0.0</td>\n",
       "      <td>0.00</td>\n",
       "      <td>NaN</td>\n",
       "      <td>NaN</td>\n",
       "    </tr>\n",
       "    <tr>\n",
       "      <th>23413</th>\n",
       "      <td>04f547b8017d</td>\n",
       "      <td>0.0</td>\n",
       "      <td>9.03</td>\n",
       "      <td>0.0</td>\n",
       "      <td>0.0</td>\n",
       "      <td>0.00</td>\n",
       "      <td>NaN</td>\n",
       "      <td>NaN</td>\n",
       "    </tr>\n",
       "  </tbody>\n",
       "</table>\n",
       "</div>"
      ],
      "text/plain": [
       "                series_id  asleep  anglez  enmo  enmo_diff  anglez_diff  \\\n",
       "23484 23409  04f547b8017d     0.0    9.12   0.0        NaN          NaN   \n",
       "      23410  04f547b8017d     0.0    9.03   0.0        0.0        -0.08   \n",
       "      23411  04f547b8017d     0.0    9.03   0.0        0.0         0.00   \n",
       "      23412  04f547b8017d     0.0    9.03   0.0        0.0         0.00   \n",
       "      23413  04f547b8017d     0.0    9.03   0.0        0.0         0.00   \n",
       "\n",
       "             enmo_ma  anglez_ma  \n",
       "23484 23409      NaN        NaN  \n",
       "      23410      NaN        NaN  \n",
       "      23411      NaN        NaN  \n",
       "      23412      NaN        NaN  \n",
       "      23413      NaN        NaN  "
      ]
     },
     "execution_count": 24,
     "metadata": {},
     "output_type": "execute_result"
    }
   ],
   "source": [
    "df1.head()"
   ]
  },
  {
   "cell_type": "markdown",
   "id": "3198d662",
   "metadata": {
    "papermill": {
     "duration": 0.019224,
     "end_time": "2023-10-05T14:33:50.024213",
     "exception": false,
     "start_time": "2023-10-05T14:33:50.004989",
     "status": "completed"
    },
    "tags": []
   },
   "source": [
    "# "
   ]
  },
  {
   "cell_type": "code",
   "execution_count": 25,
   "id": "8e1791e4",
   "metadata": {
    "execution": {
     "iopub.execute_input": "2023-10-05T14:33:50.062507Z",
     "iopub.status.busy": "2023-10-05T14:33:50.062137Z",
     "iopub.status.idle": "2023-10-05T14:33:50.089768Z",
     "shell.execute_reply": "2023-10-05T14:33:50.087983Z"
    },
    "papermill": {
     "duration": 0.050545,
     "end_time": "2023-10-05T14:33:50.092867",
     "exception": false,
     "start_time": "2023-10-05T14:33:50.042322",
     "status": "completed"
    },
    "tags": []
   },
   "outputs": [
    {
     "name": "stdout",
     "output_type": "stream",
     "text": [
      "X shape:(2804, 150, 6)\n",
      "y shape:(2804, 150)\n"
     ]
    }
   ],
   "source": [
    "TIMESTEPS = 150\n",
    "features = ['anglez', 'enmo', 'anglez_diff', 'enmo_diff',  'anglez_ma', 'enmo_ma']\n",
    "NBR_FEATURES = len(features)\n",
    "\n",
    "X = df[features].to_numpy().reshape(NBR_TRAIN_SAMPLES, TIMESTEPS, NBR_FEATURES)\n",
    "y = df['asleep'].to_numpy().reshape(NBR_TRAIN_SAMPLES, TIMESTEPS)\n",
    "\n",
    "print('X shape:' + str(X.shape))\n",
    "print('y shape:' + str(y.shape))"
   ]
  },
  {
   "cell_type": "code",
   "execution_count": 26,
   "id": "ccdcf7f2",
   "metadata": {
    "execution": {
     "iopub.execute_input": "2023-10-05T14:33:50.133495Z",
     "iopub.status.busy": "2023-10-05T14:33:50.133102Z",
     "iopub.status.idle": "2023-10-05T14:33:50.138698Z",
     "shell.execute_reply": "2023-10-05T14:33:50.137165Z"
    },
    "papermill": {
     "duration": 0.028953,
     "end_time": "2023-10-05T14:33:50.141215",
     "exception": false,
     "start_time": "2023-10-05T14:33:50.112262",
     "status": "completed"
    },
    "tags": []
   },
   "outputs": [],
   "source": [
    "X_train = X\n",
    "y_train = y"
   ]
  },
  {
   "cell_type": "markdown",
   "id": "39c6a743",
   "metadata": {
    "papermill": {
     "duration": 0.019326,
     "end_time": "2023-10-05T14:33:50.179246",
     "exception": false,
     "start_time": "2023-10-05T14:33:50.159920",
     "status": "completed"
    },
    "tags": []
   },
   "source": [
    "### Neural network model\n",
    "---\n",
    "\n",
    "My proposed neural network model includes a 1D convolutional layer followed by a bidirectional LSTM layer or two, along with the input and output (dense) layers.\n",
    "\n",
    "For each test sample, the model predicts the probability of each timestep belonging to the positive class (that is, the probability of the asleep state).\n",
    "\n",
    "Pretty simple eh??? Well, may be not so much so!"
   ]
  },
  {
   "cell_type": "code",
   "execution_count": 27,
   "id": "1016e18f",
   "metadata": {
    "execution": {
     "iopub.execute_input": "2023-10-05T14:33:50.217430Z",
     "iopub.status.busy": "2023-10-05T14:33:50.217052Z",
     "iopub.status.idle": "2023-10-05T14:33:51.714729Z",
     "shell.execute_reply": "2023-10-05T14:33:51.713334Z"
    },
    "papermill": {
     "duration": 1.521169,
     "end_time": "2023-10-05T14:33:51.718923",
     "exception": false,
     "start_time": "2023-10-05T14:33:50.197754",
     "status": "completed"
    },
    "tags": []
   },
   "outputs": [
    {
     "name": "stdout",
     "output_type": "stream",
     "text": [
      "Model: \"model\"\n",
      "_________________________________________________________________\n",
      " Layer (type)                Output Shape              Param #   \n",
      "=================================================================\n",
      " input_1 (InputLayer)        [(None, 150, 6)]          0         \n",
      "                                                                 \n",
      " conv1d (Conv1D)             (None, 150, 32)           1568      \n",
      "                                                                 \n",
      " bidirectional (Bidirectiona  (None, 150, 300)         219600    \n",
      " l)                                                              \n",
      "                                                                 \n",
      " bidirectional_1 (Bidirectio  (None, 150, 300)         541200    \n",
      " nal)                                                            \n",
      "                                                                 \n",
      " dense (Dense)               (None, 150, 1)            301       \n",
      "                                                                 \n",
      "=================================================================\n",
      "Total params: 762,669\n",
      "Trainable params: 762,669\n",
      "Non-trainable params: 0\n",
      "_________________________________________________________________\n"
     ]
    }
   ],
   "source": [
    "#####################################################\n",
    "# RNN training parameters\n",
    "BATCH_SIZE = 16\n",
    "EPOCHS = 50\n",
    "#####################################################\n",
    "\n",
    "# Input layer\n",
    "input_layer = Input(shape=(TIMESTEPS, NBR_FEATURES)) \n",
    "\n",
    "# Convolutional layer\n",
    "conv_layer = Conv1D(filters=32, \n",
    "                    kernel_size=8,\n",
    "                    strides=1,\n",
    "                    activation='relu',\n",
    "                    padding='same')(input_layer)\n",
    "\n",
    "# Bidirectional LSTM layer\n",
    "lstm_layer = Bidirectional(LSTM(TIMESTEPS, return_sequences=True))(conv_layer)\n",
    "\n",
    "# Bidirectional LSTM layer\n",
    "lstm_layer_2 = Bidirectional(LSTM(TIMESTEPS, return_sequences=True))(lstm_layer)\n",
    "\n",
    "# Output layer\n",
    "output_layer = Dense(1, activation='sigmoid')(lstm_layer_2)\n",
    "\n",
    "# Build the RNN model\n",
    "RNN = Model(inputs=input_layer, outputs=output_layer)\n",
    "\n",
    "RNN.summary()"
   ]
  },
  {
   "cell_type": "code",
   "execution_count": 28,
   "id": "dc05b03e",
   "metadata": {
    "execution": {
     "iopub.execute_input": "2023-10-05T14:33:51.762151Z",
     "iopub.status.busy": "2023-10-05T14:33:51.761186Z",
     "iopub.status.idle": "2023-10-05T14:33:51.768546Z",
     "shell.execute_reply": "2023-10-05T14:33:51.767634Z"
    },
    "papermill": {
     "duration": 0.032215,
     "end_time": "2023-10-05T14:33:51.771825",
     "exception": false,
     "start_time": "2023-10-05T14:33:51.739610",
     "status": "completed"
    },
    "tags": []
   },
   "outputs": [
    {
     "name": "stdout",
     "output_type": "stream",
     "text": [
      "\n",
      "TRAINING DATASET DIMENSIONS\n",
      "--------------------------------------------------------------------------------\n",
      "  NUMBER OF TRAINING SERIES : 80\n",
      "  TIMESTEPS PER SAMPLE : 150\n",
      "  NUMBER OF FEATURES : 6\n",
      "\n",
      "NEURAL NETWORK TRAINING PARAMETERS\n",
      "--------------------------------------------------------------------------------\n",
      "  BATCH SIZE : 16\n",
      "  NUMBER OF EPOCHS : 50\n",
      "\n"
     ]
    }
   ],
   "source": [
    "print()\n",
    "print('TRAINING DATASET DIMENSIONS')\n",
    "print('-'*80)\n",
    "print('  NUMBER OF TRAINING SERIES : ' + str(NBR_TRAINING_SERIES))\n",
    "print('  TIMESTEPS PER SAMPLE : ' + str(TIMESTEPS))\n",
    "print('  NUMBER OF FEATURES : ' + str(NBR_FEATURES ))\n",
    "# print('  ' + str(features))\n",
    "print()\n",
    "print('NEURAL NETWORK TRAINING PARAMETERS')\n",
    "print('-'*80)\n",
    "print('  BATCH SIZE : ' + str(BATCH_SIZE))\n",
    "print('  NUMBER OF EPOCHS : ' + str(EPOCHS))\n",
    "print()"
   ]
  },
  {
   "cell_type": "code",
   "execution_count": 29,
   "id": "881b87fc",
   "metadata": {
    "execution": {
     "iopub.execute_input": "2023-10-05T14:33:51.815952Z",
     "iopub.status.busy": "2023-10-05T14:33:51.815462Z",
     "iopub.status.idle": "2023-10-05T14:33:52.128201Z",
     "shell.execute_reply": "2023-10-05T14:33:52.127090Z"
    },
    "papermill": {
     "duration": 0.337334,
     "end_time": "2023-10-05T14:33:52.130595",
     "exception": false,
     "start_time": "2023-10-05T14:33:51.793261",
     "status": "completed"
    },
    "tags": []
   },
   "outputs": [
    {
     "data": {
      "image/png": "[encoded data removed]",
      "text/plain": [
       "<IPython.core.display.Image object>"
      ]
     },
     "execution_count": 29,
     "metadata": {},
     "output_type": "execute_result"
    }
   ],
   "source": [
    "plot_model(RNN, \"deleteme.png\", show_shapes=True)"
   ]
  },
  {
   "cell_type": "code",
   "execution_count": 30,
   "id": "b0c5a595",
   "metadata": {
    "execution": {
     "iopub.execute_input": "2023-10-05T14:33:52.173236Z",
     "iopub.status.busy": "2023-10-05T14:33:52.172401Z",
     "iopub.status.idle": "2023-10-05T15:27:58.890372Z",
     "shell.execute_reply": "2023-10-05T15:27:58.888653Z"
    },
    "papermill": {
     "duration": 3246.742485,
     "end_time": "2023-10-05T15:27:58.893476",
     "exception": false,
     "start_time": "2023-10-05T14:33:52.150991",
     "status": "completed"
    },
    "tags": []
   },
   "outputs": [
    {
     "name": "stdout",
     "output_type": "stream",
     "text": [
      "Epoch 1/50\n",
      "176/176 [==============================] - 98s 516ms/step - loss: 0.4582\n",
      "Epoch 2/50\n",
      "176/176 [==============================] - 90s 511ms/step - loss: 0.3379\n",
      "Epoch 3/50\n",
      "176/176 [==============================] - 90s 512ms/step - loss: 0.2575\n",
      "Epoch 4/50\n",
      "176/176 [==============================] - 92s 521ms/step - loss: 0.2140\n",
      "Epoch 5/50\n",
      "176/176 [==============================] - 91s 515ms/step - loss: 0.1928\n",
      "Epoch 6/50\n",
      "176/176 [==============================] - 110s 628ms/step - loss: 0.1712\n",
      "Epoch 7/50\n",
      "176/176 [==============================] - 91s 515ms/step - loss: 0.1583\n",
      "Epoch 8/50\n",
      "176/176 [==============================] - 91s 515ms/step - loss: 0.1512\n",
      "Epoch 9/50\n",
      "176/176 [==============================] - 91s 516ms/step - loss: 0.1425\n",
      "Epoch 10/50\n",
      "176/176 [==============================] - 92s 521ms/step - loss: 0.1375\n",
      "Epoch 11/50\n",
      "176/176 [==============================] - 101s 573ms/step - loss: 0.1354\n",
      "Epoch 12/50\n",
      "176/176 [==============================] - 91s 515ms/step - loss: 0.1234\n",
      "Epoch 13/50\n",
      "176/176 [==============================] - 91s 518ms/step - loss: 0.1256\n",
      "Epoch 14/50\n",
      "176/176 [==============================] - 92s 521ms/step - loss: 0.1177\n",
      "Epoch 15/50\n",
      "176/176 [==============================] - 91s 517ms/step - loss: 0.1139\n",
      "Epoch 16/50\n",
      "176/176 [==============================] - 91s 516ms/step - loss: 0.1041\n",
      "Epoch 17/50\n",
      "176/176 [==============================] - 93s 526ms/step - loss: 0.1001\n",
      "Epoch 18/50\n",
      "176/176 [==============================] - 91s 518ms/step - loss: 0.1041\n",
      "Epoch 19/50\n",
      "176/176 [==============================] - 91s 514ms/step - loss: 0.0989\n",
      "Epoch 20/50\n",
      "176/176 [==============================] - 92s 520ms/step - loss: 0.0982\n",
      "Epoch 21/50\n",
      "176/176 [==============================] - 93s 531ms/step - loss: 0.0843\n",
      "Epoch 22/50\n",
      "176/176 [==============================] - 94s 532ms/step - loss: 0.0828\n",
      "Epoch 23/50\n",
      "176/176 [==============================] - 93s 528ms/step - loss: 0.0799\n",
      "Epoch 24/50\n",
      "176/176 [==============================] - 92s 521ms/step - loss: 0.0741\n",
      "Epoch 25/50\n",
      "176/176 [==============================] - 92s 523ms/step - loss: 0.0884\n",
      "Epoch 26/50\n",
      "176/176 [==============================] - 92s 522ms/step - loss: 0.0694\n",
      "Epoch 27/50\n",
      "176/176 [==============================] - 91s 519ms/step - loss: 0.0655\n",
      "Epoch 28/50\n",
      "176/176 [==============================] - 92s 523ms/step - loss: 0.0667\n",
      "Epoch 29/50\n",
      "176/176 [==============================] - 91s 520ms/step - loss: 0.0592\n",
      "Epoch 30/50\n",
      "176/176 [==============================] - 93s 531ms/step - loss: 0.0670\n",
      "Epoch 31/50\n",
      "176/176 [==============================] - 93s 528ms/step - loss: 0.0577\n",
      "Epoch 32/50\n",
      "176/176 [==============================] - 93s 526ms/step - loss: 0.0523\n",
      "Epoch 33/50\n",
      "176/176 [==============================] - 94s 535ms/step - loss: 0.0583\n",
      "Epoch 34/50\n",
      "176/176 [==============================] - 92s 522ms/step - loss: 0.0747\n",
      "Epoch 35/50\n",
      "176/176 [==============================] - 94s 534ms/step - loss: 0.0550\n",
      "CPU times: user 2h 59min 6s, sys: 15min 41s, total: 3h 14min 48s\n",
      "Wall time: 54min 6s\n"
     ]
    }
   ],
   "source": [
    "%%time\n",
    "# Compile model\n",
    "RNN.compile(optimizer=Adamax(learning_rate=1e-3),\n",
    "            loss=BinaryCrossentropy())\n",
    "\n",
    "# Define EarlyStopping callback\n",
    "callback = EarlyStopping(monitor='loss', patience=3)\n",
    "\n",
    "# Fit the model with the data\n",
    "RNN_history = RNN.fit(X_train, y_train, \n",
    "                      batch_size=BATCH_SIZE, \n",
    "                      epochs=EPOCHS, \n",
    "                      callbacks=[callback])"
   ]
  },
  {
   "cell_type": "code",
   "execution_count": 31,
   "id": "ee89e815",
   "metadata": {
    "execution": {
     "iopub.execute_input": "2023-10-05T15:27:59.675432Z",
     "iopub.status.busy": "2023-10-05T15:27:59.674514Z",
     "iopub.status.idle": "2023-10-05T15:28:00.070824Z",
     "shell.execute_reply": "2023-10-05T15:28:00.069596Z"
    },
    "papermill": {
     "duration": 0.83179,
     "end_time": "2023-10-05T15:28:00.073372",
     "exception": false,
     "start_time": "2023-10-05T15:27:59.241582",
     "status": "completed"
    },
    "tags": []
   },
   "outputs": [
    {
     "name": "stdout",
     "output_type": "stream",
     "text": [
      "CPU times: user 127 ms, sys: 51 ms, total: 178 ms\n",
      "Wall time: 115 ms\n"
     ]
    },
    {
     "data": {
      "image/png": "[encoded data removed]",
      "text/plain": [
       "<Figure size 800x400 with 1 Axes>"
      ]
     },
     "metadata": {},
     "output_type": "display_data"
    }
   ],
   "source": [
    "%%time\n",
    "# Convert the training history to a dataframe\n",
    "RNN_history_df = pd.DataFrame(RNN_history.history)\n",
    "\n",
    "# Plot RNN training loss vs. epochs\n",
    "RNN_history_df['loss'].plot(figsize=(8,4), title='Neural network training loss', color='brown');"
   ]
  },
  {
   "cell_type": "code",
   "execution_count": 32,
   "id": "2c3f7cb5",
   "metadata": {
    "execution": {
     "iopub.execute_input": "2023-10-05T15:28:00.832843Z",
     "iopub.status.busy": "2023-10-05T15:28:00.831483Z",
     "iopub.status.idle": "2023-10-05T15:28:20.278526Z",
     "shell.execute_reply": "2023-10-05T15:28:20.276495Z"
    },
    "papermill": {
     "duration": 19.853586,
     "end_time": "2023-10-05T15:28:20.281565",
     "exception": false,
     "start_time": "2023-10-05T15:28:00.427979",
     "status": "completed"
    },
    "tags": []
   },
   "outputs": [
    {
     "name": "stdout",
     "output_type": "stream",
     "text": [
      "88/88 [==============================] - 19s 200ms/step\n"
     ]
    }
   ],
   "source": [
    "# Make predictions and compare to true values\n",
    "X_test = X_train\n",
    "y_test = y_train\n",
    "predicted_values = RNN.predict(X_test)"
   ]
  },
  {
   "cell_type": "markdown",
   "id": "35797af2",
   "metadata": {
    "papermill": {
     "duration": 0.355853,
     "end_time": "2023-10-05T15:28:21.074327",
     "exception": false,
     "start_time": "2023-10-05T15:28:20.718474",
     "status": "completed"
    },
    "tags": []
   },
   "source": [
    "The predicted values are the probabilities of a step belonging to the asleep state. "
   ]
  },
  {
   "cell_type": "code",
   "execution_count": 33,
   "id": "1d714883",
   "metadata": {
    "execution": {
     "iopub.execute_input": "2023-10-05T15:28:21.789388Z",
     "iopub.status.busy": "2023-10-05T15:28:21.788964Z",
     "iopub.status.idle": "2023-10-05T15:28:22.114424Z",
     "shell.execute_reply": "2023-10-05T15:28:22.113251Z"
    },
    "papermill": {
     "duration": 0.68657,
     "end_time": "2023-10-05T15:28:22.116397",
     "exception": false,
     "start_time": "2023-10-05T15:28:21.429827",
     "status": "completed"
    },
    "tags": []
   },
   "outputs": [
    {
     "data": {
      "image/png": "[encoded data removed]",
      "text/plain": [
       "<Figure size 1000x400 with 1 Axes>"
      ]
     },
     "metadata": {},
     "output_type": "display_data"
    }
   ],
   "source": [
    "# Onset predictions\n",
    "fig, ax = plt.subplots(1,1, figsize=(10,4))\n",
    "for i in range(20):\n",
    "    ax.set_title('Onset events (target) and asleep probability predictions')\n",
    "    ax.plot(y_test[i], linestyle='--', color='Navy')\n",
    "    ax.plot(predicted_values[i], lw=1)\n",
    "    ax.set_xlabel('step')\n",
    "plt.show()"
   ]
  },
  {
   "cell_type": "code",
   "execution_count": 34,
   "id": "840b2a9f",
   "metadata": {
    "execution": {
     "iopub.execute_input": "2023-10-05T15:28:22.947928Z",
     "iopub.status.busy": "2023-10-05T15:28:22.946590Z",
     "iopub.status.idle": "2023-10-05T15:28:23.262246Z",
     "shell.execute_reply": "2023-10-05T15:28:23.261064Z"
    },
    "papermill": {
     "duration": 0.792015,
     "end_time": "2023-10-05T15:28:23.264498",
     "exception": false,
     "start_time": "2023-10-05T15:28:22.472483",
     "status": "completed"
    },
    "tags": []
   },
   "outputs": [
    {
     "data": {
      "image/png": "[encoded data removed]",
      "text/plain": [
       "<Figure size 1000x400 with 1 Axes>"
      ]
     },
     "metadata": {},
     "output_type": "display_data"
    }
   ],
   "source": [
    "# Wakeup predictions\n",
    "fig, ax = plt.subplots(1,1, figsize=(10,4))\n",
    "for i in range(20):\n",
    "    ax.set_title('Wakeup events (target) and asleep probability predictions')\n",
    "    ax.plot(y_test[i + nbr_onset_samples], linestyle='--', color='Red')\n",
    "    ax.plot(predicted_values[i + nbr_onset_samples], lw=1)\n",
    "    ax.set_xlabel('step')\n",
    "plt.show()"
   ]
  },
  {
   "cell_type": "code",
   "execution_count": 35,
   "id": "9dfa8866",
   "metadata": {
    "execution": {
     "iopub.execute_input": "2023-10-05T15:28:23.986694Z",
     "iopub.status.busy": "2023-10-05T15:28:23.986337Z",
     "iopub.status.idle": "2023-10-05T15:28:23.992243Z",
     "shell.execute_reply": "2023-10-05T15:28:23.990985Z"
    },
    "papermill": {
     "duration": 0.365239,
     "end_time": "2023-10-05T15:28:23.994771",
     "exception": false,
     "start_time": "2023-10-05T15:28:23.629532",
     "status": "completed"
    },
    "tags": []
   },
   "outputs": [
    {
     "name": "stdout",
     "output_type": "stream",
     "text": [
      "predicted values shape:  (2804, 150, 1)\n",
      "y test shape:  (2804, 150)\n"
     ]
    }
   ],
   "source": [
    "print('predicted values shape: ', predicted_values.shape)\n",
    "print('y test shape: ', y_test.shape)"
   ]
  },
  {
   "cell_type": "code",
   "execution_count": 36,
   "id": "40d5a83a",
   "metadata": {
    "execution": {
     "iopub.execute_input": "2023-10-05T15:28:24.709778Z",
     "iopub.status.busy": "2023-10-05T15:28:24.708497Z",
     "iopub.status.idle": "2023-10-05T15:28:24.722536Z",
     "shell.execute_reply": "2023-10-05T15:28:24.721559Z"
    },
    "papermill": {
     "duration": 0.376785,
     "end_time": "2023-10-05T15:28:24.724743",
     "exception": false,
     "start_time": "2023-10-05T15:28:24.347958",
     "status": "completed"
    },
    "tags": []
   },
   "outputs": [
    {
     "data": {
      "text/plain": [
       "array([[[0, 0, 0, ..., 1, 1, 1],\n",
       "        [0, 0, 0, ..., 1, 1, 1],\n",
       "        [0, 0, 0, ..., 1, 1, 1],\n",
       "        ...,\n",
       "        [1, 1, 1, ..., 0, 0, 0],\n",
       "        [1, 1, 1, ..., 0, 0, 0],\n",
       "        [1, 0, 1, ..., 0, 0, 0]]])"
      ]
     },
     "execution_count": 36,
     "metadata": {},
     "output_type": "execute_result"
    }
   ],
   "source": [
    "# Convert predicted asleep probabilities to binary state\n",
    "predicted_asleep_state = np.where(predicted_values > 0.5, 1, 0 )\n",
    "predicted_asleep_state.T"
   ]
  },
  {
   "cell_type": "code",
   "execution_count": 37,
   "id": "f6d055fc",
   "metadata": {
    "execution": {
     "iopub.execute_input": "2023-10-05T15:28:25.536441Z",
     "iopub.status.busy": "2023-10-05T15:28:25.535189Z",
     "iopub.status.idle": "2023-10-05T15:28:25.543887Z",
     "shell.execute_reply": "2023-10-05T15:28:25.543033Z"
    },
    "papermill": {
     "duration": 0.371475,
     "end_time": "2023-10-05T15:28:25.545957",
     "exception": false,
     "start_time": "2023-10-05T15:28:25.174482",
     "status": "completed"
    },
    "tags": []
   },
   "outputs": [
    {
     "data": {
      "text/plain": [
       "(2804, 150, 1)"
      ]
     },
     "execution_count": 37,
     "metadata": {},
     "output_type": "execute_result"
    }
   ],
   "source": [
    "predicted_asleep_state.shape"
   ]
  },
  {
   "cell_type": "markdown",
   "id": "70a5e5dd",
   "metadata": {
    "papermill": {
     "duration": 0.356786,
     "end_time": "2023-10-05T15:28:26.261917",
     "exception": false,
     "start_time": "2023-10-05T15:28:25.905131",
     "status": "completed"
    },
    "tags": []
   },
   "source": [
    "Below is a sample of the 'asleep' state values from the sample of wakeups. Only left is to identify the step at which the wakeup event occurs."
   ]
  },
  {
   "cell_type": "code",
   "execution_count": 38,
   "id": "dd2e2234",
   "metadata": {
    "execution": {
     "iopub.execute_input": "2023-10-05T15:28:27.051327Z",
     "iopub.status.busy": "2023-10-05T15:28:27.050541Z",
     "iopub.status.idle": "2023-10-05T15:28:28.577339Z",
     "shell.execute_reply": "2023-10-05T15:28:28.576156Z"
    },
    "papermill": {
     "duration": 1.962263,
     "end_time": "2023-10-05T15:28:28.579738",
     "exception": false,
     "start_time": "2023-10-05T15:28:26.617475",
     "status": "completed"
    },
    "tags": []
   },
   "outputs": [
    {
     "data": {
      "image/png": "[encoded data removed]",
      "text/plain": [
       "<Figure size 800x1000 with 10 Axes>"
      ]
     },
     "metadata": {},
     "output_type": "display_data"
    }
   ],
   "source": [
    "fig, ax = plt.subplots(10,1, figsize=(8,10), sharex=True)\n",
    "plt.suptitle('Predicted asleep state', y=0.92)\n",
    "for i in range(10):\n",
    "    ax[i].plot(y_test[i + nbr_onset_samples], linestyle='--', color='Red', label='Ground truth')\n",
    "    ax[i].plot(predicted_asleep_state[i + nbr_onset_samples], lw=1.5, alpha=0.75, label='Predictions')\n",
    "    ax[i].set_xlabel('step')\n",
    "plt.show()"
   ]
  },
  {
   "cell_type": "code",
   "execution_count": 39,
   "id": "2bb3df7e",
   "metadata": {
    "execution": {
     "iopub.execute_input": "2023-10-05T15:28:29.304364Z",
     "iopub.status.busy": "2023-10-05T15:28:29.303955Z",
     "iopub.status.idle": "2023-10-05T15:28:29.407667Z",
     "shell.execute_reply": "2023-10-05T15:28:29.406611Z"
    },
    "papermill": {
     "duration": 0.467336,
     "end_time": "2023-10-05T15:28:29.410056",
     "exception": false,
     "start_time": "2023-10-05T15:28:28.942720",
     "status": "completed"
    },
    "tags": []
   },
   "outputs": [
    {
     "data": {
      "text/html": [
       "<div>\n",
       "<style scoped>\n",
       "    .dataframe tbody tr th:only-of-type {\n",
       "        vertical-align: middle;\n",
       "    }\n",
       "\n",
       "    .dataframe tbody tr th {\n",
       "        vertical-align: top;\n",
       "    }\n",
       "\n",
       "    .dataframe thead th {\n",
       "        text-align: right;\n",
       "    }\n",
       "</style>\n",
       "<table border=\"1\" class=\"dataframe\">\n",
       "  <thead>\n",
       "    <tr style=\"text-align: right;\">\n",
       "      <th></th>\n",
       "      <th></th>\n",
       "      <th>asleep</th>\n",
       "      <th>asleep_diff</th>\n",
       "      <th>event</th>\n",
       "    </tr>\n",
       "  </thead>\n",
       "  <tbody>\n",
       "    <tr>\n",
       "      <th rowspan=\"5\" valign=\"top\">23484</th>\n",
       "      <th>23409</th>\n",
       "      <td>0</td>\n",
       "      <td>0.0</td>\n",
       "      <td>0.0</td>\n",
       "    </tr>\n",
       "    <tr>\n",
       "      <th>23410</th>\n",
       "      <td>0</td>\n",
       "      <td>0.0</td>\n",
       "      <td>0.0</td>\n",
       "    </tr>\n",
       "    <tr>\n",
       "      <th>23411</th>\n",
       "      <td>0</td>\n",
       "      <td>0.0</td>\n",
       "      <td>0.0</td>\n",
       "    </tr>\n",
       "    <tr>\n",
       "      <th>23412</th>\n",
       "      <td>0</td>\n",
       "      <td>0.0</td>\n",
       "      <td>0.0</td>\n",
       "    </tr>\n",
       "    <tr>\n",
       "      <th>23413</th>\n",
       "      <td>0</td>\n",
       "      <td>0.0</td>\n",
       "      <td>0.0</td>\n",
       "    </tr>\n",
       "    <tr>\n",
       "      <th>...</th>\n",
       "      <th>...</th>\n",
       "      <td>...</td>\n",
       "      <td>...</td>\n",
       "      <td>...</td>\n",
       "    </tr>\n",
       "    <tr>\n",
       "      <th rowspan=\"5\" valign=\"top\">38209344</th>\n",
       "      <th>38209414</th>\n",
       "      <td>0</td>\n",
       "      <td>0.0</td>\n",
       "      <td>0.0</td>\n",
       "    </tr>\n",
       "    <tr>\n",
       "      <th>38209415</th>\n",
       "      <td>0</td>\n",
       "      <td>0.0</td>\n",
       "      <td>0.0</td>\n",
       "    </tr>\n",
       "    <tr>\n",
       "      <th>38209416</th>\n",
       "      <td>0</td>\n",
       "      <td>0.0</td>\n",
       "      <td>0.0</td>\n",
       "    </tr>\n",
       "    <tr>\n",
       "      <th>38209417</th>\n",
       "      <td>0</td>\n",
       "      <td>0.0</td>\n",
       "      <td>0.0</td>\n",
       "    </tr>\n",
       "    <tr>\n",
       "      <th>38209418</th>\n",
       "      <td>0</td>\n",
       "      <td>0.0</td>\n",
       "      <td>0.0</td>\n",
       "    </tr>\n",
       "  </tbody>\n",
       "</table>\n",
       "<p>420600 rows × 3 columns</p>\n",
       "</div>"
      ],
      "text/plain": [
       "                   asleep  asleep_diff event\n",
       "23484    23409          0          0.0   0.0\n",
       "         23410          0          0.0   0.0\n",
       "         23411          0          0.0   0.0\n",
       "         23412          0          0.0   0.0\n",
       "         23413          0          0.0   0.0\n",
       "...                   ...          ...   ...\n",
       "38209344 38209414       0          0.0   0.0\n",
       "         38209415       0          0.0   0.0\n",
       "         38209416       0          0.0   0.0\n",
       "         38209417       0          0.0   0.0\n",
       "         38209418       0          0.0   0.0\n",
       "\n",
       "[420600 rows x 3 columns]"
      ]
     },
     "execution_count": 39,
     "metadata": {},
     "output_type": "execute_result"
    }
   ],
   "source": [
    "predictions_df = pd.DataFrame(index=df.index)\n",
    "predictions_df['asleep'] = predicted_asleep_state.reshape(NBR_TRAIN_SAMPLES*TIMESTEPS,1)\n",
    "predictions_df['asleep_diff'] = predictions_df['asleep'].diff(1).fillna(method='bfill')\n",
    "# predictions_df.reset_index(inplace=True)\n",
    "predictions_df['event'] = predictions_df['asleep_diff'].replace({1 : 'onset', -1 : 'wakeup'})\n",
    "\n",
    "predictions_df"
   ]
  },
  {
   "cell_type": "code",
   "execution_count": 40,
   "id": "c309acf4",
   "metadata": {
    "execution": {
     "iopub.execute_input": "2023-10-05T15:28:30.141477Z",
     "iopub.status.busy": "2023-10-05T15:28:30.141100Z",
     "iopub.status.idle": "2023-10-05T15:28:30.171195Z",
     "shell.execute_reply": "2023-10-05T15:28:30.170075Z"
    },
    "papermill": {
     "duration": 0.391861,
     "end_time": "2023-10-05T15:28:30.173601",
     "exception": false,
     "start_time": "2023-10-05T15:28:29.781740",
     "status": "completed"
    },
    "tags": []
   },
   "outputs": [
    {
     "data": {
      "text/plain": [
       "event\n",
       "0.0       414876\n",
       "onset       2862\n",
       "wakeup      2862\n",
       "Name: count, dtype: int64"
      ]
     },
     "execution_count": 40,
     "metadata": {},
     "output_type": "execute_result"
    }
   ],
   "source": [
    "predictions_df['event'].value_counts()"
   ]
  },
  {
   "cell_type": "markdown",
   "id": "b58e5cf8",
   "metadata": {
    "papermill": {
     "duration": 0.366187,
     "end_time": "2023-10-05T15:28:30.972635",
     "exception": false,
     "start_time": "2023-10-05T15:28:30.606448",
     "status": "completed"
    },
    "tags": []
   },
   "source": [
    "It seems to be predicting the asleep state quite well (and hence also the transitions or events - yippie!)."
   ]
  },
  {
   "cell_type": "code",
   "execution_count": 41,
   "id": "524dad47",
   "metadata": {
    "execution": {
     "iopub.execute_input": "2023-10-05T15:28:31.726421Z",
     "iopub.status.busy": "2023-10-05T15:28:31.725459Z",
     "iopub.status.idle": "2023-10-05T15:28:59.059550Z",
     "shell.execute_reply": "2023-10-05T15:28:59.058337Z"
    },
    "papermill": {
     "duration": 27.721641,
     "end_time": "2023-10-05T15:28:59.063756",
     "exception": false,
     "start_time": "2023-10-05T15:28:31.342115",
     "status": "completed"
    },
    "tags": []
   },
   "outputs": [],
   "source": [
    "# Save the RNN model\n",
    "RNN_name = 'RNN_' + str(NBR_TRAINING_SERIES) + '_SERIES_' + str(EPOCHS)+ '_EPOCHS'\n",
    "current_time = datetime.now().strftime(\"%Y-%m-%d-%H-%M-%S\")\n",
    "RNN.save(f'{RNN_name}_{current_time}')"
   ]
  },
  {
   "cell_type": "markdown",
   "id": "a4110629",
   "metadata": {
    "papermill": {
     "duration": 0.433173,
     "end_time": "2023-10-05T15:28:59.852205",
     "exception": false,
     "start_time": "2023-10-05T15:28:59.419032",
     "status": "completed"
    },
    "tags": []
   },
   "source": [
    "### Make predictions for submission\n",
    "---\n",
    "\n",
    "Still stuck with the \"notebook threw exception\" error !!!\n",
    "\n",
    "So zeroing in....\n"
   ]
  },
  {
   "cell_type": "code",
   "execution_count": 42,
   "id": "ac02a295",
   "metadata": {
    "execution": {
     "iopub.execute_input": "2023-10-05T15:29:00.554637Z",
     "iopub.status.busy": "2023-10-05T15:29:00.553817Z",
     "iopub.status.idle": "2023-10-05T15:29:00.569985Z",
     "shell.execute_reply": "2023-10-05T15:29:00.568772Z"
    },
    "papermill": {
     "duration": 0.370965,
     "end_time": "2023-10-05T15:29:00.572301",
     "exception": false,
     "start_time": "2023-10-05T15:29:00.201336",
     "status": "completed"
    },
    "tags": []
   },
   "outputs": [
    {
     "data": {
      "text/html": [
       "<div>\n",
       "<style scoped>\n",
       "    .dataframe tbody tr th:only-of-type {\n",
       "        vertical-align: middle;\n",
       "    }\n",
       "\n",
       "    .dataframe tbody tr th {\n",
       "        vertical-align: top;\n",
       "    }\n",
       "\n",
       "    .dataframe thead th {\n",
       "        text-align: right;\n",
       "    }\n",
       "</style>\n",
       "<table border=\"1\" class=\"dataframe\">\n",
       "  <thead>\n",
       "    <tr style=\"text-align: right;\">\n",
       "      <th></th>\n",
       "      <th>series_id</th>\n",
       "      <th>step</th>\n",
       "      <th>timestamp</th>\n",
       "      <th>anglez</th>\n",
       "      <th>enmo</th>\n",
       "    </tr>\n",
       "  </thead>\n",
       "  <tbody>\n",
       "    <tr>\n",
       "      <th>0</th>\n",
       "      <td>038441c925bb</td>\n",
       "      <td>0</td>\n",
       "      <td>2018-08-14T15:30:00-0400</td>\n",
       "      <td>2.64</td>\n",
       "      <td>2.17e-02</td>\n",
       "    </tr>\n",
       "    <tr>\n",
       "      <th>1</th>\n",
       "      <td>038441c925bb</td>\n",
       "      <td>1</td>\n",
       "      <td>2018-08-14T15:30:05-0400</td>\n",
       "      <td>2.64</td>\n",
       "      <td>2.15e-02</td>\n",
       "    </tr>\n",
       "    <tr>\n",
       "      <th>2</th>\n",
       "      <td>038441c925bb</td>\n",
       "      <td>2</td>\n",
       "      <td>2018-08-14T15:30:10-0400</td>\n",
       "      <td>2.64</td>\n",
       "      <td>2.16e-02</td>\n",
       "    </tr>\n",
       "    <tr>\n",
       "      <th>3</th>\n",
       "      <td>038441c925bb</td>\n",
       "      <td>3</td>\n",
       "      <td>2018-08-14T15:30:15-0400</td>\n",
       "      <td>2.64</td>\n",
       "      <td>2.13e-02</td>\n",
       "    </tr>\n",
       "    <tr>\n",
       "      <th>4</th>\n",
       "      <td>038441c925bb</td>\n",
       "      <td>4</td>\n",
       "      <td>2018-08-14T15:30:20-0400</td>\n",
       "      <td>2.64</td>\n",
       "      <td>2.15e-02</td>\n",
       "    </tr>\n",
       "    <tr>\n",
       "      <th>...</th>\n",
       "      <td>...</td>\n",
       "      <td>...</td>\n",
       "      <td>...</td>\n",
       "      <td>...</td>\n",
       "      <td>...</td>\n",
       "    </tr>\n",
       "    <tr>\n",
       "      <th>445</th>\n",
       "      <td>0402a003dae9</td>\n",
       "      <td>145</td>\n",
       "      <td>2018-12-18T12:57:05-0500</td>\n",
       "      <td>-59.70</td>\n",
       "      <td>6.01e-02</td>\n",
       "    </tr>\n",
       "    <tr>\n",
       "      <th>446</th>\n",
       "      <td>0402a003dae9</td>\n",
       "      <td>146</td>\n",
       "      <td>2018-12-18T12:57:10-0500</td>\n",
       "      <td>-35.66</td>\n",
       "      <td>4.27e-02</td>\n",
       "    </tr>\n",
       "    <tr>\n",
       "      <th>447</th>\n",
       "      <td>0402a003dae9</td>\n",
       "      <td>147</td>\n",
       "      <td>2018-12-18T12:57:15-0500</td>\n",
       "      <td>-21.58</td>\n",
       "      <td>3.09e-02</td>\n",
       "    </tr>\n",
       "    <tr>\n",
       "      <th>448</th>\n",
       "      <td>0402a003dae9</td>\n",
       "      <td>148</td>\n",
       "      <td>2018-12-18T12:57:20-0500</td>\n",
       "      <td>-42.62</td>\n",
       "      <td>3.28e-02</td>\n",
       "    </tr>\n",
       "    <tr>\n",
       "      <th>449</th>\n",
       "      <td>0402a003dae9</td>\n",
       "      <td>149</td>\n",
       "      <td>2018-12-18T12:57:25-0500</td>\n",
       "      <td>7.03</td>\n",
       "      <td>8.10e-03</td>\n",
       "    </tr>\n",
       "  </tbody>\n",
       "</table>\n",
       "<p>450 rows × 5 columns</p>\n",
       "</div>"
      ],
      "text/plain": [
       "        series_id  step                 timestamp  anglez      enmo\n",
       "0    038441c925bb     0  2018-08-14T15:30:00-0400    2.64  2.17e-02\n",
       "1    038441c925bb     1  2018-08-14T15:30:05-0400    2.64  2.15e-02\n",
       "2    038441c925bb     2  2018-08-14T15:30:10-0400    2.64  2.16e-02\n",
       "3    038441c925bb     3  2018-08-14T15:30:15-0400    2.64  2.13e-02\n",
       "4    038441c925bb     4  2018-08-14T15:30:20-0400    2.64  2.15e-02\n",
       "..            ...   ...                       ...     ...       ...\n",
       "445  0402a003dae9   145  2018-12-18T12:57:05-0500  -59.70  6.01e-02\n",
       "446  0402a003dae9   146  2018-12-18T12:57:10-0500  -35.66  4.27e-02\n",
       "447  0402a003dae9   147  2018-12-18T12:57:15-0500  -21.58  3.09e-02\n",
       "448  0402a003dae9   148  2018-12-18T12:57:20-0500  -42.62  3.28e-02\n",
       "449  0402a003dae9   149  2018-12-18T12:57:25-0500    7.03  8.10e-03\n",
       "\n",
       "[450 rows x 5 columns]"
      ]
     },
     "execution_count": 42,
     "metadata": {},
     "output_type": "execute_result"
    }
   ],
   "source": [
    "test_series"
   ]
  },
  {
   "cell_type": "code",
   "execution_count": 43,
   "id": "3b22d403",
   "metadata": {
    "execution": {
     "iopub.execute_input": "2023-10-05T15:29:01.282192Z",
     "iopub.status.busy": "2023-10-05T15:29:01.281764Z",
     "iopub.status.idle": "2023-10-05T15:29:01.289202Z",
     "shell.execute_reply": "2023-10-05T15:29:01.288038Z"
    },
    "papermill": {
     "duration": 0.365668,
     "end_time": "2023-10-05T15:29:01.291432",
     "exception": false,
     "start_time": "2023-10-05T15:29:00.925764",
     "status": "completed"
    },
    "tags": []
   },
   "outputs": [
    {
     "name": "stdout",
     "output_type": "stream",
     "text": [
      "Nbr. test series for submission: 3\n",
      "['038441c925bb', '03d92c9f6f8a', '0402a003dae9']\n"
     ]
    }
   ],
   "source": [
    "test_series_ids = list(test_series['series_id'].unique())\n",
    "NBR_TEST_SERIES = len(test_series_ids)\n",
    "\n",
    "print('Nbr. test series for submission: ' + str(NBR_TEST_SERIES))\n",
    "print(test_series_ids)"
   ]
  },
  {
   "cell_type": "code",
   "execution_count": 44,
   "id": "9a233362",
   "metadata": {
    "execution": {
     "iopub.execute_input": "2023-10-05T15:29:02.086170Z",
     "iopub.status.busy": "2023-10-05T15:29:02.085065Z",
     "iopub.status.idle": "2023-10-05T15:29:02.120060Z",
     "shell.execute_reply": "2023-10-05T15:29:02.118784Z"
    },
    "papermill": {
     "duration": 0.395806,
     "end_time": "2023-10-05T15:29:02.122072",
     "exception": false,
     "start_time": "2023-10-05T15:29:01.726266",
     "status": "completed"
    },
    "tags": []
   },
   "outputs": [
    {
     "data": {
      "text/html": [
       "<div>\n",
       "<style scoped>\n",
       "    .dataframe tbody tr th:only-of-type {\n",
       "        vertical-align: middle;\n",
       "    }\n",
       "\n",
       "    .dataframe tbody tr th {\n",
       "        vertical-align: top;\n",
       "    }\n",
       "\n",
       "    .dataframe thead th {\n",
       "        text-align: right;\n",
       "    }\n",
       "</style>\n",
       "<table border=\"1\" class=\"dataframe\">\n",
       "  <thead>\n",
       "    <tr style=\"text-align: right;\">\n",
       "      <th></th>\n",
       "      <th>series_id</th>\n",
       "      <th>step</th>\n",
       "      <th>timestamp</th>\n",
       "      <th>anglez</th>\n",
       "      <th>enmo</th>\n",
       "      <th>enmo_diff</th>\n",
       "      <th>anglez_diff</th>\n",
       "      <th>enmo_ma</th>\n",
       "      <th>anglez_ma</th>\n",
       "    </tr>\n",
       "  </thead>\n",
       "  <tbody>\n",
       "    <tr>\n",
       "      <th>0</th>\n",
       "      <td>038441c925bb</td>\n",
       "      <td>0</td>\n",
       "      <td>2018-08-14T15:30:00-0400</td>\n",
       "      <td>2.64</td>\n",
       "      <td>2.17e-02</td>\n",
       "      <td>-2.00e-04</td>\n",
       "      <td>1.00e-04</td>\n",
       "      <td>0.02</td>\n",
       "      <td>2.69</td>\n",
       "    </tr>\n",
       "    <tr>\n",
       "      <th>1</th>\n",
       "      <td>038441c925bb</td>\n",
       "      <td>1</td>\n",
       "      <td>2018-08-14T15:30:05-0400</td>\n",
       "      <td>2.64</td>\n",
       "      <td>2.15e-02</td>\n",
       "      <td>-2.00e-04</td>\n",
       "      <td>1.00e-04</td>\n",
       "      <td>0.02</td>\n",
       "      <td>2.69</td>\n",
       "    </tr>\n",
       "    <tr>\n",
       "      <th>2</th>\n",
       "      <td>038441c925bb</td>\n",
       "      <td>2</td>\n",
       "      <td>2018-08-14T15:30:10-0400</td>\n",
       "      <td>2.64</td>\n",
       "      <td>2.16e-02</td>\n",
       "      <td>1.00e-04</td>\n",
       "      <td>2.00e-04</td>\n",
       "      <td>0.02</td>\n",
       "      <td>2.69</td>\n",
       "    </tr>\n",
       "    <tr>\n",
       "      <th>3</th>\n",
       "      <td>038441c925bb</td>\n",
       "      <td>3</td>\n",
       "      <td>2018-08-14T15:30:15-0400</td>\n",
       "      <td>2.64</td>\n",
       "      <td>2.13e-02</td>\n",
       "      <td>-3.00e-04</td>\n",
       "      <td>-2.00e-04</td>\n",
       "      <td>0.02</td>\n",
       "      <td>2.69</td>\n",
       "    </tr>\n",
       "    <tr>\n",
       "      <th>4</th>\n",
       "      <td>038441c925bb</td>\n",
       "      <td>4</td>\n",
       "      <td>2018-08-14T15:30:20-0400</td>\n",
       "      <td>2.64</td>\n",
       "      <td>2.15e-02</td>\n",
       "      <td>2.00e-04</td>\n",
       "      <td>0.00e+00</td>\n",
       "      <td>0.02</td>\n",
       "      <td>2.69</td>\n",
       "    </tr>\n",
       "    <tr>\n",
       "      <th>...</th>\n",
       "      <td>...</td>\n",
       "      <td>...</td>\n",
       "      <td>...</td>\n",
       "      <td>...</td>\n",
       "      <td>...</td>\n",
       "      <td>...</td>\n",
       "      <td>...</td>\n",
       "      <td>...</td>\n",
       "      <td>...</td>\n",
       "    </tr>\n",
       "    <tr>\n",
       "      <th>445</th>\n",
       "      <td>0402a003dae9</td>\n",
       "      <td>145</td>\n",
       "      <td>2018-12-18T12:57:05-0500</td>\n",
       "      <td>-59.70</td>\n",
       "      <td>6.01e-02</td>\n",
       "      <td>4.07e-02</td>\n",
       "      <td>-5.59e+01</td>\n",
       "      <td>0.05</td>\n",
       "      <td>-29.69</td>\n",
       "    </tr>\n",
       "    <tr>\n",
       "      <th>446</th>\n",
       "      <td>0402a003dae9</td>\n",
       "      <td>146</td>\n",
       "      <td>2018-12-18T12:57:10-0500</td>\n",
       "      <td>-35.66</td>\n",
       "      <td>4.27e-02</td>\n",
       "      <td>-1.74e-02</td>\n",
       "      <td>2.40e+01</td>\n",
       "      <td>0.05</td>\n",
       "      <td>-30.24</td>\n",
       "    </tr>\n",
       "    <tr>\n",
       "      <th>447</th>\n",
       "      <td>0402a003dae9</td>\n",
       "      <td>147</td>\n",
       "      <td>2018-12-18T12:57:15-0500</td>\n",
       "      <td>-21.58</td>\n",
       "      <td>3.09e-02</td>\n",
       "      <td>-1.18e-02</td>\n",
       "      <td>1.41e+01</td>\n",
       "      <td>0.05</td>\n",
       "      <td>-27.94</td>\n",
       "    </tr>\n",
       "    <tr>\n",
       "      <th>448</th>\n",
       "      <td>0402a003dae9</td>\n",
       "      <td>148</td>\n",
       "      <td>2018-12-18T12:57:20-0500</td>\n",
       "      <td>-42.62</td>\n",
       "      <td>3.28e-02</td>\n",
       "      <td>1.90e-03</td>\n",
       "      <td>-2.10e+01</td>\n",
       "      <td>0.05</td>\n",
       "      <td>-28.08</td>\n",
       "    </tr>\n",
       "    <tr>\n",
       "      <th>449</th>\n",
       "      <td>0402a003dae9</td>\n",
       "      <td>149</td>\n",
       "      <td>2018-12-18T12:57:25-0500</td>\n",
       "      <td>7.03</td>\n",
       "      <td>8.10e-03</td>\n",
       "      <td>-2.47e-02</td>\n",
       "      <td>4.96e+01</td>\n",
       "      <td>0.05</td>\n",
       "      <td>-24.54</td>\n",
       "    </tr>\n",
       "  </tbody>\n",
       "</table>\n",
       "<p>450 rows × 9 columns</p>\n",
       "</div>"
      ],
      "text/plain": [
       "        series_id  step                 timestamp  anglez      enmo  \\\n",
       "0    038441c925bb     0  2018-08-14T15:30:00-0400    2.64  2.17e-02   \n",
       "1    038441c925bb     1  2018-08-14T15:30:05-0400    2.64  2.15e-02   \n",
       "2    038441c925bb     2  2018-08-14T15:30:10-0400    2.64  2.16e-02   \n",
       "3    038441c925bb     3  2018-08-14T15:30:15-0400    2.64  2.13e-02   \n",
       "4    038441c925bb     4  2018-08-14T15:30:20-0400    2.64  2.15e-02   \n",
       "..            ...   ...                       ...     ...       ...   \n",
       "445  0402a003dae9   145  2018-12-18T12:57:05-0500  -59.70  6.01e-02   \n",
       "446  0402a003dae9   146  2018-12-18T12:57:10-0500  -35.66  4.27e-02   \n",
       "447  0402a003dae9   147  2018-12-18T12:57:15-0500  -21.58  3.09e-02   \n",
       "448  0402a003dae9   148  2018-12-18T12:57:20-0500  -42.62  3.28e-02   \n",
       "449  0402a003dae9   149  2018-12-18T12:57:25-0500    7.03  8.10e-03   \n",
       "\n",
       "     enmo_diff  anglez_diff  enmo_ma  anglez_ma  \n",
       "0    -2.00e-04     1.00e-04     0.02       2.69  \n",
       "1    -2.00e-04     1.00e-04     0.02       2.69  \n",
       "2     1.00e-04     2.00e-04     0.02       2.69  \n",
       "3    -3.00e-04    -2.00e-04     0.02       2.69  \n",
       "4     2.00e-04     0.00e+00     0.02       2.69  \n",
       "..         ...          ...      ...        ...  \n",
       "445   4.07e-02    -5.59e+01     0.05     -29.69  \n",
       "446  -1.74e-02     2.40e+01     0.05     -30.24  \n",
       "447  -1.18e-02     1.41e+01     0.05     -27.94  \n",
       "448   1.90e-03    -2.10e+01     0.05     -28.08  \n",
       "449  -2.47e-02     4.96e+01     0.05     -24.54  \n",
       "\n",
       "[450 rows x 9 columns]"
      ]
     },
     "execution_count": 44,
     "metadata": {},
     "output_type": "execute_result"
    }
   ],
   "source": [
    "series = {}\n",
    "for id in test_series_ids:\n",
    "    series[id] = test_series[test_series['series_id']==id]\n",
    "    series[id]['enmo_diff'] = series[id]['enmo'].diff(1)\n",
    "    series[id]['anglez_diff'] = series[id]['anglez'].diff(1)\n",
    "    series[id]['enmo_ma'] = series[id]['enmo'].rolling(12).mean()\n",
    "    series[id]['anglez_ma'] = series[id]['anglez'].rolling(12).mean() \n",
    "test_series = pd.concat([series[id] for id in test_series_ids], axis=0)\n",
    "test_series = test_series.fillna(method='bfill')\n",
    "\n",
    "test_series"
   ]
  },
  {
   "cell_type": "code",
   "execution_count": 45,
   "id": "444c22b1",
   "metadata": {
    "execution": {
     "iopub.execute_input": "2023-10-05T15:29:02.875396Z",
     "iopub.status.busy": "2023-10-05T15:29:02.874786Z",
     "iopub.status.idle": "2023-10-05T15:29:02.884915Z",
     "shell.execute_reply": "2023-10-05T15:29:02.884062Z"
    },
    "papermill": {
     "duration": 0.408686,
     "end_time": "2023-10-05T15:29:02.887066",
     "exception": false,
     "start_time": "2023-10-05T15:29:02.478380",
     "status": "completed"
    },
    "tags": []
   },
   "outputs": [
    {
     "data": {
      "text/plain": [
       "series_id      False\n",
       "step           False\n",
       "timestamp      False\n",
       "anglez         False\n",
       "enmo           False\n",
       "enmo_diff      False\n",
       "anglez_diff    False\n",
       "enmo_ma        False\n",
       "anglez_ma      False\n",
       "dtype: bool"
      ]
     },
     "execution_count": 45,
     "metadata": {},
     "output_type": "execute_result"
    }
   ],
   "source": [
    "test_series.isnull().any()"
   ]
  },
  {
   "cell_type": "code",
   "execution_count": 46,
   "id": "e33d532d",
   "metadata": {
    "execution": {
     "iopub.execute_input": "2023-10-05T15:29:03.749390Z",
     "iopub.status.busy": "2023-10-05T15:29:03.748942Z",
     "iopub.status.idle": "2023-10-05T15:29:03.921802Z",
     "shell.execute_reply": "2023-10-05T15:29:03.921041Z"
    },
    "papermill": {
     "duration": 0.623601,
     "end_time": "2023-10-05T15:29:03.924330",
     "exception": false,
     "start_time": "2023-10-05T15:29:03.300729",
     "status": "completed"
    },
    "tags": []
   },
   "outputs": [
    {
     "name": "stdout",
     "output_type": "stream",
     "text": [
      "1/1 [==============================] - 0s 105ms/step\n"
     ]
    }
   ],
   "source": [
    "# Isolate test set predictors\n",
    "X_test = test_series[features].to_numpy().reshape(NBR_TEST_SERIES, TIMESTEPS, NBR_FEATURES)\n",
    "\n",
    "# Make submission predictions\n",
    "test_predictions = RNN.predict(X_test)\n",
    "test_classes = np.where(test_predictions > 0.5, 1,0)\n",
    "\n",
    "# Reshape\n",
    "test_predictions = test_predictions.reshape(NBR_TEST_SERIES*TIMESTEPS, 1)\n",
    "test_classes = test_classes.reshape(NBR_TEST_SERIES*TIMESTEPS, 1)"
   ]
  },
  {
   "cell_type": "code",
   "execution_count": 47,
   "id": "1092238d",
   "metadata": {
    "execution": {
     "iopub.execute_input": "2023-10-05T15:29:04.637520Z",
     "iopub.status.busy": "2023-10-05T15:29:04.637119Z",
     "iopub.status.idle": "2023-10-05T15:29:04.660296Z",
     "shell.execute_reply": "2023-10-05T15:29:04.659252Z"
    },
    "papermill": {
     "duration": 0.38234,
     "end_time": "2023-10-05T15:29:04.662487",
     "exception": false,
     "start_time": "2023-10-05T15:29:04.280147",
     "status": "completed"
    },
    "tags": []
   },
   "outputs": [
    {
     "data": {
      "text/html": [
       "<div>\n",
       "<style scoped>\n",
       "    .dataframe tbody tr th:only-of-type {\n",
       "        vertical-align: middle;\n",
       "    }\n",
       "\n",
       "    .dataframe tbody tr th {\n",
       "        vertical-align: top;\n",
       "    }\n",
       "\n",
       "    .dataframe thead th {\n",
       "        text-align: right;\n",
       "    }\n",
       "</style>\n",
       "<table border=\"1\" class=\"dataframe\">\n",
       "  <thead>\n",
       "    <tr style=\"text-align: right;\">\n",
       "      <th></th>\n",
       "      <th>series_id</th>\n",
       "      <th>step</th>\n",
       "      <th>asleep</th>\n",
       "      <th>asleep_diff</th>\n",
       "      <th>event</th>\n",
       "      <th>score</th>\n",
       "    </tr>\n",
       "  </thead>\n",
       "  <tbody>\n",
       "    <tr>\n",
       "      <th>0</th>\n",
       "      <td>038441c925bb</td>\n",
       "      <td>0</td>\n",
       "      <td>0</td>\n",
       "      <td>0.0</td>\n",
       "      <td>0.0</td>\n",
       "      <td>0.41</td>\n",
       "    </tr>\n",
       "    <tr>\n",
       "      <th>1</th>\n",
       "      <td>038441c925bb</td>\n",
       "      <td>1</td>\n",
       "      <td>0</td>\n",
       "      <td>0.0</td>\n",
       "      <td>0.0</td>\n",
       "      <td>0.44</td>\n",
       "    </tr>\n",
       "    <tr>\n",
       "      <th>2</th>\n",
       "      <td>038441c925bb</td>\n",
       "      <td>2</td>\n",
       "      <td>0</td>\n",
       "      <td>0.0</td>\n",
       "      <td>0.0</td>\n",
       "      <td>0.45</td>\n",
       "    </tr>\n",
       "    <tr>\n",
       "      <th>3</th>\n",
       "      <td>038441c925bb</td>\n",
       "      <td>3</td>\n",
       "      <td>0</td>\n",
       "      <td>0.0</td>\n",
       "      <td>0.0</td>\n",
       "      <td>0.43</td>\n",
       "    </tr>\n",
       "    <tr>\n",
       "      <th>4</th>\n",
       "      <td>038441c925bb</td>\n",
       "      <td>4</td>\n",
       "      <td>0</td>\n",
       "      <td>0.0</td>\n",
       "      <td>0.0</td>\n",
       "      <td>0.39</td>\n",
       "    </tr>\n",
       "    <tr>\n",
       "      <th>...</th>\n",
       "      <td>...</td>\n",
       "      <td>...</td>\n",
       "      <td>...</td>\n",
       "      <td>...</td>\n",
       "      <td>...</td>\n",
       "      <td>...</td>\n",
       "    </tr>\n",
       "    <tr>\n",
       "      <th>445</th>\n",
       "      <td>0402a003dae9</td>\n",
       "      <td>145</td>\n",
       "      <td>1</td>\n",
       "      <td>0.0</td>\n",
       "      <td>0.0</td>\n",
       "      <td>0.99</td>\n",
       "    </tr>\n",
       "    <tr>\n",
       "      <th>446</th>\n",
       "      <td>0402a003dae9</td>\n",
       "      <td>146</td>\n",
       "      <td>1</td>\n",
       "      <td>0.0</td>\n",
       "      <td>0.0</td>\n",
       "      <td>1.00</td>\n",
       "    </tr>\n",
       "    <tr>\n",
       "      <th>447</th>\n",
       "      <td>0402a003dae9</td>\n",
       "      <td>147</td>\n",
       "      <td>1</td>\n",
       "      <td>0.0</td>\n",
       "      <td>0.0</td>\n",
       "      <td>1.00</td>\n",
       "    </tr>\n",
       "    <tr>\n",
       "      <th>448</th>\n",
       "      <td>0402a003dae9</td>\n",
       "      <td>148</td>\n",
       "      <td>1</td>\n",
       "      <td>0.0</td>\n",
       "      <td>0.0</td>\n",
       "      <td>1.00</td>\n",
       "    </tr>\n",
       "    <tr>\n",
       "      <th>449</th>\n",
       "      <td>0402a003dae9</td>\n",
       "      <td>149</td>\n",
       "      <td>1</td>\n",
       "      <td>0.0</td>\n",
       "      <td>0.0</td>\n",
       "      <td>1.00</td>\n",
       "    </tr>\n",
       "  </tbody>\n",
       "</table>\n",
       "<p>450 rows × 6 columns</p>\n",
       "</div>"
      ],
      "text/plain": [
       "        series_id  step  asleep  asleep_diff event  score\n",
       "0    038441c925bb     0       0          0.0   0.0   0.41\n",
       "1    038441c925bb     1       0          0.0   0.0   0.44\n",
       "2    038441c925bb     2       0          0.0   0.0   0.45\n",
       "3    038441c925bb     3       0          0.0   0.0   0.43\n",
       "4    038441c925bb     4       0          0.0   0.0   0.39\n",
       "..            ...   ...     ...          ...   ...    ...\n",
       "445  0402a003dae9   145       1          0.0   0.0   0.99\n",
       "446  0402a003dae9   146       1          0.0   0.0   1.00\n",
       "447  0402a003dae9   147       1          0.0   0.0   1.00\n",
       "448  0402a003dae9   148       1          0.0   0.0   1.00\n",
       "449  0402a003dae9   149       1          0.0   0.0   1.00\n",
       "\n",
       "[450 rows x 6 columns]"
      ]
     },
     "execution_count": 47,
     "metadata": {},
     "output_type": "execute_result"
    }
   ],
   "source": [
    "# Build predictions dataframe\n",
    "sub_predictions = test_series[['series_id', 'step']]\n",
    "sub_predictions ['asleep'] =  test_classes\n",
    "sub_predictions['asleep_diff'] = sub_predictions['asleep'].diff(1).fillna(method='bfill')\n",
    "sub_predictions['event'] = sub_predictions['asleep_diff'].replace({1 : 'onset', -1 : 'wakeup'})\n",
    "sub_predictions['score'] = test_predictions\n",
    "\n",
    "sub_predictions"
   ]
  },
  {
   "cell_type": "code",
   "execution_count": 48,
   "id": "2ee34782",
   "metadata": {
    "execution": {
     "iopub.execute_input": "2023-10-05T15:29:05.386250Z",
     "iopub.status.busy": "2023-10-05T15:29:05.385247Z",
     "iopub.status.idle": "2023-10-05T15:29:05.978314Z",
     "shell.execute_reply": "2023-10-05T15:29:05.976642Z"
    },
    "papermill": {
     "duration": 0.956278,
     "end_time": "2023-10-05T15:29:05.980750",
     "exception": false,
     "start_time": "2023-10-05T15:29:05.024472",
     "status": "completed"
    },
    "tags": []
   },
   "outputs": [
    {
     "data": {
      "image/png": "[encoded data removed]",
      "text/plain": [
       "<Figure size 800x600 with 3 Axes>"
      ]
     },
     "metadata": {},
     "output_type": "display_data"
    }
   ],
   "source": [
    "fig, ax = plt.subplots(3,1, figsize=(8,6), sharex=True)\n",
    "i = 0\n",
    "for id in test_series_ids:\n",
    "    ax[i].set_title('series_id: ' + id, loc='left', fontsize=10)\n",
    "    ax[i].plot(sub_predictions[sub_predictions['series_id']==id]['step'],\n",
    "               sub_predictions[sub_predictions['series_id']==id]['asleep'], lw=1.5)\n",
    "    i = i + 1\n",
    "plt.xlabel('step')\n",
    "plt.show()"
   ]
  },
  {
   "cell_type": "markdown",
   "id": "cbe9a4ab",
   "metadata": {
    "papermill": {
     "duration": 0.351469,
     "end_time": "2023-10-05T15:29:06.759682",
     "exception": false,
     "start_time": "2023-10-05T15:29:06.408213",
     "status": "completed"
    },
    "tags": []
   },
   "source": [
    "I will just select the single event from each series_id with the best score."
   ]
  },
  {
   "cell_type": "code",
   "execution_count": 49,
   "id": "e57c2b9c",
   "metadata": {
    "execution": {
     "iopub.execute_input": "2023-10-05T15:29:07.470776Z",
     "iopub.status.busy": "2023-10-05T15:29:07.470398Z",
     "iopub.status.idle": "2023-10-05T15:29:07.491295Z",
     "shell.execute_reply": "2023-10-05T15:29:07.490137Z"
    },
    "papermill": {
     "duration": 0.374769,
     "end_time": "2023-10-05T15:29:07.494502",
     "exception": false,
     "start_time": "2023-10-05T15:29:07.119733",
     "status": "completed"
    },
    "tags": []
   },
   "outputs": [
    {
     "data": {
      "text/html": [
       "<div>\n",
       "<style scoped>\n",
       "    .dataframe tbody tr th:only-of-type {\n",
       "        vertical-align: middle;\n",
       "    }\n",
       "\n",
       "    .dataframe tbody tr th {\n",
       "        vertical-align: top;\n",
       "    }\n",
       "\n",
       "    .dataframe thead th {\n",
       "        text-align: right;\n",
       "    }\n",
       "</style>\n",
       "<table border=\"1\" class=\"dataframe\">\n",
       "  <thead>\n",
       "    <tr style=\"text-align: right;\">\n",
       "      <th></th>\n",
       "      <th>row_id</th>\n",
       "      <th>series_id</th>\n",
       "      <th>step</th>\n",
       "      <th>event</th>\n",
       "      <th>score</th>\n",
       "    </tr>\n",
       "  </thead>\n",
       "  <tbody>\n",
       "    <tr>\n",
       "      <th>0</th>\n",
       "      <td>0</td>\n",
       "      <td>038441c925bb</td>\n",
       "      <td>77</td>\n",
       "      <td>onset</td>\n",
       "      <td>0.60</td>\n",
       "    </tr>\n",
       "    <tr>\n",
       "      <th>1</th>\n",
       "      <td>1</td>\n",
       "      <td>03d92c9f6f8a</td>\n",
       "      <td>0</td>\n",
       "      <td>wakeup</td>\n",
       "      <td>0.18</td>\n",
       "    </tr>\n",
       "    <tr>\n",
       "      <th>2</th>\n",
       "      <td>2</td>\n",
       "      <td>03d92c9f6f8a</td>\n",
       "      <td>38</td>\n",
       "      <td>onset</td>\n",
       "      <td>0.53</td>\n",
       "    </tr>\n",
       "    <tr>\n",
       "      <th>3</th>\n",
       "      <td>3</td>\n",
       "      <td>03d92c9f6f8a</td>\n",
       "      <td>65</td>\n",
       "      <td>wakeup</td>\n",
       "      <td>0.49</td>\n",
       "    </tr>\n",
       "    <tr>\n",
       "      <th>4</th>\n",
       "      <td>4</td>\n",
       "      <td>03d92c9f6f8a</td>\n",
       "      <td>85</td>\n",
       "      <td>onset</td>\n",
       "      <td>0.50</td>\n",
       "    </tr>\n",
       "    <tr>\n",
       "      <th>5</th>\n",
       "      <td>5</td>\n",
       "      <td>0402a003dae9</td>\n",
       "      <td>82</td>\n",
       "      <td>wakeup</td>\n",
       "      <td>0.50</td>\n",
       "    </tr>\n",
       "    <tr>\n",
       "      <th>6</th>\n",
       "      <td>6</td>\n",
       "      <td>0402a003dae9</td>\n",
       "      <td>123</td>\n",
       "      <td>onset</td>\n",
       "      <td>0.50</td>\n",
       "    </tr>\n",
       "  </tbody>\n",
       "</table>\n",
       "</div>"
      ],
      "text/plain": [
       "   row_id     series_id  step   event  score\n",
       "0       0  038441c925bb    77   onset   0.60\n",
       "1       1  03d92c9f6f8a     0  wakeup   0.18\n",
       "2       2  03d92c9f6f8a    38   onset   0.53\n",
       "3       3  03d92c9f6f8a    65  wakeup   0.49\n",
       "4       4  03d92c9f6f8a    85   onset   0.50\n",
       "5       5  0402a003dae9    82  wakeup   0.50\n",
       "6       6  0402a003dae9   123   onset   0.50"
      ]
     },
     "execution_count": 49,
     "metadata": {},
     "output_type": "execute_result"
    }
   ],
   "source": [
    "# Isolate detected events\n",
    "sub_predictions = sub_predictions.loc[((sub_predictions[\"event\"]=='onset') |\n",
    "                                       (sub_predictions[\"event\"]=='wakeup'))\n",
    "                                     ][[\"series_id\",\"step\",\"event\",\"score\"]].copy().reset_index(drop=True).reset_index(names=\"row_id\")\n",
    "sub_predictions"
   ]
  },
  {
   "cell_type": "code",
   "execution_count": 50,
   "id": "8842e0a3",
   "metadata": {
    "execution": {
     "iopub.execute_input": "2023-10-05T15:29:08.307396Z",
     "iopub.status.busy": "2023-10-05T15:29:08.305904Z",
     "iopub.status.idle": "2023-10-05T15:29:08.332902Z",
     "shell.execute_reply": "2023-10-05T15:29:08.331821Z"
    },
    "papermill": {
     "duration": 0.473476,
     "end_time": "2023-10-05T15:29:08.335060",
     "exception": false,
     "start_time": "2023-10-05T15:29:07.861584",
     "status": "completed"
    },
    "tags": []
   },
   "outputs": [
    {
     "data": {
      "text/html": [
       "<div>\n",
       "<style scoped>\n",
       "    .dataframe tbody tr th:only-of-type {\n",
       "        vertical-align: middle;\n",
       "    }\n",
       "\n",
       "    .dataframe tbody tr th {\n",
       "        vertical-align: top;\n",
       "    }\n",
       "\n",
       "    .dataframe thead th {\n",
       "        text-align: right;\n",
       "    }\n",
       "</style>\n",
       "<table border=\"1\" class=\"dataframe\">\n",
       "  <thead>\n",
       "    <tr style=\"text-align: right;\">\n",
       "      <th></th>\n",
       "      <th>row_id</th>\n",
       "      <th>series_id</th>\n",
       "      <th>step</th>\n",
       "      <th>event</th>\n",
       "      <th>score</th>\n",
       "    </tr>\n",
       "  </thead>\n",
       "  <tbody>\n",
       "    <tr>\n",
       "      <th>0</th>\n",
       "      <td>0</td>\n",
       "      <td>038441c925bb</td>\n",
       "      <td>77</td>\n",
       "      <td>onset</td>\n",
       "      <td>0.60</td>\n",
       "    </tr>\n",
       "    <tr>\n",
       "      <th>1</th>\n",
       "      <td>1</td>\n",
       "      <td>03d92c9f6f8a</td>\n",
       "      <td>38</td>\n",
       "      <td>onset</td>\n",
       "      <td>0.53</td>\n",
       "    </tr>\n",
       "    <tr>\n",
       "      <th>2</th>\n",
       "      <td>2</td>\n",
       "      <td>0402a003dae9</td>\n",
       "      <td>123</td>\n",
       "      <td>onset</td>\n",
       "      <td>0.50</td>\n",
       "    </tr>\n",
       "  </tbody>\n",
       "</table>\n",
       "</div>"
      ],
      "text/plain": [
       "   row_id     series_id  step  event  score\n",
       "0       0  038441c925bb    77  onset   0.60\n",
       "1       1  03d92c9f6f8a    38  onset   0.53\n",
       "2       2  0402a003dae9   123  onset   0.50"
      ]
     },
     "execution_count": 50,
     "metadata": {},
     "output_type": "execute_result"
    }
   ],
   "source": [
    "# Obtain best predictions (predicted events with highest score)\n",
    "best_preds = {}\n",
    "for id in test_series_ids: \n",
    "    best_preds[id] = sub_predictions[sub_predictions['series_id']==id]\n",
    "    best_preds[id] = best_preds[id][best_preds[id]['score']==best_preds[id]['score'].max()]\n",
    "#     print(best_preds[id])\n",
    "#     print()\n",
    "\n",
    "# Concat single best events (highest scores) into a submission dataframe\n",
    "submission_df = pd.concat([best_preds[id] for id in test_series_ids]).drop(columns='row_id').reset_index(drop=True).reset_index(names=\"row_id\")\n",
    "\n",
    "# Save submission data to csv file\n",
    "submission_df.to_csv('submission.csv', index=False)\n",
    "\n",
    "submission_df"
   ]
  },
  {
   "cell_type": "code",
   "execution_count": null,
   "id": "cbae1c63",
   "metadata": {
    "papermill": {
     "duration": 0.363771,
     "end_time": "2023-10-05T15:29:09.064109",
     "exception": false,
     "start_time": "2023-10-05T15:29:08.700338",
     "status": "completed"
    },
    "tags": []
   },
   "outputs": [],
   "source": []
  },
  {
   "cell_type": "markdown",
   "id": "1d607420",
   "metadata": {
    "papermill": {
     "duration": 0.355545,
     "end_time": "2023-10-05T15:29:09.771490",
     "exception": false,
     "start_time": "2023-10-05T15:29:09.415945",
     "status": "completed"
    },
    "tags": []
   },
   "source": [
    "---"
   ]
  }
 ],
 "metadata": {
  "kernelspec": {
   "display_name": "Python [conda env:Kaggle_SL]",
   "language": "python",
   "name": "conda-env-Kaggle_SL-py"
  },
  "language_info": {
   "codemirror_mode": {
    "name": "ipython",
    "version": 3
   },
   "file_extension": ".py",
   "mimetype": "text/x-python",
   "name": "python",
   "nbconvert_exporter": "python",
   "pygments_lexer": "ipython3",
   "version": "3.10.8"
  },
  "papermill": {
   "default_parameters": {},
   "duration": 3559.56169,
   "end_time": "2023-10-05T15:29:13.236436",
   "environment_variables": {},
   "exception": null,
   "input_path": "__notebook__.ipynb",
   "output_path": "__notebook__.ipynb",
   "parameters": {},
   "start_time": "2023-10-05T14:29:53.674746",
   "version": "2.4.0"
  }
 },
 "nbformat": 4,
 "nbformat_minor": 5
}
